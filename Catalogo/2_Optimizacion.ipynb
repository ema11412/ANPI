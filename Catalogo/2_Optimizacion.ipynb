{
 "cells": [
  {
   "cell_type": "markdown",
   "metadata": {
    "kernel": "SoS"
   },
   "source": [
    "<h1 style=\"text-align: center;\"><strong>2. Optimización</strong></h1>"
   ]
  },
  {
   "cell_type": "markdown",
   "metadata": {
    "kernel": "SoS"
   },
   "source": [
    "<h2 style=\"text-align: center;\"><span style=\"text-decoration: underline; color: #008080;\"><strong>Algoritmos</strong></span></h2>\n",
    "\n",
    "[<strong>M&eacute;todo 1: Gradiente conjugado</strong>](#grad)\n",
    "\n",
    "[<strong>M&eacute;todo 2: Descenso coordinado</strong>](#dec)\n",
    "\n"
   ]
  },
  {
   "cell_type": "markdown",
   "metadata": {
    "kernel": "SoS"
   },
   "source": [
    "<h2 style=\"text-align: center;\"><span style=\"text-decoration: underline; color: #008080;\"><strong>Galculo de gradiente</strong></span></h2>"
   ]
  },
  {
   "cell_type": "code",
   "execution_count": null,
   "metadata": {
    "kernel": "Python 3"
   },
   "outputs": [],
   "source": [
    "from sympy import *\n",
    "from numpy import *\n",
    "#from ast import literal_eval\n",
    "def gradi(func,var):\n",
    "    func_s = sympify(func)\n",
    "    var_s = literal_eval(var);\n",
    "    ans = [];\n",
    "    for i in var_s:\n",
    "        sym = Symbol(i);\n",
    "        ans.append(func_s.diff(sym))\n",
    "    return ans\n",
    "print(gradi(\"x^2+y^3+z^2\",\"['x','y','z']\"));"
   ]
  },
  {
   "cell_type": "code",
   "execution_count": null,
   "metadata": {
    "kernel": "Octave"
   },
   "outputs": [],
   "source": [
    "n = length(variables);   % Cantidad de variables\n",
    "\n",
    "    % Se calcula el gradiente\n",
    "    gradiente = [];\n",
    "    for i = 1:n\n",
    "        gradiente = [gradiente, diff(sym(str_funcion), sym(variables(i)))];\n",
    "    end  % for i = 1:n\n",
    "\n",
    "function result = evaluar_gradiente(gradiente, variables, vector)\n",
    "\n",
    "    n = length(variables);\n",
    "    resultado = [];\n",
    "    % Se recorren cada una de las derivadas parciales en el gradiente\n",
    "    for i = 1:n\n",
    "        % Se obtiene la derivada parcial\n",
    "        funcion = gradiente(i);\n",
    "\n",
    "        % Se sustituyen las variables por los valores en el vector\n",
    "        for x = 1:n\n",
    "            funcion = subs(funcion, variables(x), vector(x));\n",
    "        end  %x = 1:n\n",
    "\n",
    "        resultado = [resultado double(funcion)];\n",
    "\n",
    "    end  %for i = 1:n\n",
    "    result = resultado;\n",
    "\n",
    "end  % evaluar_gradiente(gradiente, variables, vector)\n"
   ]
  },
  {
   "cell_type": "markdown",
   "metadata": {
    "kernel": "SoS"
   },
   "source": [
    "<a id='grad'></a>\n",
    "<h2><span style=\"color: #993300;\"><span style=\"text-decoration: underline;\"><strong>M&eacute;todo 1:</strong> Gradiente conjugado</span></span></h2>"
   ]
  },
  {
   "cell_type": "markdown",
   "metadata": {
    "kernel": "SoS"
   },
   "source": [
    "<h3><strong>a) Formulaci&oacute;n Matem&aacute;tica</strong></h3>"
   ]
  },
  {
   "cell_type": "markdown",
   "metadata": {
    "kernel": "SoS"
   },
   "source": [
    "$$\\min_{x\\in \\mathbb{R}^n}= f\\left ( x\\right )$$"
   ]
  },
  {
   "cell_type": "markdown",
   "metadata": {
    "kernel": "SoS"
   },
   "source": [
    "<h3><strong>b) Valores Iniciales</strong></h3>"
   ]
  },
  {
   "cell_type": "markdown",
   "metadata": {
    "kernel": "SoS"
   },
   "source": [
    "* $x^{(0)}\\in \\mathbb{R}^n$ "
   ]
  },
  {
   "cell_type": "markdown",
   "metadata": {
    "kernel": "SoS"
   },
   "source": [
    "<h3><strong>c) Ventajas y Desvantajas</strong></h3>"
   ]
  },
  {
   "cell_type": "markdown",
   "metadata": {
    "kernel": "SoS"
   },
   "source": [
    "**Ventajas**\n",
    "\n",
    "\n",
    "* Permite acelerar la convergencia.\n",
    "* Evita los requisitos de computacion asociados a la evaluacion, almacenamiento e inversion del Hessiano.\n",
    "* Resulta mas eficaz que el de Metodo del Descenso del Gradiente\n",
    "\n",
    "**Desventajas**\n",
    "\n",
    "\n",
    "* Se puede producir una dependencia lineal de las direcciones de busqueda.\n",
    "* Posee una costosa evaluaci´on del gradiente."
   ]
  },
  {
   "cell_type": "markdown",
   "metadata": {
    "kernel": "SoS"
   },
   "source": [
    "<h3><strong>d) Pasos del m&eacute;todo (Pseudoc&oacute;digo)</strong></h3>"
   ]
  },
  {
   "cell_type": "markdown",
   "metadata": {
    "kernel": "SoS"
   },
   "source": [
    "<div class=\"alert alert-block alert-info\">\n",
    "    \n",
    "    \n",
    "<p><span style=\"text-decoration: underline;\"><span style=\"text-decoration: underline;\"><strong>Valores Iniciales:</strong></span></span> $x^{(0)}$</p>\n",
    "\n",
    "<p>&nbsp; &nbsp; &nbsp; &nbsp; &nbsp;<span style=\"text-decoration: underline;\">Paso 1:</span> Se requiere el vector inicial $x^{(0)}$, con este se determinan los valores de $g$ y $d$</p>\n",
    "\n",
    "<p>&nbsp; &nbsp; &nbsp; &nbsp; &nbsp;<span style=\"text-decoration: underline;\">Paso 2:</span> Se determina la constante $a_k$ que satisface la siguiente desigualdad $f(x^k + a_kd^k) − f(x_k) \\leq\n",
    "\\delta a_k(g^{(k)})^t d^{k}$ <p>\n",
    "    \n",
    "&nbsp; &nbsp; &nbsp; &nbsp; &nbsp;<span style=\"text-decoration: underline;\">Paso 3:</span> Si no cumple la inecuacion se divide a la mitad el valor de $a_k$.</p>\n",
    "\n",
    "&nbsp; &nbsp; &nbsp; &nbsp; &nbsp;<span style=\"text-decoration: underline;\">Paso 4:</span> Si se cumple la condicion de parada se detiene el calculo de $a_k$.</p>\n",
    "\n",
    "&nbsp; &nbsp; &nbsp; &nbsp; &nbsp;<span style=\"text-decoration: underline;\">Paso 5:</span> Se determina el valor de $x^{k+1}$ y con este dato los valores de $g^{k+1}$ y $d^{k+1}$</p>\n",
    "\n",
    "&nbsp; &nbsp; &nbsp; &nbsp; &nbsp;<span style=\"text-decoration: underline;\">Paso 6:</span> Se repiten los pasos anteriores para las nuevas iteraciones $(k)$</p>\n",
    "</p>\n",
    "\n",
    "</div>"
   ]
  },
  {
   "cell_type": "markdown",
   "metadata": {
    "kernel": "SoS"
   },
   "source": [
    "<h3><strong>e) C&oacute;digo en GNU Octave</strong></h3>"
   ]
  },
  {
   "cell_type": "code",
   "execution_count": null,
   "metadata": {
    "kernel": "SoS"
   },
   "outputs": [],
   "source": [
    "##-"
   ]
  },
  {
   "cell_type": "markdown",
   "metadata": {
    "kernel": "SoS"
   },
   "source": [
    "<h3><strong>f) C&oacute;digo Python</strong></h3>"
   ]
  },
  {
   "cell_type": "code",
   "execution_count": null,
   "metadata": {
    "kernel": "SoS"
   },
   "outputs": [],
   "source": [
    "##-"
   ]
  },
  {
   "cell_type": "markdown",
   "metadata": {
    "kernel": "SoS"
   },
   "source": [
    "<h3><strong>g) Ejemplo Num&eacute;rico</strong></h3>"
   ]
  },
  {
   "cell_type": "markdown",
   "metadata": {
    "kernel": "SoS"
   },
   "source": [
    "<div class=\"alert alert-block alert-info\">\n",
    "    \n",
    "Determine los valores que minimisa la funcion $f(x,y) = (x-2)^2 + (y+3)^2 +xy$\n",
    "\n",
    "* Utilizando 9 iteraciones maximas\n",
    "* Vector inicial $[1,1]$\n",
    "</div>"
   ]
  },
  {
   "cell_type": "code",
   "execution_count": null,
   "metadata": {
    "kernel": "SoS"
   },
   "outputs": [],
   "source": []
  },
  {
   "cell_type": "code",
   "execution_count": null,
   "metadata": {
    "kernel": "SoS"
   },
   "outputs": [],
   "source": []
  },
  {
   "cell_type": "markdown",
   "metadata": {
    "kernel": "SoS"
   },
   "source": [
    "<a id='dec'></a>\n",
    "<h2><span style=\"color: #993300;\"><span style=\"text-decoration: underline;\"><strong>M&eacute;todo 2:</strong> Descenso coordinado</span></span></h2>"
   ]
  },
  {
   "cell_type": "markdown",
   "metadata": {
    "kernel": "SoS"
   },
   "source": [
    "<h3><strong>a) Formulaci&oacute;n Matem&aacute;tica</strong></h3>"
   ]
  },
  {
   "cell_type": "markdown",
   "metadata": {
    "kernel": "SoS"
   },
   "source": [
    "$$x_j^{(k)} \\in \\mathrm{arg} \\min_{x_j\\in \\mathbb{R}}\n",
    " f \\left(  x_1^{(k-1)}, ... x_{j-1}^{(k-1)}, x_j , x_{j+1}^{(k-1)}, . . . , x_n^{(k-1)} \\right),$$\n",
    "Para $j=1,...,n$"
   ]
  },
  {
   "cell_type": "markdown",
   "metadata": {
    "kernel": "SoS"
   },
   "source": [
    "<h3><strong>b) Valores Iniciales</strong></h3>"
   ]
  },
  {
   "cell_type": "markdown",
   "metadata": {
    "kernel": "SoS"
   },
   "source": [
    "* $x^{(0)}$"
   ]
  },
  {
   "cell_type": "markdown",
   "metadata": {
    "kernel": "SoS"
   },
   "source": [
    "<h3><strong>c) Ventajas y Desvantajas</strong></h3>"
   ]
  },
  {
   "cell_type": "markdown",
   "metadata": {
    "kernel": "SoS"
   },
   "source": [
    "**Ventajas**\n",
    "\n",
    "\n",
    "* Su principal ventaja es su r´apida convergencia.\n",
    "\n",
    "**Desventajas**\n",
    "\n",
    "* Posee convergencia local."
   ]
  },
  {
   "cell_type": "markdown",
   "metadata": {
    "kernel": "SoS"
   },
   "source": [
    "<h3><strong>d) Pasos del m&eacute;todo (Pseudoc&oacute;digo)</strong></h3>"
   ]
  },
  {
   "cell_type": "markdown",
   "metadata": {
    "kernel": "SoS"
   },
   "source": [
    "<div class=\"alert alert-block alert-info\">\n",
    "    \n",
    "    \n",
    "<p><span style=\"text-decoration: underline;\"><span style=\"text-decoration: underline;\"><strong>Valores Iniciales:</strong></span></span> $x^{(0)}$</p>\n",
    "<p>&nbsp; &nbsp; &nbsp; &nbsp; &nbsp;<span style=\"text-decoration: underline;\">Paso 1:</span> Calcular el $x^{(k)}$ inicial utilizando los valores de entrada recibidos.</p>\n",
    "<p>&nbsp; &nbsp; &nbsp; &nbsp; &nbsp;<span style=\"text-decoration: underline;\">Paso 2:</span>Usando la regla de Jacobi o de Gauss-Seidel encontrar valores de $x_j^{(n)}$ </p>\n",
    "<p>&nbsp; &nbsp; &nbsp; &nbsp; &nbsp;<span style=\"text-decoration: underline;\">Paso 3: </span>  Repetir el paso anterior hasta cumplir con la condici´on de parada </p>\n",
    "\n",
    "</div>"
   ]
  },
  {
   "cell_type": "markdown",
   "metadata": {
    "kernel": "SoS"
   },
   "source": [
    "<h3><strong>e) C&oacute;digo en GNU Octave</strong></h3>"
   ]
  },
  {
   "cell_type": "code",
   "execution_count": null,
   "metadata": {
    "kernel": "Octave"
   },
   "outputs": [],
   "source": [
    "pkg load symbolic\n",
    "\n",
    "function vecR = desCor(fun,vec,it)\n",
    "    #Simtaxis\n",
    "    # la funcion de entrada fun es de 2 variables, el vecto inicial de largo 2 y la cantidad de iteraciones it es un numero entero\n",
    "    #\n",
    "    #\n",
    "    #Entradas: \n",
    "    #Funcion de dos variables, Vector inicial, cantidad de iteraciones\n",
    "    #\n",
    "    #Salida:\n",
    "    #Vector con valores que minimizan la funcion f\n",
    "    vecR=vec;\n",
    "    f = sp.expand(fun); \n",
    "    k=0;\n",
    "    while k <= it\n",
    "        \n",
    "        print(vecR)\n",
    "        if (k==0)\n",
    "            fx = getFYk(f,vecR(0));\n",
    "            nX = argminX(fx);\n",
    "            fy = getFXk(f,nX);\n",
    "            nY = maxi(fy,y);\n",
    "            vec(0) = argminY(fx);\n",
    "            vec(1) = argminY(fy);\n",
    "            k=k+1;\n",
    "        end\n",
    "        else  \n",
    "            fx = getFYk(f,nY);\n",
    "            nX = argminX(fx);\n",
    "            fy = getFXk(f,nX);\n",
    "            nY = argminY(fy);\n",
    "            vecR(0) = nX;\n",
    "            vecR(1) = nY;\n",
    "            k=k+1;\n",
    "        end\n",
    "     vecR\n",
    " end \n",
    "\n",
    "function sol = argminX(f)\n",
    "    syms x; \n",
    "    fdx = calDerivada(f);  \n",
    "    str1 = '==0';  \n",
    "    sol = solve((strcat(fdx, str1)), x); \n",
    "endfunction\n",
    "\n",
    "function sol = argminY(f)\n",
    "    syms y;  \n",
    "    fdx = calDerivada(f);  \n",
    "    str1 = '==0'; \n",
    "    sol = solve((strcat(fdx, str1)), y); \n",
    "endfunction\n",
    "\n",
    "function fxk = getFYk(f, x)\n",
    "    fxk = evaluarX(f, x); \n",
    "endfunction\n",
    "    \n",
    "function fyk = getFXk(f, x)\n",
    "    fyk = evaluarY(f, x); \n",
    "endfunction  \n"
   ]
  },
  {
   "cell_type": "markdown",
   "metadata": {
    "kernel": "SoS"
   },
   "source": [
    "<h3><strong>f) C&oacute;digo Python</strong></h3>"
   ]
  },
  {
   "cell_type": "code",
   "execution_count": 15,
   "metadata": {
    "kernel": "Python 3"
   },
   "outputs": [],
   "source": [
    "import numpy as np\n",
    "import math\n",
    "from pprint import pprint\n",
    "from sympy import *\n",
    "from sympy.plotting import plot\n",
    "from sympy.abc import *\n",
    "\n",
    "def desCor(f,vec,it):\n",
    "    #Simtaxis\n",
    "    # la funcion de entrada f es de 2 variables, el vecto inicial de largo 2 y la cantidad de iteraciones it es un numero entero\n",
    "    #\n",
    "    #\n",
    "    #Entradas: \n",
    "    #Funcion de dos variables, Vector inicial, cantidad de iteraciones\n",
    "    #\n",
    "    #Salida:\n",
    "    #Vector con valores que minimizan la funcion f\n",
    "    \n",
    "    vecR=vec\n",
    "    k=0\n",
    "    while k <= it:\n",
    "\n",
    "        if k==0:\n",
    "            fx = evaluation(f,'x',vecR[0])\n",
    "            nX = maxi(fx,x)\n",
    "            fy = evaluation(f,'y',nX)\n",
    "            nY = maxi(fy,y)\n",
    "            vec[0] = maxi(fx,x)\n",
    "            vec[1] = maxi(fy,y)\n",
    "            k+=1\n",
    "        else :   \n",
    "            fx = evaluation(f,'x',nY)\n",
    "            nX = maxi(fx,x)\n",
    "            fy = evaluation(f,'y',nX)\n",
    "            nY = maxi(fy,y)\n",
    "            vecR[0] = nX\n",
    "            vecR[1] = nY\n",
    "            k+=1\n",
    "        \n",
    "    return vecR\n",
    "\n",
    "def maxi(f,var):\n",
    "    df = diff(f, var)\n",
    "    pm = solve(Eq(df, 0))\n",
    "    r = float(pm[0])\n",
    "    return r\n",
    "\n",
    "def evaluation(g,variable,valor):\n",
    "    if variable == 'x':\n",
    "        s=(g).subs(y, valor)\n",
    "    if variable == 'y':\n",
    "        s=(g).subs(x, valor)    \n",
    "    return s"
   ]
  },
  {
   "cell_type": "markdown",
   "metadata": {
    "kernel": "SoS"
   },
   "source": [
    "<h3><strong>g) Ejemplo Num&eacute;rico</strong></h3>"
   ]
  },
  {
   "cell_type": "markdown",
   "metadata": {
    "kernel": "SoS"
   },
   "source": [
    "<div class=\"alert alert-block alert-info\">\n",
    "    \n",
    "Determine los valores que minimisa la funcion $f(x,y) = (x-2)^2 + (y+3)^2 +xy$\n",
    "\n",
    "* Utilizando 9 iteraciones maximas\n",
    "* Vector inicial $[1,1]$\n",
    "</div>"
   ]
  },
  {
   "cell_type": "code",
   "execution_count": 23,
   "metadata": {
    "kernel": "Octave"
   },
   "outputs": [
    {
     "data": {
      "text/plain": [
       "[4.666654586792, -5.333327293396]"
      ]
     },
     "execution_count": 23,
     "metadata": {},
     "output_type": "execute_result"
    }
   ],
   "source": [
    "vecR = desCor('(x-2)^2 + (y+3)^2+xy', 1, 1, 9)"
   ]
  },
  {
   "cell_type": "code",
   "execution_count": 14,
   "metadata": {
    "kernel": "Python 3"
   },
   "outputs": [
    {
     "data": {
      "text/plain": [
       "[4.666654586792, -5.333327293396]"
      ]
     },
     "execution_count": 14,
     "metadata": {},
     "output_type": "execute_result"
    }
   ],
   "source": [
    "desCor((x-2)**2+(y+3)**2 + x*y,[1,1],9)"
   ]
  }
 ],
 "metadata": {
  "kernelspec": {
   "display_name": "SoS",
   "language": "sos",
   "name": "sos"
  },
  "language_info": {
   "codemirror_mode": "sos",
   "file_extension": ".sos",
   "mimetype": "text/x-sos",
   "name": "sos",
   "nbconvert_exporter": "sos_notebook.converter.SoS_Exporter",
   "pygments_lexer": "sos"
  },
  "sos": {
   "kernels": [
    [
     "Octave",
     "octave",
     "octave",
     "",
     ""
    ],
    [
     "Python 3",
     "python3",
     "python3",
     "",
     {
      "name": "ipython",
      "version": 3
     }
    ],
    [
     "SoS",
     "sos",
     "",
     "",
     "sos"
    ]
   ],
   "panel": {
    "displayed": false,
    "height": 0
   },
   "version": "0.21.18"
  }
 },
 "nbformat": 4,
 "nbformat_minor": 2
}
