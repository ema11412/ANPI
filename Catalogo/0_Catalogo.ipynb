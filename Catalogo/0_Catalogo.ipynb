{
 "cells": [
  {
   "cell_type": "markdown",
   "metadata": {
    "kernel": "SoS"
   },
   "source": [
    "<div style=\"text-align: center;\" role=\"presentation\">\n",
    "<h1 role=\"presentation\"><strong><span role=\"presentation\">An&aacute;lisis Num&eacute;rico para Ingenier&iacute;a - I Semestre 2020</span></strong></h1>"
   ]
  },
  {
   "cell_type": "markdown",
   "metadata": {
    "kernel": "SoS"
   },
   "source": [
    "<h1 style=\"text-align: center;\"><span style=\"color: #0000ff;\">Cat&aacute;logo de Algoritmos</span></h1>"
   ]
  },
  {
   "cell_type": "markdown",
   "metadata": {
    "kernel": "SoS"
   },
   "source": [
    "<h3><span style=\"text-decoration: underline;\">Nombre:</span>&nbsp;Emanuel Esquivel L&oacute;pez</h3>\n",
    "<h3><span style=\"text-decoration: underline;\">Carnet:</span>&nbsp;2016133597</h3>"
   ]
  },
  {
   "cell_type": "markdown",
   "metadata": {
    "kernel": "SoS"
   },
   "source": [
    "<div class=\"alert alert-block alert-info\">\n",
    "<p><strong>Descripci&oacute;n:&nbsp;</strong>Este documento presenta un cat&aacute;logo de los algoritmos explicados en clases del curso de An&aacute;lisis Num&eacute;rico para Ingenier&iacute;a. Los algoritmos estan dividios en temas, y cada algoritmo contiene una breve descripci&oacute;n de este, explicando los siguientes aspectos:</p>\n",
    "<ul>\n",
    "<li>Formulaci&oacute;n Matem&aacute;tica</li>\n",
    "<li>Valores Iniciales</li>\n",
    "<li>Ventajas y Desventajas</li>\n",
    "<li>Pasos del m&eacute;todo (Pseudoc&oacute;digo)</li>\n",
    "<li>C&oacute;digo del Algoritmo en GNU Octave</li>\n",
    "<li>C&oacute;digo del Algoritmo en Python</li>\n",
    "<li>Ejemplo Num&eacute;rico</li>\n",
    "</ul>\n",
    "</div>"
   ]
  },
  {
   "cell_type": "markdown",
   "metadata": {
    "kernel": "SoS"
   },
   "source": [
    "<h3><span style=\"color: #008080;\"><strong>Temas</strong></span></h3>\n",
    "\n",
    "[<p><strong>1. Soluci&oacute;n de Ecuaciones No Lineales</strong></p>](1_Raices.ipynb)\n",
    "\n",
    "[<p><strong>2. M&eacute;todos Iterativos para Optimizaci&oacute;n</strong></p>](2_Optimizacion.ipynb)\n",
    "\n",
    "[<p><strong>3. Sistemas de Ecuaciones Lineales: M&eacute;todo Directos</strong></p>](3_Sistemas_Ecuaciones_Metodos_Directos.ipynb)\n",
    "\n",
    "[<p><strong>4. Sistemas de Ecuaciones Lineales: M&eacute;todo Iterativos</strong></p>](4_Sistemas_Iterativos.ipynb)\n",
    "\n",
    "[<p><strong>5. Interpolaci&oacute;n Polinomial</strong></p>](5_Interpolacion.ipynb)\n",
    "\n",
    "[<p><strong>6. Integraci&oacute;n Num&eacute;rica</strong></p>](6_Integracion.ipynb)\n",
    "\n",
    "[<p><strong>7. Derivaci&oacute;n Num&eacute;rica</strong></p>](7_Derivadas.ipynb)\n",
    "\n",
    "[<p><strong>8. Soluci&oacute;n Num&eacute;rica de Ecuaciones Diferenciales</strong></p>](8_Ecuaciones_Diferenciales.ipynb)\n",
    "\n",
    "[<p><strong>9. M&eacute;todos Iterativos para Calcular Valores y Vectores Propios</strong></p>](9_Valores_Propios.ipynb)"
   ]
  }
 ],
 "metadata": {
  "kernelspec": {
   "display_name": "Octave",
   "language": "octave",
   "name": "octave"
  },
  "language_info": {
   "file_extension": ".m",
   "help_links": [
    {
     "text": "GNU Octave",
     "url": "https://www.gnu.org/software/octave/support.html"
    },
    {
     "text": "Octave Kernel",
     "url": "https://github.com/Calysto/octave_kernel"
    },
    {
     "text": "MetaKernel Magics",
     "url": "https://metakernel.readthedocs.io/en/latest/source/README.html"
    }
   ],
   "mimetype": "text/x-octave",
   "name": "octave",
   "version": "5.2.0"
  },
  "sos": {
   "kernels": [],
   "panel": {
    "displayed": true,
    "height": 0
   },
   "version": "0.20.6"
  }
 },
 "nbformat": 4,
 "nbformat_minor": 2
}
