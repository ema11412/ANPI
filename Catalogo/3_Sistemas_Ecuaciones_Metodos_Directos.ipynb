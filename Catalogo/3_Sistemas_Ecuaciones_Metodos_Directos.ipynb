{
 "cells": [
  {
   "cell_type": "markdown",
   "metadata": {
    "kernel": "SoS"
   },
   "source": [
    "<h1 style=\"text-align: center;\"><strong>3. Sistemas de Ecuaciones Lineales: Método Directos</strong></h1>"
   ]
  },
  {
   "cell_type": "markdown",
   "metadata": {
    "kernel": "SoS"
   },
   "source": [
    "<h2 style=\"text-align: center;\"><span style=\"text-decoration: underline; color: #008080;\"><strong>Algoritmos</strong></span></h2>\n",
    "\n",
    "[<strong>M&eacute;todo 1: Eliminacion Gaussiana</strong>](#m1)\n",
    "\n",
    "[<strong>M&eacute;todo 2: Factorizacion LU</strong>](#m2)\n",
    "\n",
    "[<strong>M&eacute;todo 3: Factorizacion de Cholesky</strong>](#m3)"
   ]
  },
  {
   "cell_type": "markdown",
   "metadata": {
    "kernel": "SoS"
   },
   "source": [
    "<a id='m1'></a>\n",
    "<h2><span style=\"color: #993300;\"><span style=\"text-decoration: underline;\"><strong>M&eacute;todo 1:</strong> Eliminacion Gaussiana</span></span></h2>"
   ]
  },
  {
   "cell_type": "markdown",
   "metadata": {
    "kernel": "SoS"
   },
   "source": [
    "<h3><strong>a) Formulaci&oacute;n Matem&aacute;tica</strong></h3>"
   ]
  },
  {
   "cell_type": "markdown",
   "metadata": {
    "kernel": "SoS"
   },
   "source": [
    "$$Ax=b$$"
   ]
  },
  {
   "cell_type": "markdown",
   "metadata": {
    "kernel": "SoS"
   },
   "source": [
    "<h3><strong>b) Valores Iniciales</strong></h3>"
   ]
  },
  {
   "cell_type": "markdown",
   "metadata": {
    "kernel": "SoS"
   },
   "source": [
    "* Una matriz $A$ y un vector $b$"
   ]
  },
  {
   "cell_type": "markdown",
   "metadata": {
    "kernel": "SoS"
   },
   "source": [
    "<h3><strong>c) Ventajas y Desvantajas</strong></h3>"
   ]
  },
  {
   "cell_type": "markdown",
   "metadata": {
    "kernel": "SoS"
   },
   "source": [
    "**Ventajas**\n",
    "\n",
    "\n",
    "* Uno de los metodos mas reconocido para resolver sistemas de ecuaciones.\n",
    "* Solo requiere operaciones elementales entre filas de la matriz.\n",
    "* No solo se limita a resolver sistemas de ecuaciones lineales, sino que tambien es aplicable al calculo de inversas de matrices.\n",
    "\n",
    "**Desventajas**\n",
    "\n",
    "\n",
    "* Posible division entre cero en operaciones.\n",
    "* Errores relativamente grandes a la hora de hacer los redondeos."
   ]
  },
  {
   "cell_type": "markdown",
   "metadata": {
    "kernel": "SoS"
   },
   "source": [
    "<h3><strong>d) Pasos del m&eacute;todo (Pseudoc&oacute;digo)</strong></h3>"
   ]
  },
  {
   "cell_type": "markdown",
   "metadata": {
    "kernel": "SoS"
   },
   "source": [
    "<div class=\"alert alert-block alert-info\">\n",
    "    \n",
    "\n",
    "\n",
    "<p><span style=\"text-decoration: underline;\"><span style=\"text-decoration: underline;\"><strong>Valores Iniciales:</strong></span></span> $A$ y $b$</p>\n",
    "<p>&nbsp; &nbsp; &nbsp; &nbsp; &nbsp;<span style=\"text-decoration: underline;\">Paso 1:</span> Se obtiene la matriz del sistema de ecuaciones</p>\n",
    "<p>&nbsp; &nbsp; &nbsp; &nbsp; &nbsp;<span style=\"text-decoration: underline;\">Paso 2:</span> Utilizando la matriz aumentada, se prosigue con operaciones elementales para obtener la matriz en una triangular superior </p>\n",
    "<p>&nbsp; &nbsp; &nbsp; &nbsp; &nbsp;<span style=\"text-decoration: underline;\">Paso 3: </span>  Se continua con la sustitucion hacia atr´as para resolver el nuevo sistema </p>\n",
    "\n",
    "\n",
    "</div>"
   ]
  },
  {
   "cell_type": "markdown",
   "metadata": {
    "kernel": "SoS"
   },
   "source": [
    "<h3><strong>e) C&oacute;digo en GNU Octave</strong></h3>"
   ]
  },
  {
   "cell_type": "code",
   "execution_count": 16,
   "metadata": {
    "kernel": "Octave"
   },
   "outputs": [],
   "source": [
    "pkg load symbolic\n",
    "\n",
    "function x = gaussiana(matriz_a, vector_b)\n",
    "%Simtaxis\n",
    "% La matriz_a es una matriz cuadrada, y el vector_b es un vector del mismo tamaño que las filas de matrizA\n",
    "%\n",
    "% Parametros de entrada\n",
    "% Matriz A, y un vector b\n",
    "%\n",
    "% Salida\n",
    "% Vector x con la solucion del sistema\n",
    "%\n",
    "%\n",
    "    [n, m] = size(matriz_a);\n",
    "    lista_simb = [];\n",
    "\n",
    "    m_aumentada = [];\n",
    "    for i = 1:n\n",
    "        m_aumentada =[m_aumentada; [matriz_a(i,:),  vector_b(i)]];\n",
    "        lista_simb = [lista_simb sym(strcat('x', num2str(i)))];\n",
    "    end  \n",
    "\n",
    "    [L, U] = lu(m_aumentada);\n",
    "    for i = 1:n\n",
    "        sub_lista = U(1+n-i,:);\n",
    "        ecuacion = strcat('-', num2str(sub_lista(m+1)));\n",
    "\n",
    "        for x = 1:m\n",
    "            ecuacion = strcat(ecuacion, ' + ', num2str(sub_lista(x)), ' * ', char(lista_simb(x)));\n",
    "        end \n",
    "\n",
    "        resultado = solve(sym(ecuacion));\n",
    "        lista_simb(1+n-i) = resultado;\n",
    "\n",
    "    end  \n",
    "    x = lista_simb;\n",
    "end"
   ]
  },
  {
   "cell_type": "markdown",
   "metadata": {
    "kernel": "SoS"
   },
   "source": [
    "<h3><strong>f) C&oacute;digo Python</strong></h3>"
   ]
  },
  {
   "cell_type": "code",
   "execution_count": 18,
   "metadata": {
    "kernel": "Python 3"
   },
   "outputs": [],
   "source": [
    "def Gauss(matrizA,b):\n",
    "    #\n",
    "    #Simtaxis\n",
    "    # La matrizA es una matriz cuadrada, y b es un vector del mismo tamaño que las filas de matrizA\n",
    "    #\n",
    "    #Entradas:\n",
    "    #Una matriz CUADRADA matrizA, un vector b del mismo orden que la matriz\n",
    "    #\n",
    "    #\n",
    "    #Salida:\n",
    "    #Valores x soluciones a la ecuacion Ax=b\n",
    "    #\n",
    "    #\n",
    "    #\n",
    "    #\n",
    "    orden=len(matrizA) \n",
    "    columnas=len(matrizA[0])\n",
    "    Lvect = len(b)\n",
    "    matriz = matrizA\n",
    "    pos=0\n",
    "    #Une matriz A con vector b---------\n",
    "    while pos < orden:\n",
    "        matriz[pos] += [b[pos]]\n",
    "        pos+=1\n",
    "    #----------------------------------\n",
    "    for j in range(0,orden+1):\n",
    "        for i in range(0, orden):\n",
    "            if i>j:\n",
    "                division=matriz[i][j]/matriz[j][j]\n",
    "                for k in range(0, orden+1):\n",
    "                    matriz[i][k]=matriz[i][k]-division*matriz[j][k];\n",
    "    x = []\n",
    "    vec=0\n",
    "    while vec < orden:\n",
    "        x+= [0]\n",
    "        vec+=1\n",
    "    for i in range(orden,0,-1):\n",
    "        suma=0\n",
    "        for j in range(i,orden):\n",
    "            suma=suma+matriz[i-1][j]*x[j]\n",
    "        x[i-1]=((matriz[i-1][orden]-suma)/matriz[i-1][i-1])\t\n",
    "    #Muestra el vector X\n",
    "    print (\"x = \",x)"
   ]
  },
  {
   "cell_type": "markdown",
   "metadata": {
    "kernel": "SoS"
   },
   "source": [
    "<h3><strong>g) Ejemplo Num&eacute;rico</strong></h3>"
   ]
  },
  {
   "cell_type": "markdown",
   "metadata": {
    "kernel": "SoS"
   },
   "source": [
    "<div class=\"alert alert-block alert-info\">\n",
    "    \n",
    "Determinar la solucion de la ecuacion del siguente sistema de ecuaciones: \n",
    "\n",
    "\n",
    "$$\\left\\{\\begin{matrix}\n",
    "2x_1 -6x_2+12x_3+16x_4 & = & 70\\\\ \n",
    "x_1 -2x_2+6x_3+6x_4 & = & 26\\\\ \n",
    "-x_1 +3x_2-3x_3-7x_4 & = & -30\\\\ \n",
    " 4x_2+3x_3-6x_4 & = & -26\n",
    "\\end{matrix}\\right.$$\n",
    "</div>"
   ]
  },
  {
   "cell_type": "code",
   "execution_count": 20,
   "metadata": {
    "kernel": "Octave"
   },
   "outputs": [
    {
     "name": "stdout",
     "output_type": "stream",
     "text": [
      "x = (sym) [-2  1  0  5]  (1x4 matrix)\n"
     ]
    }
   ],
   "source": [
    "matriz_a = [2,-6,12,16; 1,-2,6,6; -1,3,-3,-7;0,4,3,-6];\n",
    "vector_b = [70,26,-30,-26];\n",
    "x = gaussiana(matriz_a, vector_b)"
   ]
  },
  {
   "cell_type": "code",
   "execution_count": 19,
   "metadata": {
    "kernel": "Python 3"
   },
   "outputs": [
    {
     "name": "stdout",
     "output_type": "stream",
     "text": [
      "x =  [-2.0, 1.0, 0.0, 5.0]\n"
     ]
    }
   ],
   "source": [
    "matriz = [[2,-6,12,16], [1,-2,6,6], [-1,3,-3,-7],[0,4,3,-6]]\n",
    "vector = [70,26,-30,-26]\n",
    "Gauss(matriz,vector)"
   ]
  },
  {
   "cell_type": "markdown",
   "metadata": {
    "kernel": "SoS"
   },
   "source": [
    "<a id='m2'></a>\n",
    "<h2><span style=\"color: #993300;\"><span style=\"text-decoration: underline;\"><strong>M&eacute;todo 2:</strong> Factorizacion LU</span></span></h2>"
   ]
  },
  {
   "cell_type": "markdown",
   "metadata": {
    "kernel": "SoS"
   },
   "source": [
    "<h3><strong>a) Formulaci&oacute;n Matem&aacute;tica</strong></h3>"
   ]
  },
  {
   "cell_type": "markdown",
   "metadata": {
    "kernel": "SoS"
   },
   "source": [
    "$$Ax=b\\,\\,\\, \\mathrm{con}\\,\\,\\, A=LU$$"
   ]
  },
  {
   "cell_type": "markdown",
   "metadata": {
    "kernel": "SoS"
   },
   "source": [
    "<h3><strong>b) Valores Iniciales</strong></h3>"
   ]
  },
  {
   "cell_type": "markdown",
   "metadata": {
    "kernel": "SoS"
   },
   "source": [
    "* Una matriz $A$ y un vector $b$"
   ]
  },
  {
   "cell_type": "markdown",
   "metadata": {
    "kernel": "SoS"
   },
   "source": [
    "<h3><strong>c) Ventajas y Desvantajas</strong></h3>"
   ]
  },
  {
   "cell_type": "markdown",
   "metadata": {
    "kernel": "SoS"
   },
   "source": [
    "**Ventajas**\n",
    "\n",
    "\n",
    "* Es computacionalmente eficiente.\n",
    "* Disminuye la cantidad de operaciones para resolver un sistema de ecuaciones\n",
    "\n",
    "**Desventajas**\n",
    "\n",
    "* Manualmente resulta un proceso bastante complejo."
   ]
  },
  {
   "cell_type": "markdown",
   "metadata": {
    "kernel": "SoS"
   },
   "source": [
    "<h3><strong>d) Pasos del m&eacute;todo (Pseudoc&oacute;digo)</strong></h3>"
   ]
  },
  {
   "cell_type": "markdown",
   "metadata": {
    "kernel": "SoS"
   },
   "source": [
    "<div class=\"alert alert-block alert-info\">\n",
    "    \n",
    "    \n",
    "<p><span style=\"text-decoration: underline;\"><span style=\"text-decoration: underline;\"><strong>Valores Iniciales:</strong></span></span> $A$ y $b$</p>\n",
    "<p>&nbsp; &nbsp; &nbsp; &nbsp; &nbsp;<span style=\"text-decoration: underline;\">Paso 0:</span> Verificar si $A$ posee factorizacion $LU$, sin no salir</p>\n",
    "<p>&nbsp; &nbsp; &nbsp; &nbsp; &nbsp;<span style=\"text-decoration: underline;\">Paso 1:</span> Se calcula la factorizacion $LU$</p>\n",
    "<p>&nbsp; &nbsp; &nbsp; &nbsp; &nbsp;<span style=\"text-decoration: underline;\">Paso 3: </span> Se realiza el calculo de $Ux$ , Sea $Ux = y$</p>\n",
    "<p>&nbsp; &nbsp; &nbsp; &nbsp; &nbsp;<span style=\"text-decoration: underline;\">Paso 4: </span> Se obtienen los valores de $y = (y_1, y_2 ,y_3 , ..., y_n)$.</p>\n",
    "<p>&nbsp; &nbsp; &nbsp; &nbsp; &nbsp;<span style=\"text-decoration: underline;\">Paso 5: </span> Se calculan los valores de $x = (x_1, x_2, x_3, .... x_n).$.</p>\n",
    "\n",
    "</div>"
   ]
  },
  {
   "cell_type": "markdown",
   "metadata": {
    "kernel": "SoS"
   },
   "source": [
    "<h3><strong>e) C&oacute;digo en GNU Octave</strong></h3>"
   ]
  },
  {
   "cell_type": "code",
   "execution_count": 1,
   "metadata": {
    "kernel": "Octave"
   },
   "outputs": [],
   "source": [
    "pkg load symbolic\n",
    "\n",
    "function vector_x = facLU(matrizA, vector)\n",
    "%Entradas:\n",
    "%Simtaxis\n",
    "% La matrizA es una matriz cuadrada, y el vector es un vector del mismo tamaño que las filas de matrizA\n",
    "%\n",
    "% Matriz A \n",
    "% Vector b\n",
    "%\n",
    "%Salida:\n",
    "%Vector X con las soluciones\n",
    "\n",
    "[L,U,P] = lu(matrizA);\n",
    "vector0 = P*vector;\n",
    "vecY = adelante(L,vector0);\n",
    "vecX =double(atras(U,double(vecY)));\n",
    "\n",
    "vector_x = vecX;\n",
    "end  \n",
    "\n",
    "function matriz = adelante(matriz_a, matriz_b)\n",
    "    [n, m] = size(matriz_a);\n",
    "    lista_simb = [];\n",
    "\n",
    "    for i = 1:n\n",
    "        lista_simb = [lista_simb; sym(strcat('x', num2str(i)))];\n",
    "    end  \n",
    "\n",
    "    for i = 1:n\n",
    "        sub_lista = matriz_a(i,:);\n",
    "        ecuacion = strcat('-', num2str(matriz_b(i)));\n",
    "\n",
    "        for x = 1:m\n",
    "            ecuacion = strcat(ecuacion, ' + ', num2str(sub_lista(x)), ' * ', char(lista_simb(x)));\n",
    "        end  \n",
    "\n",
    "        resultado = solve(sym(ecuacion));\n",
    "        lista_simb(i) = resultado;\n",
    "\n",
    "    end  \n",
    "\n",
    "    matriz = lista_simb;\n",
    "\n",
    "end  \n",
    "\n",
    "\n",
    "function matriz = atras(matriz_a, matriz_b)\n",
    "    [n, m] = size(matriz_a);\n",
    "    lista_simb = [];\n",
    "\n",
    "    for i = 1:n\n",
    "        lista_simb = [lista_simb; sym(strcat('x', num2str(i)))];\n",
    "    end \n",
    "\n",
    "\n",
    "    for i = 1:n\n",
    "        sub_lista = matriz_a(1+n-i,:);\n",
    "        ecuacion = strcat('-', num2str(matriz_b(1+n-i)));\n",
    "\n",
    "\n",
    "        for x = 1:m\n",
    "            ecuacion = strcat(ecuacion, ' + ', num2str(sub_lista(x)), ' * ', char(lista_simb(x)));\n",
    "        end  \n",
    "\n",
    "\n",
    "        resultado = solve(sym(ecuacion));\n",
    "        lista_simb(1+n-i) = resultado;\n",
    "\n",
    "    end  \n",
    "\n",
    "    matriz = lista_simb;\n",
    "end "
   ]
  },
  {
   "cell_type": "markdown",
   "metadata": {
    "kernel": "SoS"
   },
   "source": [
    "<h3><strong>f) C&oacute;digo Python</strong></h3>"
   ]
  },
  {
   "cell_type": "code",
   "execution_count": 17,
   "metadata": {
    "kernel": "Python 3"
   },
   "outputs": [],
   "source": [
    "import numpy as np\n",
    "\n",
    "def factLU(matriz,vector):\n",
    "    #\n",
    "    #Simtaxis\n",
    "    # La matriz es una matriz cuadrada, y el vector es un vector del mismo tamaño que las filas de matriz\n",
    "    #\n",
    "    #Entradas:\n",
    "    #Una matriz CUADRADA, un vector  del mismo orden que la matriz\n",
    "    #\n",
    "    #\n",
    "    #Salida:\n",
    "    #Valores x soluciones a la ecuacion Ax=LUx=b\n",
    "    #\n",
    "    #\n",
    "    #\n",
    "    #  \n",
    "    U = LU(matriz,\"U\")\n",
    "    L = LU(matriz,\"L\")\n",
    "    y =  haciaAtras(L,vector) \n",
    "    x =  haciaAdelante(U,y) \n",
    "    \n",
    "    return x\n",
    "\n",
    "def LU(matriz,o):\n",
    "    A = np.array(matriz)\n",
    "    orden = A.shape\n",
    "    L = np.zeros(orden)\n",
    "    U = np.zeros(orden)\n",
    "    \n",
    "    for j in range(orden[0]):\n",
    "        L[j,j] = 1.0\n",
    "        for i in range(j+1,orden[0]):\n",
    "            L[i,j] = A[i,j]/A[j,j]\n",
    "            for k in range(j+1,orden[0]):\n",
    "                A[i,k] = A[i,k] - L[i,j]*A[j,k]\n",
    "        for k in range(j,orden[0]):\n",
    "            U[j,k] = A[j,k]\n",
    "\n",
    "    if o == \"U\":\n",
    "        return U\n",
    "    else:\n",
    "        return L"
   ]
  },
  {
   "cell_type": "markdown",
   "metadata": {
    "kernel": "SoS"
   },
   "source": [
    "<h3><strong>g) Ejemplo Num&eacute;rico</strong></h3>"
   ]
  },
  {
   "cell_type": "markdown",
   "metadata": {
    "kernel": "SoS"
   },
   "source": [
    "<div class=\"alert alert-block alert-info\">\n",
    "    \n",
    "Determinar la solucion de la ecuacion del siguente sistema de ecuaciones: \n",
    "\n",
    "\n",
    "$$\\left\\{\\begin{matrix}\n",
    "24x_1 +15x_2+-5x_3+10x_4 & = & -25\\\\ \n",
    "15x_1 +10x_2+x_3-7x_4 & = & -19\\\\ \n",
    "-5x_1 +x_2+21x_3+4x_4 & = & -21\\\\ \n",
    " -10x_1-7x_2+4x_3 +18x_4 & = & -5\n",
    "\\end{matrix}\\right.$$\n",
    "</div>"
   ]
  },
  {
   "cell_type": "code",
   "execution_count": 2,
   "metadata": {
    "kernel": "Octave"
   },
   "outputs": [
    {
     "name": "stdout",
     "output_type": "stream",
     "text": [
      "Symbolic pkg v2.9.0: Python communication link active, SymPy v1.5.1.\n",
      "x =\n",
      "\n",
      "  -0.99938\n",
      "  -1.00103\n",
      "  -0.99978\n",
      "  -1.00010\n",
      "\n"
     ]
    }
   ],
   "source": [
    "x = facLU([25,15,-5,-10; 15,10,1,-7; -5,1,21,4;-10,-7,4,18], [-25 ;-19 ;-21; -5])"
   ]
  },
  {
   "cell_type": "code",
   "execution_count": 18,
   "metadata": {
    "kernel": "Python 3"
   },
   "outputs": [
    {
     "data": {
      "text/plain": [
       "[-1.0, -1.0, -1.0, -1.0]"
      ]
     },
     "execution_count": 18,
     "metadata": {},
     "output_type": "execute_result"
    }
   ],
   "source": [
    "A = [[25,15,-5,-10], [15,10,1,-7], [-5,1,21,4], [-10,-7,4,18]]\n",
    "b = [-25,-19,-21,-5]\n",
    "factLU(A,b)"
   ]
  },
  {
   "cell_type": "markdown",
   "metadata": {
    "kernel": "SoS"
   },
   "source": [
    "<a id='m3'></a>\n",
    "<h2><span style=\"color: #993300;\"><span style=\"text-decoration: underline;\"><strong>M&eacute;todo 2:</strong> Factorizacion de Cholesky</span></span></h2>"
   ]
  },
  {
   "cell_type": "markdown",
   "metadata": {
    "kernel": "SoS"
   },
   "source": [
    "<h3><strong>a) Formulaci&oacute;n Matem&aacute;tica</strong></h3>"
   ]
  },
  {
   "cell_type": "markdown",
   "metadata": {
    "kernel": "SoS"
   },
   "source": [
    "$$Ax = b$$\n",
    "\n",
    "$$A = LL^{t}$$\n"
   ]
  },
  {
   "cell_type": "markdown",
   "metadata": {
    "kernel": "SoS"
   },
   "source": [
    "<h3><strong>b) Valores Iniciales</strong></h3>"
   ]
  },
  {
   "cell_type": "markdown",
   "metadata": {
    "kernel": "SoS"
   },
   "source": [
    "* Una matriz $A$ y un vector $b$"
   ]
  },
  {
   "cell_type": "markdown",
   "metadata": {
    "kernel": "SoS"
   },
   "source": [
    "<h3><strong>c) Ventajas y Desvantajas</strong></h3>"
   ]
  },
  {
   "cell_type": "markdown",
   "metadata": {
    "kernel": "SoS"
   },
   "source": [
    "**Ventajas**\n",
    "\n",
    "\n",
    "*  El cálculo de la matriz T se aprovecha de la simetría de A, por lo que se facilita.\n",
    "*  Permite la generación de vectores aleatorios.\n",
    "\n",
    "**Desventajas**\n",
    "\n",
    "\n",
    "* Requiere el cálculo de $L^{t}$"
   ]
  },
  {
   "cell_type": "markdown",
   "metadata": {
    "kernel": "SoS"
   },
   "source": [
    "<h3><strong>d) Pasos del m&eacute;todo (Pseudoc&oacute;digo)</strong></h3>"
   ]
  },
  {
   "cell_type": "markdown",
   "metadata": {
    "kernel": "SoS"
   },
   "source": [
    "<div class=\"alert alert-block alert-info\">\n",
    "    \n",
    "\n",
    "\n",
    "<p><span style=\"text-decoration: underline;\"><span style=\"text-decoration: underline;\"><strong>Valores Iniciales:</strong></span></span> $A$ y $b$</p>\n",
    "<p>&nbsp; &nbsp; &nbsp; &nbsp; &nbsp;<span style=\"text-decoration: underline;\">Paso 1:</span> Validar la simetría de la matriz $A$.</p>\n",
    "<p>&nbsp; &nbsp; &nbsp; &nbsp; &nbsp;<span style=\"text-decoration: underline;\">Paso 2:</span> Se determina la matriz $L$ y su transpuesta </p>\n",
    "<p>&nbsp; &nbsp; &nbsp; &nbsp; &nbsp;<span style=\"text-decoration: underline;\">Paso 3: </span>  Se resuelve $Ly = b$ para $y$ </p>\n",
    "<p>&nbsp; &nbsp; &nbsp; &nbsp; &nbsp;<span style=\"text-decoration: underline;\">Paso 4: </span>  Finalmente se resuelve $L^{t}x = y$  para $x$. </p>\n",
    "\n",
    "</div>"
   ]
  },
  {
   "cell_type": "markdown",
   "metadata": {
    "kernel": "SoS"
   },
   "source": [
    "\n",
    "<h3><strong>e) C&oacute;digo en GNU Octave</strong></h3>"
   ]
  },
  {
   "cell_type": "code",
   "execution_count": 9,
   "metadata": {
    "kernel": "Octave"
   },
   "outputs": [],
   "source": [
    "pkg load symbolic\n",
    "\n",
    "function vector_x = factorizacion_cholesky(matriz_a, vector_b)\n",
    "%Simtaxis\n",
    "% La matrizA es una matriz_a cuadrada, y el vector es un vector_b del mismo tamaño que las filas de matriz_a\n",
    "%\n",
    "%Entradas:\n",
    "% Matriz A SIMETRICA\n",
    "% Vector b\n",
    "%\n",
    "%Salida:\n",
    "%Vector X con las soluciones\n",
    "    norm_a = norm(matriz_a, 1);\n",
    "    norma_a_t = norm(matriz_a', 1); \n",
    "    matriz_l = chol(matriz_a)';\n",
    "    matriz_y = double(adelante(matriz_l, vector_b));\n",
    "    matriz_x = double(atras(matriz_l', matriz_y));\n",
    "    vector_x = matriz_x;\n",
    "\n",
    "end  \n",
    "\n",
    "function matriz = adelante(matriz_a, matriz_b)\n",
    "    [n, m] = size(matriz_a);\n",
    "    lista_simb = [];\n",
    "\n",
    "    for i = 1:n\n",
    "        lista_simb = [lista_simb; sym(strcat('x', num2str(i)))];\n",
    "    end  \n",
    "\n",
    "    for i = 1:n\n",
    "        sub_lista = matriz_a(i,:);\n",
    "        ecuacion = strcat('-', num2str(matriz_b(i)));\n",
    "\n",
    "        for x = 1:m\n",
    "            ecuacion = strcat(ecuacion, ' + ', num2str(sub_lista(x)), ' * ', char(lista_simb(x)));\n",
    "        end  \n",
    "\n",
    "        resultado = solve(sym(ecuacion));\n",
    "        lista_simb(i) = resultado;\n",
    "\n",
    "    end  \n",
    "\n",
    "    matriz = lista_simb;\n",
    "\n",
    "end  \n",
    "\n",
    "\n",
    "function matriz = atras(matriz_a, matriz_b)\n",
    "    [n, m] = size(matriz_a);\n",
    "    lista_simb = [];\n",
    "\n",
    "    for i = 1:n\n",
    "        lista_simb = [lista_simb; sym(strcat('x', num2str(i)))];\n",
    "    end \n",
    "\n",
    "\n",
    "    for i = 1:n\n",
    "        sub_lista = matriz_a(1+n-i,:);\n",
    "        ecuacion = strcat('-', num2str(matriz_b(1+n-i)));\n",
    "\n",
    "\n",
    "        for x = 1:m\n",
    "            ecuacion = strcat(ecuacion, ' + ', num2str(sub_lista(x)), ' * ', char(lista_simb(x)));\n",
    "        end  \n",
    "\n",
    "\n",
    "        resultado = solve(sym(ecuacion));\n",
    "        lista_simb(1+n-i) = resultado;\n",
    "\n",
    "    end  \n",
    "\n",
    "    matriz = lista_simb;\n",
    "end "
   ]
  },
  {
   "cell_type": "markdown",
   "metadata": {
    "kernel": "SoS"
   },
   "source": [
    "<h3><strong>f) C&oacute;digo Python</strong></h3>"
   ]
  },
  {
   "cell_type": "code",
   "execution_count": 22,
   "metadata": {
    "kernel": "Python 3"
   },
   "outputs": [],
   "source": [
    "import numpy as np\n",
    "from sympy import *\n",
    "import math\n",
    "from pprint import pprint\n",
    "\n",
    "def cholesky(Matriz, vector):\n",
    "    #\n",
    "    #Simtaxis\n",
    "    # La matriz es una matriz cuadrada, y el vector es un vector del mismo tamaño que las filas de matriz\n",
    "    #\n",
    "    #Entradas:\n",
    "    #Una matriz CUADRADA Matriz, un vector del mismo orden que la matriz\n",
    "    #\n",
    "    #\n",
    "    #Salida:\n",
    "    #Valores x soluciones a la ecuacion L*Ltx=b\n",
    "    #\n",
    "    #\n",
    "    #\n",
    "    #\n",
    "    #calcula L\n",
    "     L = matrizT_Inf(Matriz)\n",
    "    #calula L transpuesta\n",
    "     Lt = np.transpose(L)\n",
    "    #determina la solucion de Ly = b\n",
    "     y =  haciaAtras(L,vector) \n",
    "    #determina la solucion de Ltx=y\n",
    "     x =  haciaAdelante(Lt,y) \n",
    "     return x\n",
    "\n",
    "\n",
    "#funciones complementarias.---------------------------------------------\n",
    "#Hace la sustitucion hacia atras\n",
    "def haciaAtras(matriz,b):\n",
    "    k=0\n",
    "    x = []\n",
    "    while k < len(matriz):\n",
    "        if k == 0:\n",
    "            x+= [(b[0]/matriz[0][0])]\n",
    "            k+=1\n",
    "        else:\n",
    "            temp = suma1(matriz, x, b, k)\n",
    "            x+=[temp]\n",
    "\n",
    "            k+=1\n",
    "    return x\n",
    "\n",
    "\n",
    "def suma1(matriz, x,b , k):\n",
    "    i=1\n",
    "    xi = b[k]\n",
    "    suma = 0\n",
    "    while i<=k:\n",
    "        temp = matriz[k][i-1]*x[i-1]\n",
    "        suma += temp\n",
    "        i+=1\n",
    "    xi = (xi - suma)/matriz[k][k]\n",
    "    return xi\n",
    "\n",
    "#Hace la sustitucion hacia adelante----------------------------------\n",
    "def haciaAdelante(Matriz,vector):\n",
    "    b=vector\n",
    "    matriz = Matriz\n",
    "    k=len(b)-1\n",
    "    x = [0] * (len(b))\n",
    "    while 0<=k :\n",
    "        x[k] = (b[k]-suma(matriz[k],x))/(matriz[k][k])\n",
    "        k-=1;\n",
    "    return x\n",
    "\n",
    "\n",
    "def suma(matriz,b):\n",
    "    k=0 \n",
    "    suma=0\n",
    "    for i in b:\n",
    "        suma=suma + i*matriz[k]\n",
    "        k+=1;\n",
    "    return suma;\n",
    "#calcula la matriz triangular inferior\n",
    "def matrizT_Inf(A):\n",
    "    n = len(A)\n",
    "    L = [[0] * n for i in range(n)]\n",
    "    for i in range(n):\n",
    "        for k in range(i+1):\n",
    "            tmp_sum = sum(L[i][j] * L[k][j] for j in range(k))            \n",
    "            if (i == k): \n",
    "                L[i][k] = math.sqrt(A[i][i] - tmp_sum)\n",
    "            else:\n",
    "                L[i][k] = (1 / L[k][k] * (A[i][k] - tmp_sum))\n",
    "    return L"
   ]
  },
  {
   "cell_type": "markdown",
   "metadata": {
    "kernel": "SoS"
   },
   "source": [
    "<h3><strong>g) Ejemplo Num&eacute;rico</strong></h3>"
   ]
  },
  {
   "cell_type": "markdown",
   "metadata": {
    "kernel": "SoS"
   },
   "source": [
    "<div class=\"alert alert-block alert-info\">\n",
    "    \n",
    "Determinar la solucion de la ecuacion del siguente sistema de ecuaciones: \n",
    "\n",
    "\n",
    "$$\\left\\{\\begin{matrix}\n",
    "24x_1 +15x_2+-5x_3+10x_4 & = & -25\\\\ \n",
    "15x_1 +10x_2+x_3-7x_4 & = & -19\\\\ \n",
    "-5x_1 +x_2+21x_3+4x_4 & = & -21\\\\ \n",
    " -10x_1-7x_2+4x_3 +18x_4 & = & -5\n",
    "\\end{matrix}\\right.$$\n",
    "</div>"
   ]
  },
  {
   "cell_type": "code",
   "execution_count": 11,
   "metadata": {
    "kernel": "Octave"
   },
   "outputs": [
    {
     "name": "stdout",
     "output_type": "stream",
     "text": [
      "x =\n",
      "\n",
      "  -1\n",
      "  -1\n",
      "  -1\n",
      "  -1\n",
      "\n"
     ]
    }
   ],
   "source": [
    "x = factorizacion_cholesky([25,15,-5,-10; 15,10,1,-7; -5,1,21,4;-10,-7,4,18], [-25,-19,-21,-5])"
   ]
  },
  {
   "cell_type": "code",
   "execution_count": 23,
   "metadata": {
    "kernel": "Python 3"
   },
   "outputs": [
    {
     "data": {
      "text/plain": [
       "[-1.0, -1.0, -1.0, -1.0]"
      ]
     },
     "execution_count": 23,
     "metadata": {},
     "output_type": "execute_result"
    }
   ],
   "source": [
    "A = [[25,15,-5,-10], [15,10,1,-7], [-5,1,21,4], [-10,-7,4,18]]\n",
    "b = [-25,-19,-21,-5]\n",
    "cholesky(A,b)"
   ]
  }
 ],
 "metadata": {
  "kernelspec": {
   "display_name": "SoS",
   "language": "sos",
   "name": "sos"
  },
  "language_info": {
   "codemirror_mode": "sos",
   "file_extension": ".sos",
   "mimetype": "text/x-sos",
   "name": "sos",
   "nbconvert_exporter": "sos_notebook.converter.SoS_Exporter",
   "pygments_lexer": "sos"
  },
  "sos": {
   "kernels": [
    [
     "Octave",
     "octave",
     "octave",
     "",
     ""
    ],
    [
     "Python 3",
     "python3",
     "python3",
     "",
     {
      "name": "ipython",
      "version": 3
     }
    ]
   ],
   "panel": {
    "displayed": false,
    "height": 0
   },
   "version": "0.21.7"
  }
 },
 "nbformat": 4,
 "nbformat_minor": 2
}
