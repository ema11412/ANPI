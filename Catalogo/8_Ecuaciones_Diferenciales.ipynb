{
 "cells": [
  {
   "cell_type": "markdown",
   "metadata": {
    "kernel": "SoS"
   },
   "source": [
    "<h1 style=\"text-align: center;\"><strong>8. Ecuaciones Diferenciales</strong></h1>"
   ]
  },
  {
   "cell_type": "markdown",
   "metadata": {
    "kernel": "SoS"
   },
   "source": [
    "<h2 style=\"text-align: center;\"><span style=\"text-decoration: underline; color: #008080;\"><strong>Algoritmos</strong></span></h2>\n",
    "\n",
    "[<strong>M&eacute;todo 1: Euler </strong>](#m1)\n",
    "\n",
    "[<strong>M&eacute;todo 2: Predictor-Correptor </strong>](#m2)\n",
    "\n",
    "[<strong>M&eacute;todo 3: Runge-Kutta </strong>](#m3)\n",
    "\n",
    "[<strong>M&eacute;todo 4: Adams-Bashforth</strong>](#m4)"
   ]
  },
  {
   "cell_type": "markdown",
   "metadata": {
    "kernel": "SoS"
   },
   "source": [
    "<a id='m1'></a>\n",
    "<h2><span style=\"color: #993300;\"><span style=\"text-decoration: underline;\"><strong>M&eacute;todo 1:</strong> Euler</span></span></h2>"
   ]
  },
  {
   "cell_type": "markdown",
   "metadata": {
    "kernel": "SoS"
   },
   "source": [
    "<h3><strong>a) Formulaci&oacute;n Matem&aacute;tica</strong></h3>"
   ]
  },
  {
   "cell_type": "markdown",
   "metadata": {
    "kernel": "SoS"
   },
   "source": [
    "\n",
    "$$y(x_{n+1})= y(x_n) + hf(x_n,y(x_n)) $$\n"
   ]
  },
  {
   "cell_type": "markdown",
   "metadata": {
    "kernel": "SoS"
   },
   "source": [
    "<h3><strong>b) Valores Iniciales</strong></h3>"
   ]
  },
  {
   "cell_type": "markdown",
   "metadata": {
    "kernel": "SoS"
   },
   "source": [
    "* Valor $y_0$"
   ]
  },
  {
   "cell_type": "markdown",
   "metadata": {
    "kernel": "SoS"
   },
   "source": [
    "<h3><strong>c) Ventajas y Desvantajas</strong></h3>"
   ]
  },
  {
   "cell_type": "markdown",
   "metadata": {
    "kernel": "SoS"
   },
   "source": [
    "**Ventajas**\n",
    "\n",
    "\n",
    "* El método es explícito, solo utiliza el valor actual para obtener el valor siguiente.\n",
    "\n",
    "**Desventajas**\n",
    "\n",
    "\n",
    "* Es un método de estabilidad limitada."
   ]
  },
  {
   "cell_type": "markdown",
   "metadata": {
    "kernel": "SoS"
   },
   "source": [
    "<h3><strong>d) Pasos del m&eacute;todo (Pseudoc&oacute;digo)</strong></h3>"
   ]
  },
  {
   "cell_type": "markdown",
   "metadata": {
    "kernel": "SoS"
   },
   "source": [
    "<div class=\"alert alert-block alert-info\">\n",
    "    \n",
    "\n",
    "\n",
    "<p><span style=\"text-decoration: underline;\"><span style=\"text-decoration: underline;\"><strong>Valores Iniciales:</strong></span></span> $y_0$</p>\n",
    "<p>&nbsp; &nbsp; &nbsp; &nbsp; &nbsp;<span style=\"text-decoration: underline;\">Paso 1:</span> Obtener valor inicial $y_0$</p>\n",
    "<p>&nbsp; &nbsp; &nbsp; &nbsp; &nbsp;<span style=\"text-decoration: underline;\">Paso 2:</span> Calcular el valor de h como la diferencia entre los términos de la sucesión. </p>\n",
    "<p>&nbsp; &nbsp; &nbsp; &nbsp; &nbsp;<span style=\"text-decoration: underline;\">Paso 3:</span> Hacer el cálculo de $y_{n+1}$ con el valor previo. </p>\n",
    "<p>&nbsp; &nbsp; &nbsp; &nbsp; &nbsp;<span style=\"text-decoration: underline;\">Paso 4:</span> Repetir el cálculo anterior para el resto de valores. </p>\n",
    "\n",
    "</div>"
   ]
  },
  {
   "cell_type": "markdown",
   "metadata": {
    "kernel": "SoS"
   },
   "source": [
    "<h3><strong>e) C&oacute;digo en GNU Octave</strong></h3>"
   ]
  },
  {
   "cell_type": "code",
   "execution_count": 13,
   "metadata": {
    "kernel": "Octave"
   },
   "outputs": [],
   "source": [
    "function [xk,yk]= euler(f,x0,y0,n,v)\n",
    "\n",
    "%Esta función aproxima la solución de una ECO de primer orden por Euler\n",
    "%\n",
    "%Sintaxis:  euler(f,x0,y0,n,v)\n",
    "% \n",
    "%Parámetros Iniciales: \n",
    "%            f = una función f\n",
    "%            x0,y0 = son los valores iniciales\n",
    "%            n =  número positivo que representa la cant de puntos\n",
    "%            v = vector de operacion\n",
    "%            \n",
    "%Parámetros de Salida:                           \n",
    "%            xk = valores de x\n",
    "%            yk = valores de y            \n",
    "    xk = zeros(n,1);\n",
    "    yk = zeros(n,1);\n",
    "    \n",
    "    xk(1) = x0;\n",
    "    yk(1) = y0;\n",
    "    \n",
    "    h= (v(2)-v(1))/(n-1);\n",
    "    \n",
    "    for i=2:n\n",
    "       yk(i) = yk(i-1)+ h*feval(f,xk(i-1),yk(i-1));\n",
    "       xk(i) = h+xk(i-1);\n",
    "       i=i+1;\n",
    "    endfor\n",
    "    plot(xk,yk)\n",
    "end\n"
   ]
  },
  {
   "cell_type": "markdown",
   "metadata": {
    "kernel": "SoS"
   },
   "source": [
    "<h3><strong>f) C&oacute;digo Python</strong></h3>"
   ]
  },
  {
   "cell_type": "code",
   "execution_count": 24,
   "metadata": {
    "kernel": "Python 3"
   },
   "outputs": [],
   "source": [
    "\n",
    "import numpy as np\n",
    "import matplotlib.pyplot as plt\n",
    "\n",
    "\n",
    "def euler(f,x0,y0,n,intervalo):\n",
    "#Esta función aproxima la solución de una ECO de primer orden por Euler\n",
    "#\n",
    "#Sintaxis:  Euler(f,x0,y0,n,v)\n",
    "# \n",
    "#Parámetros Iniciales: \n",
    "#            f = una función f\n",
    "#            x0,y0 = son los valores iniciales\n",
    "#            n =  número positivo que representa la cant de puntos\n",
    "#            intervalo = vector de operacion\n",
    "#            \n",
    "#Parámetros de Salida:                           \n",
    "#            x = valores de x\n",
    "#            y = valores de y  \n",
    "    x=np.zeros(n)\n",
    "    x=np.zeros(n)\n",
    "    y=np.zeros(n)\n",
    "    x[0]=x0\n",
    "    y[0]=y0\n",
    "    h=(intervalo[1]-intervalo[0])/(n-1)\n",
    "    \n",
    "    for i in range(1,n):\n",
    "        \n",
    "        y[i] = y[i-1]+f(x[i-1],y[i-1])*h\n",
    "        x[i] = x[i-1]+h\n",
    "        \n",
    "    plt.scatter(x,y)\n",
    "    return x,y"
   ]
  },
  {
   "cell_type": "markdown",
   "metadata": {
    "kernel": "SoS"
   },
   "source": [
    "<h3><strong>g) Ejemplo Num&eacute;rico</strong></h3>"
   ]
  },
  {
   "cell_type": "markdown",
   "metadata": {
    "kernel": "SoS"
   },
   "source": [
    "<div class=\"alert alert-block alert-info\">\n",
    "    \n",
    "Aproximar la solucion de la ecuacion diferencial con $x\\in [0,2]$, y $y(0)=0.5$: \n",
    "$$y' = y-x^2+1$$\n",
    "\n",
    "Con 11 puntos\n",
    "</div>"
   ]
  },
  {
   "cell_type": "code",
   "execution_count": 14,
   "metadata": {
    "kernel": "Octave"
   },
   "outputs": [
    {
     "name": "stdout",
     "output_type": "stream",
     "text": [
      "xk =\n",
      "\n",
      "   0.00000\n",
      "   0.20000\n",
      "   0.40000\n",
      "   0.60000\n",
      "   0.80000\n",
      "   1.00000\n",
      "   1.20000\n",
      "   1.40000\n",
      "   1.60000\n",
      "   1.80000\n",
      "   2.00000\n",
      "\n",
      "yk =\n",
      "\n",
      "   0.50000\n",
      "   0.80000\n",
      "   1.15200\n",
      "   1.55040\n",
      "   1.98848\n",
      "   2.45818\n",
      "   2.94981\n",
      "   3.45177\n",
      "   3.95013\n",
      "   4.42815\n",
      "   4.86578\n",
      "\n"
     ]
    },
    {
     "data": {
      "image/png": "[encoded data removed]",
      "text/plain": [
       "<IPython.core.display.Image object>"
      ]
     },
     "metadata": {},
     "output_type": "display_data"
    }
   ],
   "source": [
    "function u = F(x,y)\n",
    "    u=y-x^2+1;\n",
    "end\n",
    "\n",
    "[xk,yk]= euler('F',0,0.5,11,[0 2])"
   ]
  },
  {
   "cell_type": "code",
   "execution_count": 25,
   "metadata": {
    "kernel": "Python 3"
   },
   "outputs": [
    {
     "data": {
      "text/plain": [
       "(array([0. , 0.2, 0.4, 0.6, 0.8, 1. , 1.2, 1.4, 1.6, 1.8, 2. ]),\n",
       " array([0.5       , 0.8       , 1.152     , 1.5504    , 1.98848   ,\n",
       "        2.458176  , 2.9498112 , 3.45177344, 3.95012813, 4.42815375,\n",
       "        4.8657845 ]))"
      ]
     },
     "execution_count": 25,
     "metadata": {},
     "output_type": "execute_result"
    },
    {
     "data": {
      "image/png": "[encoded data removed]",
      "text/plain": [
       "<Figure size 432x288 with 1 Axes>"
      ]
     },
     "metadata": {
      "needs_background": "light"
     },
     "output_type": "display_data"
    }
   ],
   "source": [
    "def F(x,y):\n",
    "    return y-x**2+1\n",
    "\n",
    "euler(F,0,0.5,11,[0,2])"
   ]
  },
  {
   "cell_type": "markdown",
   "metadata": {
    "kernel": "SoS"
   },
   "source": [
    "<a id='m2'></a>\n",
    "<h2><span style=\"color: #993300;\"><span style=\"text-decoration: underline;\"><strong>M&eacute;todo 2:</strong> Predictor-Corrector </span></span></h2>"
   ]
  },
  {
   "cell_type": "markdown",
   "metadata": {
    "kernel": "SoS"
   },
   "source": [
    "<h3><strong>a) Formulaci&oacute;n Matem&aacute;tica</strong></h3>"
   ]
  },
  {
   "cell_type": "markdown",
   "metadata": {
    "kernel": "SoS"
   },
   "source": [
    "$$ \\tilde{y}_{n+1} = y_n + hf(x_n , y_n) $$\n",
    "Con corrector\n",
    "$$y_{n+1}= y_n + h \\frac{f(x_n,y_n)+f(x_{n+1},\\tilde{y}_{n+1})}{2}$$"
   ]
  },
  {
   "cell_type": "markdown",
   "metadata": {
    "kernel": "SoS"
   },
   "source": [
    "<h3><strong>b) Valores Iniciales</strong></h3>"
   ]
  },
  {
   "cell_type": "markdown",
   "metadata": {
    "kernel": "SoS"
   },
   "source": [
    "* Valores $x_0$ y $y_0$"
   ]
  },
  {
   "cell_type": "markdown",
   "metadata": {
    "kernel": "SoS"
   },
   "source": [
    "<h3><strong>c) Ventajas y Desvantajas</strong></h3>"
   ]
  },
  {
   "cell_type": "markdown",
   "metadata": {
    "kernel": "SoS"
   },
   "source": [
    "**Ventajas**\n",
    "\n",
    "* Extrapola el valor de la siguiente solución.\n",
    "* Se auto-corrige usando la derivada del siguiente nivel.\n",
    "\n",
    "**Desventajas**\n",
    "\n",
    "* Se requiere el almacenar el valor del nivel anterior para la corrección."
   ]
  },
  {
   "cell_type": "markdown",
   "metadata": {
    "kernel": "SoS"
   },
   "source": [
    "<h3><strong>d) Pasos del m&eacute;todo (Pseudoc&oacute;digo)</strong></h3>"
   ]
  },
  {
   "cell_type": "markdown",
   "metadata": {
    "kernel": "SoS"
   },
   "source": [
    "<div class=\"alert alert-block alert-info\">\n",
    "    \n",
    "    \n",
    "<p><span style=\"text-decoration: underline;\"><span style=\"text-decoration: underline;\"><strong>Valores Iniciales:</strong></span></span> $x_0$ y $y_0$</p>\n",
    "<p>&nbsp; &nbsp; &nbsp; &nbsp; &nbsp;<span style=\"text-decoration: underline;\">Paso 1:</span> Obtener los valores de $x_0$ y $y_0$.</p>\n",
    "<p>&nbsp; &nbsp; &nbsp; &nbsp; &nbsp;<span style=\"text-decoration: underline;\">Paso 2:</span> Calcular el valor predictor mediante el método de Euler.</p>\n",
    "<p>&nbsp; &nbsp; &nbsp; &nbsp; &nbsp;<span style=\"text-decoration: underline;\">Paso 3: </span> Realizar el cálculo del valor corrector con la fórmula específica del método.</p>\n",
    "\n",
    "\n",
    "</div>"
   ]
  },
  {
   "cell_type": "markdown",
   "metadata": {
    "kernel": "SoS"
   },
   "source": [
    "<h3><strong>e) C&oacute;digo en GNU Octave</strong></h3>"
   ]
  },
  {
   "cell_type": "code",
   "execution_count": 16,
   "metadata": {
    "kernel": "Octave"
   },
   "outputs": [],
   "source": [
    "\n",
    "\n",
    "function [xk,yk]= pred_corrector(f,x0,y0,n,v)\n",
    "\n",
    "%Esta función aproxima la solución de una ECO de primer orden por Euler\n",
    "%\n",
    "%Sintaxis:  pred_corrector(f,x0,y0,n,v)\n",
    "% \n",
    "%Parámetros Iniciales: \n",
    "%            f = una función f\n",
    "%            x0,y0 = son los valores iniciales\n",
    "%            n =  número positivo que representa la cant de puntos\n",
    "%            v = vector de operacion\n",
    "%            \n",
    "%Parámetros de Salida:                           \n",
    "%            xk = valores de x\n",
    "%            yk = valores de y            \n",
    "    xk = zeros(n,1);\n",
    "    yk = zeros(n,1);\n",
    "    \n",
    "    xk(1) = x0;\n",
    "    yk(1) = y0;\n",
    "    \n",
    "    h= (v(2)-v(1))/(n-1);\n",
    "    \n",
    "    for i=2:n\n",
    "       xk(i) = h+xk(i-1);\n",
    "       y2 = yk(i-1)+ h*feval(f,xk(i-1),yk(i-1));\n",
    "       yk(i) = yk(i-1)+ h/2*(feval(f,xk(i-1),yk(i-1))+feval(f,xk(i),y2));\n",
    "       i=i+1;\n",
    "    endfor\n",
    "    plot(xk,yk)\n",
    "end"
   ]
  },
  {
   "cell_type": "markdown",
   "metadata": {
    "kernel": "SoS"
   },
   "source": [
    "<h3><strong>f) C&oacute;digo Python</strong></h3>"
   ]
  },
  {
   "cell_type": "code",
   "execution_count": 28,
   "metadata": {
    "kernel": "Python 3"
   },
   "outputs": [],
   "source": [
    "import numpy as np\n",
    "import matplotlib.pyplot as plt\n",
    "\n",
    "\n",
    "def pred_corrector(f,x0,y0,n,intervalo):\n",
    "#Esta función aproxima la solución de una ECO de primer orden por Euler\n",
    "#\n",
    "#Sintaxis:  pred_corrector(f,x0,y0,n,v)\n",
    "# \n",
    "#Parámetros Iniciales: \n",
    "#            f = una función f\n",
    "#            x0,y0 = son los valores iniciales\n",
    "#            n =  número positivo que representa la cant de puntos\n",
    "#            intervalo = vector de operacion\n",
    "#            \n",
    "#Parámetros de Salida:                           \n",
    "#            x = valores de x\n",
    "#            y = valores de y  \n",
    "    x=np.zeros(n)\n",
    "    y=np.zeros(n)\n",
    "    x[0]=x0\n",
    "    y[0]=y0\n",
    "    h=(intervalo[1]-intervalo[0])/(n-1)\n",
    "    \n",
    "    for i in range(1,n):\n",
    "        x[i] = x[i-1]+h\n",
    "        y2 = y[i-1]+f(x[i-1],y[i-1])*h\n",
    "        y[i] =y[i-1]+ h/2*(f(x[i-1],y[i-1])+f(x[i],y2))\n",
    "        \n",
    "    plt.scatter(x,y)\n",
    "    return x,y"
   ]
  },
  {
   "cell_type": "markdown",
   "metadata": {
    "kernel": "SoS"
   },
   "source": [
    "<h3><strong>g) Ejemplo Num&eacute;rico</strong></h3>"
   ]
  },
  {
   "cell_type": "markdown",
   "metadata": {
    "kernel": "SoS"
   },
   "source": [
    "<div class=\"alert alert-block alert-info\">\n",
    "    \n",
    "Aproximar la solucion de la ecuacion diferencial con $x\\in [0,2]$, y $y(0)=0.5$: \n",
    "$$y' = y-x^2+1$$\n",
    "\n",
    "Con 11 puntos\n",
    "</div>"
   ]
  },
  {
   "cell_type": "code",
   "execution_count": 17,
   "metadata": {
    "kernel": "Octave"
   },
   "outputs": [
    {
     "name": "stdout",
     "output_type": "stream",
     "text": [
      "xk =\n",
      "\n",
      "   0.00000\n",
      "   0.20000\n",
      "   0.40000\n",
      "   0.60000\n",
      "   0.80000\n",
      "   1.00000\n",
      "   1.20000\n",
      "   1.40000\n",
      "   1.60000\n",
      "   1.80000\n",
      "   2.00000\n",
      "\n",
      "yk =\n",
      "\n",
      "   0.50000\n",
      "   0.82600\n",
      "   1.20692\n",
      "   1.63724\n",
      "   2.11024\n",
      "   2.61769\n",
      "   3.14958\n",
      "   3.69369\n",
      "   4.23510\n",
      "   4.75562\n",
      "   5.23305\n",
      "\n"
     ]
    },
    {
     "data": {
      "image/png": "[encoded data removed]",
      "text/plain": [
       "<IPython.core.display.Image object>"
      ]
     },
     "metadata": {},
     "output_type": "display_data"
    }
   ],
   "source": [
    "function u = F(x,y)\n",
    "    u=y-x^2+1;\n",
    "end\n",
    "\n",
    "[xk,yk]= pred_corrector('F',0,0.5,11,[0 2])"
   ]
  },
  {
   "cell_type": "code",
   "execution_count": 29,
   "metadata": {
    "kernel": "Python 3"
   },
   "outputs": [
    {
     "data": {
      "text/plain": [
       "(array([0. , 0.2, 0.4, 0.6, 0.8, 1. , 1.2, 1.4, 1.6, 1.8, 2. ]),\n",
       " array([0.5       , 0.826     , 1.20692   , 1.6372424 , 2.11023573,\n",
       "        2.61768759, 3.14957886, 3.69368621, 4.23509717, 4.75561855,\n",
       "        5.23305463]))"
      ]
     },
     "execution_count": 29,
     "metadata": {},
     "output_type": "execute_result"
    },
    {
     "data": {
      "image/png": "[encoded data removed]",
      "text/plain": [
       "<Figure size 432x288 with 1 Axes>"
      ]
     },
     "metadata": {
      "needs_background": "light"
     },
     "output_type": "display_data"
    }
   ],
   "source": [
    "def F(x,y):\n",
    "    return y-x**2+1\n",
    "\n",
    "pred_corrector(F,0,0.5,11,[0,2])"
   ]
  },
  {
   "cell_type": "markdown",
   "metadata": {
    "kernel": "SoS"
   },
   "source": [
    "<a id='m3'></a>\n",
    "<h2><span style=\"color: #993300;\"><span style=\"text-decoration: underline;\"><strong>M&eacute;todo 3:</strong>Runge-Kutta </span></span></h2>"
   ]
  },
  {
   "cell_type": "markdown",
   "metadata": {
    "kernel": "SoS"
   },
   "source": [
    "<h3><strong>a) Formulaci&oacute;n Matem&aacute;tica</strong></h3>"
   ]
  },
  {
   "cell_type": "markdown",
   "metadata": {
    "kernel": "SoS"
   },
   "source": [
    "* Para orden 2:\n",
    "$$y_{n+1} = y_n + hk_2$$ \n",
    "\n",
    "$$k_2 = f \\left(x_n + \\frac{h}{2}, y_n + h \\frac{k_1}{2}\\right) , k_1 = f(x_n,y_n)$$\n",
    "\n",
    "* Para orden 3:\n",
    "\n",
    "$$y_{n+1} = y_n + \\frac{h}{6}(k_1+4k_2+k_3)$$\n",
    "\n",
    "$$k_3 = f(x_n+h ,y_n + h (2k_2-k_1))$$\n",
    "\n",
    "$$k_2 = f \\left(x_n + \\frac{h}{2}, y_n + h \\frac{k_1}{2}\\right) , k_1 = f(x_n,y_n)$$"
   ]
  },
  {
   "cell_type": "markdown",
   "metadata": {
    "kernel": "SoS"
   },
   "source": [
    "<h3><strong>b) Valores Iniciales</strong></h3>"
   ]
  },
  {
   "cell_type": "markdown",
   "metadata": {
    "kernel": "SoS"
   },
   "source": [
    "* Valores $x_0$ y $y_0$"
   ]
  },
  {
   "cell_type": "markdown",
   "metadata": {
    "kernel": "SoS"
   },
   "source": [
    "<h3><strong>c) Ventajas y Desvantajas</strong></h3>"
   ]
  },
  {
   "cell_type": "markdown",
   "metadata": {
    "kernel": "SoS"
   },
   "source": [
    "**Ventajas**\n",
    "\n",
    "\n",
    "* Es una modificación del método de Euler.\n",
    "\n",
    "**Desventajas**\n",
    "\n",
    "\n",
    "* El método posee resoluciones distintas para cada nivel. Esto implica mayor complejidad."
   ]
  },
  {
   "cell_type": "markdown",
   "metadata": {
    "kernel": "SoS"
   },
   "source": [
    "<h3><strong>d) Pasos del m&eacute;todo (Pseudoc&oacute;digo)</strong></h3>"
   ]
  },
  {
   "cell_type": "markdown",
   "metadata": {
    "kernel": "SoS"
   },
   "source": [
    "<div class=\"alert alert-block alert-info\">\n",
    "    \n",
    "\n",
    "\n",
    "<p><span style=\"text-decoration: underline;\"><span style=\"text-decoration: underline;\"><strong>Valores Iniciales:</strong></span></span> $x_0$ y $y_0$</p>\n",
    "<p>&nbsp; &nbsp; &nbsp; &nbsp; &nbsp;<span style=\"text-decoration: underline;\">Paso 1:</span> Obtener los valores $x_0$ y $y_0$ como valores iniciales</p>\n",
    "<p>&nbsp; &nbsp; &nbsp; &nbsp; &nbsp;<span style=\"text-decoration: underline;\">Paso 2:</span> Calcular $h$</p>\n",
    "<p>&nbsp; &nbsp; &nbsp; &nbsp; &nbsp;<span style=\"text-decoration: underline;\">Paso 3:</span> Obtener los siguientes valores de distintos niveles con la fórmula propia del método.</p>\n",
    "\n",
    "\n",
    "</div>"
   ]
  },
  {
   "cell_type": "markdown",
   "metadata": {
    "kernel": "SoS"
   },
   "source": [
    "\n",
    "<h3><strong>e) C&oacute;digo en GNU Octave</strong></h3>"
   ]
  },
  {
   "cell_type": "code",
   "execution_count": null,
   "metadata": {
    "kernel": "Octave"
   },
   "outputs": [],
   "source": []
  },
  {
   "cell_type": "markdown",
   "metadata": {
    "kernel": "SoS"
   },
   "source": [
    "<h3><strong>f) C&oacute;digo Python</strong></h3>"
   ]
  },
  {
   "cell_type": "code",
   "execution_count": null,
   "metadata": {
    "kernel": "Python 3"
   },
   "outputs": [],
   "source": []
  },
  {
   "cell_type": "markdown",
   "metadata": {
    "kernel": "SoS"
   },
   "source": [
    "<h3><strong>g) Ejemplo Num&eacute;rico</strong></h3>"
   ]
  },
  {
   "cell_type": "markdown",
   "metadata": {
    "kernel": "SoS"
   },
   "source": [
    "<div class=\"alert alert-block alert-info\">\n",
    "    \n",
    "Aproximar la solucion de la ecuacion diferencial con $x\\in [0,1]$, y $y(0)=1$: \n",
    "$$y' = -xy+\\frac{4x}{y}$$\n",
    "\n",
    "Con 11 puntos\n",
    "</div>"
   ]
  },
  {
   "cell_type": "code",
   "execution_count": null,
   "metadata": {
    "kernel": "Octave"
   },
   "outputs": [],
   "source": []
  },
  {
   "cell_type": "code",
   "execution_count": null,
   "metadata": {
    "kernel": "Python 3"
   },
   "outputs": [],
   "source": []
  },
  {
   "cell_type": "markdown",
   "metadata": {
    "kernel": "SoS"
   },
   "source": [
    "<a id='m4'></a>\n",
    "<h2><span style=\"color: #993300;\"><span style=\"text-decoration: underline;\"><strong>M&eacute;todo 4:</strong>Adams-Bashforth</span></span></h2>"
   ]
  },
  {
   "cell_type": "markdown",
   "metadata": {
    "kernel": "SoS"
   },
   "source": [
    "<h3><strong>a) Formulaci&oacute;n Matem&aacute;tica</strong></h3>"
   ]
  },
  {
   "cell_type": "markdown",
   "metadata": {
    "kernel": "SoS"
   },
   "source": [
    "* Metodo de dos pasos:\n",
    "\n",
    "$$y_{k+1} = y_k + \\frac{h}{2} [3f(x_k,y_k)-f(x_{k-1},y_{k-1})\\,, \\,\\,\\,\\,k=1,2,3,4,...,n$$\n",
    "\n",
    "* Metodo de tres pasos:\n",
    "\n",
    "$$y_{k+1} = y_k + \\frac{h}{12} [23f(x_k,y_k)-16f(x_{k-1},y_{k-1})+5f(x_{k-2},y_{k-2})\\,, \\,\\,\\,\\,k=2,3,4,...,n$$\n",
    "\n",
    "* Metodo de cuatro pasos:\n",
    "\n",
    "$$y_{k+1} = y_k + \\frac{h}{24} [55f(x_k,y_k)-59f(x_{k-1},y_{k-1})+37f(x_{k-2},y_{k-2})-9f(x_{k-3},y_{k-3})\\,, \\,\\,\\,\\,k=3,4,...,n$$"
   ]
  },
  {
   "cell_type": "markdown",
   "metadata": {
    "kernel": "SoS"
   },
   "source": [
    "<h3><strong>b) Valores Iniciales</strong></h3>"
   ]
  },
  {
   "cell_type": "markdown",
   "metadata": {
    "kernel": "SoS"
   },
   "source": [
    "* Valores $y_0$ y $y_1$"
   ]
  },
  {
   "cell_type": "markdown",
   "metadata": {
    "kernel": "SoS"
   },
   "source": [
    "<h3><strong>c) Ventajas y Desvantajas</strong></h3>"
   ]
  },
  {
   "cell_type": "markdown",
   "metadata": {
    "kernel": "SoS"
   },
   "source": [
    "**Ventajas**\n",
    "\n",
    "\n",
    "* Al ser un método explícito, posee alto nivel de consistencia.\n",
    "\n",
    "**Desventajas**\n",
    "\n",
    "\n",
    "* Al aumentar un nuevo paso, la complejidad del cálculo aumenta considerablemente."
   ]
  },
  {
   "cell_type": "markdown",
   "metadata": {
    "kernel": "SoS"
   },
   "source": [
    "<h3><strong>d) Pasos del m&eacute;todo (Pseudoc&oacute;digo)</strong></h3>"
   ]
  },
  {
   "cell_type": "markdown",
   "metadata": {
    "kernel": "SoS"
   },
   "source": [
    "<div class=\"alert alert-block alert-info\">\n",
    "    \n",
    "\n",
    "\n",
    "<p><span style=\"text-decoration: underline;\"><span style=\"text-decoration: underline;\"><strong>Valores Iniciales:</strong></span></span> $y_0$ y $y_1$</p>\n",
    "<p>&nbsp; &nbsp; &nbsp; &nbsp; &nbsp;<span style=\"text-decoration: underline;\">Paso 1:</span> Obtener los valores y0 y y1 como valores iniciales..</p>\n",
    "<p>&nbsp; &nbsp; &nbsp; &nbsp; &nbsp;<span style=\"text-decoration: underline;\">Paso 2:</span> Calcular los valores asociados al tipo de pasos utilizando la fórmula indicada para cada nivel.</p>\n",
    "\n",
    "\n",
    "</div>"
   ]
  },
  {
   "cell_type": "markdown",
   "metadata": {
    "kernel": "SoS"
   },
   "source": [
    "\n",
    "<h3><strong>e) C&oacute;digo en GNU Octave</strong></h3>"
   ]
  },
  {
   "cell_type": "code",
   "execution_count": null,
   "metadata": {
    "kernel": "SoS"
   },
   "outputs": [],
   "source": []
  },
  {
   "cell_type": "markdown",
   "metadata": {
    "kernel": "SoS"
   },
   "source": [
    "<h3><strong>f) C&oacute;digo Python</strong></h3>"
   ]
  },
  {
   "cell_type": "code",
   "execution_count": null,
   "metadata": {
    "kernel": "SoS"
   },
   "outputs": [],
   "source": []
  },
  {
   "cell_type": "markdown",
   "metadata": {
    "kernel": "SoS"
   },
   "source": [
    "<h3><strong>g) Ejemplo Num&eacute;rico</strong></h3>"
   ]
  },
  {
   "cell_type": "markdown",
   "metadata": {
    "kernel": "SoS"
   },
   "source": [
    "<div class=\"alert alert-block alert-info\">\n",
    "    \n",
    "Aproximar la solucion de la ecuacion diferencial con $x\\in [2,4]$, y $y(2)=1$: \n",
    "$$y' = 1+(x+y)^2$$\n",
    "\n",
    "Con 11 puntos, utilice $y_1=1.191$\n",
    "</div>"
   ]
  },
  {
   "cell_type": "code",
   "execution_count": null,
   "metadata": {
    "kernel": "SoS"
   },
   "outputs": [],
   "source": []
  },
  {
   "cell_type": "code",
   "execution_count": null,
   "metadata": {
    "kernel": "SoS"
   },
   "outputs": [],
   "source": []
  }
 ],
 "metadata": {
  "kernelspec": {
   "display_name": "SoS",
   "language": "sos",
   "name": "sos"
  },
  "language_info": {
   "codemirror_mode": "sos",
   "file_extension": ".sos",
   "mimetype": "text/x-sos",
   "name": "sos",
   "nbconvert_exporter": "sos_notebook.converter.SoS_Exporter",
   "pygments_lexer": "sos"
  },
  "sos": {
   "kernels": [
    [
     "Octave",
     "octave",
     "octave",
     "",
     ""
    ],
    [
     "Python 3",
     "python3",
     "python3",
     "",
     {
      "name": "ipython",
      "version": 3
     }
    ],
    [
     "SoS",
     "sos",
     "",
     "",
     "sos"
    ]
   ],
   "panel": {
    "displayed": false,
    "height": 0
   },
   "version": "0.21.7"
  }
 },
 "nbformat": 4,
 "nbformat_minor": 2
}
