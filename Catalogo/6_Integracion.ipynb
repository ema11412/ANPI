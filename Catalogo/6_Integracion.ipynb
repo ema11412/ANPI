{
 "cells": [
  {
   "cell_type": "markdown",
   "metadata": {
    "kernel": "SoS"
   },
   "source": [
    "<h1 style=\"text-align: center;\"><strong>6. Integracion</strong></h1>"
   ]
  },
  {
   "cell_type": "markdown",
   "metadata": {
    "kernel": "SoS"
   },
   "source": [
    "<h2 style=\"text-align: center;\"><span style=\"text-decoration: underline; color: #008080;\"><strong>Algoritmos</strong></span></h2>\n",
    "\n",
    "[<strong>M&eacute;todo 1: Regla del Trapecio </strong>](#m1)\n",
    "\n",
    "[<strong>M&eacute;todo 2: Regla del Trapecio Compuesta </strong>](#m2)\n",
    "\n",
    "[<strong>M&eacute;todo 3: Regla de Simpson </strong>](#m3)\n",
    "\n",
    "[<strong>M&eacute;todo 4: Regla de Cuadraturas Gaussianas</strong>](#m4)"
   ]
  },
  {
   "cell_type": "markdown",
   "metadata": {
    "kernel": "SoS"
   },
   "source": [
    "<a id='m1'></a>\n",
    "<h2><span style=\"color: #993300;\"><span style=\"text-decoration: underline;\"><strong>M&eacute;todo 1:</strong> Regla del Trapecio</span></span></h2>"
   ]
  },
  {
   "cell_type": "markdown",
   "metadata": {
    "kernel": "SoS"
   },
   "source": [
    "<h3><strong>a) Formulaci&oacute;n Matem&aacute;tica</strong></h3>"
   ]
  },
  {
   "cell_type": "markdown",
   "metadata": {
    "kernel": "SoS"
   },
   "source": [
    "\n",
    "$$\\int_{a}^{b} f(x) dx = (b-a) \\frac{f(a) + f(b)}{2}  $$\n"
   ]
  },
  {
   "cell_type": "markdown",
   "metadata": {
    "kernel": "SoS"
   },
   "source": [
    "<h3><strong>b) Valores Iniciales</strong></h3>"
   ]
  },
  {
   "cell_type": "markdown",
   "metadata": {
    "kernel": "SoS"
   },
   "source": [
    "* Valores $a$ y $b$."
   ]
  },
  {
   "cell_type": "markdown",
   "metadata": {
    "kernel": "SoS"
   },
   "source": [
    "<h3><strong>c) Ventajas y Desvantajas</strong></h3>"
   ]
  },
  {
   "cell_type": "markdown",
   "metadata": {
    "kernel": "SoS"
   },
   "source": [
    "**Ventajas**\n",
    "\n",
    "\n",
    "* Facil implementacion.\n",
    "\n",
    "**Desventajas**\n",
    "\n",
    "\n",
    "* No es tan exacto como otros metodos."
   ]
  },
  {
   "cell_type": "markdown",
   "metadata": {
    "kernel": "SoS"
   },
   "source": [
    "<h3><strong>d) Pasos del m&eacute;todo (Pseudoc&oacute;digo)</strong></h3>"
   ]
  },
  {
   "cell_type": "markdown",
   "metadata": {
    "kernel": "SoS"
   },
   "source": [
    "<div class=\"alert alert-block alert-info\">\n",
    "    \n",
    "\n",
    "\n",
    "<p><span style=\"text-decoration: underline;\"><span style=\"text-decoration: underline;\"><strong>Valores Iniciales:</strong></span></span> $a$ y $b$</p>\n",
    "<p>&nbsp; &nbsp; &nbsp; &nbsp; &nbsp;<span style=\"text-decoration: underline;\">Paso 1:</span> Obtener los valores de $a$ y $b$ iniciales.</p>\n",
    "<p>&nbsp; &nbsp; &nbsp; &nbsp; &nbsp;<span style=\"text-decoration: underline;\">Paso 2:</span> Obtener el valor mediante la formula </p>\n",
    "\n",
    "\n",
    "</div>"
   ]
  },
  {
   "cell_type": "markdown",
   "metadata": {
    "kernel": "SoS"
   },
   "source": [
    "<h3><strong>e) C&oacute;digo en GNU Octave</strong></h3>"
   ]
  },
  {
   "cell_type": "code",
   "execution_count": 56,
   "metadata": {
    "kernel": "Octave"
   },
   "outputs": [],
   "source": [
    "pkg load symbolic\n",
    "\n",
    "function [I,error] = Trapecio (f,a,b)\n",
    "#Entradas:\n",
    "#Funcion evaluable f, valores iniciales a,b limites de la integral\n",
    "#\n",
    "#Salidas:\n",
    "#I: resultado de la integgral, error de aproximacion\n",
    "#\n",
    "    syms x\n",
    "\n",
    "    aux = strcat('@(x)',f); % @x + función\n",
    "    f1 = str2func(aux); % función string a ecuación\n",
    "    h=b-a;\n",
    "    I = (h/2)*(f1(a) + f1(b));\n",
    "    dx = diff(f1, x);\n",
    "    dx2 = diff(dx, x);\n",
    "    #xmin = fminbnd(dx2,a,b);\n",
    "    r = (h**3)/12 * double(subs(dx2,x,a));\n",
    "    error=r;\n",
    "end"
   ]
  },
  {
   "cell_type": "markdown",
   "metadata": {
    "kernel": "SoS"
   },
   "source": [
    "<h3><strong>f) C&oacute;digo Python</strong></h3>"
   ]
  },
  {
   "cell_type": "code",
   "execution_count": 19,
   "metadata": {
    "kernel": "Python 3"
   },
   "outputs": [],
   "source": [
    "import sympy\n",
    "import matplotlib.pyplot as plt\n",
    "import numpy as np  \n",
    "from sympy import *\n",
    "\n",
    "x = Symbol('x')\n",
    "\n",
    "def rTrapecio(f,a,b):  \n",
    "#Entradas:\n",
    "#Funcion evaluable f, valores iniciales a,b limites de la integral\n",
    "#\n",
    "#Salidas:\n",
    "#r: resultado de la integgral, error de aproximacion\n",
    "#\n",
    "    \n",
    "    h=b-a\n",
    "    dx = diff(f(x),x)\n",
    "    dx2 = diff(dx,x)\n",
    "    dx3 = diff(dx2,x)\n",
    "    if dx3.subs(x, a) > dx3.subs(x, b):\n",
    "        xmax = a\n",
    "    if dx3.subs(x, a) < dx3.subs(x, b):\n",
    "        xmax = a\n",
    "    val = dx2.subs(x, xmax)\n",
    "    error = (h**3)/12 * val\n",
    "    \n",
    "    r = h/2*(f(a) + f(b))\n",
    "    return [r,error]"
   ]
  },
  {
   "cell_type": "markdown",
   "metadata": {
    "kernel": "SoS"
   },
   "source": [
    "<h3><strong>g) Ejemplo Num&eacute;rico</strong></h3>"
   ]
  },
  {
   "cell_type": "markdown",
   "metadata": {
    "kernel": "SoS"
   },
   "source": [
    "<div class=\"alert alert-block alert-info\">\n",
    "    \n",
    "Determinar la integral definida: \n",
    "$$\\int_{1}^{2} \\frac{13}{5x+4} dx  $$\n",
    "\n",
    "</div>"
   ]
  },
  {
   "cell_type": "code",
   "execution_count": 57,
   "metadata": {
    "kernel": "Octave"
   },
   "outputs": [
    {
     "name": "stdout",
     "output_type": "stream",
     "text": [
      "I =  1.1865\n",
      "error =  0.074303\n"
     ]
    }
   ],
   "source": [
    "[I,error]=Trapecio ('13/(5*x+4)',1,2)"
   ]
  },
  {
   "cell_type": "code",
   "execution_count": 20,
   "metadata": {
    "kernel": "Python 3"
   },
   "outputs": [
    {
     "data": {
      "text/plain": [
       "[1.1865079365079365, 0.0743026977594879]"
      ]
     },
     "execution_count": 20,
     "metadata": {},
     "output_type": "execute_result"
    }
   ],
   "source": [
    "def f(x):\n",
    "    return 13/(5*x+4)\n",
    "rTrapecio(f,1,2)"
   ]
  },
  {
   "cell_type": "markdown",
   "metadata": {
    "kernel": "SoS"
   },
   "source": [
    "<a id='m2'></a>\n",
    "<h2><span style=\"color: #993300;\"><span style=\"text-decoration: underline;\"><strong>M&eacute;todo 2:</strong> Regla del Trapecio Compuesta </span></span></h2>"
   ]
  },
  {
   "cell_type": "markdown",
   "metadata": {
    "kernel": "SoS"
   },
   "source": [
    "<h3><strong>a) Formulaci&oacute;n Matem&aacute;tica</strong></h3>"
   ]
  },
  {
   "cell_type": "markdown",
   "metadata": {
    "kernel": "SoS"
   },
   "source": [
    "$$ \\int_{a}^{b} f(x) dx = \\frac{h}{2} \\sum_{i=0}^{n-1} (f(x_i)+f(x_{i+1}))$$\n",
    "con $h=x_{i+1} - x_i$"
   ]
  },
  {
   "cell_type": "markdown",
   "metadata": {
    "kernel": "SoS"
   },
   "source": [
    "<h3><strong>b) Valores Iniciales</strong></h3>"
   ]
  },
  {
   "cell_type": "markdown",
   "metadata": {
    "kernel": "SoS"
   },
   "source": [
    "* Valores $a$ y $b$ y cantidad de division es $n$"
   ]
  },
  {
   "cell_type": "markdown",
   "metadata": {
    "kernel": "SoS"
   },
   "source": [
    "<h3><strong>c) Ventajas y Desvantajas</strong></h3>"
   ]
  },
  {
   "cell_type": "markdown",
   "metadata": {
    "kernel": "SoS"
   },
   "source": [
    "**Ventajas**\n",
    "\n",
    "\n",
    "* Más preciso que el método simple.\n",
    "\n",
    "**Desventajas**\n",
    "\n",
    "* Posee mayor complejidad que otros métodos para el mismo cálculo."
   ]
  },
  {
   "cell_type": "markdown",
   "metadata": {
    "kernel": "SoS"
   },
   "source": [
    "<h3><strong>d) Pasos del m&eacute;todo (Pseudoc&oacute;digo)</strong></h3>"
   ]
  },
  {
   "cell_type": "markdown",
   "metadata": {
    "kernel": "SoS"
   },
   "source": [
    "<div class=\"alert alert-block alert-info\">\n",
    "    \n",
    "    \n",
    "<p><span style=\"text-decoration: underline;\"><span style=\"text-decoration: underline;\"><strong>Valores Iniciales:</strong></span></span> $a$ y $b$</p>\n",
    "<p>&nbsp; &nbsp; &nbsp; &nbsp; &nbsp;<span style=\"text-decoration: underline;\">Paso 1:</span> Obtener los valores de $f(a)$ y $f(b)$.</p>\n",
    "<p>&nbsp; &nbsp; &nbsp; &nbsp; &nbsp;<span style=\"text-decoration: underline;\">Paso 2:</span> Se calcula el valor de $h$</p>\n",
    "<p>&nbsp; &nbsp; &nbsp; &nbsp; &nbsp;<span style=\"text-decoration: underline;\">Paso 3: </span> Evaluar la fórmula matemática calculando la sumatoria interna.</p>\n",
    "\n",
    "\n",
    "</div>"
   ]
  },
  {
   "cell_type": "markdown",
   "metadata": {
    "kernel": "SoS"
   },
   "source": [
    "<h3><strong>e) C&oacute;digo en GNU Octave</strong></h3>"
   ]
  },
  {
   "cell_type": "code",
   "execution_count": 81,
   "metadata": {
    "kernel": "Octave"
   },
   "outputs": [],
   "source": [
    "pkg load symbolic\n",
    "\n",
    "function [I,error] = trapecio_com (f,a,b,m)\n",
    "#Entradas:\n",
    "#Funcion evaluable f, valores iniciales a,b limites de la integral\n",
    "#\n",
    "#Salidas:\n",
    "#I: resultado de la integgral, error de aproximacion\n",
    "#\n",
    "    syms x\n",
    "\n",
    "    aux = strcat('@(x)',f); % @x + función\n",
    "    f1 = str2func(aux); % función string a ecuación\n",
    "    h=(b-a)/(m-1);\n",
    "    vec=a:h:b;\n",
    "    I=0\n",
    "    for i=1:m-1\n",
    "    [s,error] = Trapecio(f,vec(i),vec(i+1));\n",
    "    I = I + s;\n",
    "    end\n",
    "    dx = diff(f1, x);\n",
    "    dx2 = diff(dx, x);\n",
    "    #xmin = fminbnd(dx2,a,b);\n",
    "    r = ((b-a)*h)/12 * double(subs(dx2,x,a));\n",
    "    error=r;\n",
    "end"
   ]
  },
  {
   "cell_type": "markdown",
   "metadata": {
    "kernel": "SoS"
   },
   "source": [
    "<h3><strong>f) C&oacute;digo Python</strong></h3>"
   ]
  },
  {
   "cell_type": "code",
   "execution_count": 78,
   "metadata": {
    "kernel": "Python 3"
   },
   "outputs": [],
   "source": [
    "import sympy\n",
    "import matplotlib.pyplot as plt\n",
    "import numpy as np  \n",
    "from sympy import *\n",
    "\n",
    "x = Symbol('x')\n",
    "def rTrapecioComp(f,a,b,m):\n",
    "    h=(b-a)/(m-1)\n",
    "    i=a\n",
    "    x=[]\n",
    "    x+=[a]\n",
    "    I=0\n",
    "\n",
    "\n",
    "    \n",
    "    while i<b:\n",
    "        x+=[i+h]\n",
    "        i+=h\n",
    "    x+=[b]    \n",
    "    j=0\n",
    "    while j<len(x):\n",
    "        if j==len(x)-1:\n",
    "             I = I + rTrapecio1(f,x[j],b)\n",
    "             j+=1\n",
    "        else:\n",
    "            I = I + rTrapecio1(f,x[j],x[j+1])\n",
    "            j+=1\n",
    "\n",
    "    return I\n",
    "\n",
    "def rTrapecio1(f,a,b):  \n",
    "    h=b-a \n",
    "    r = h/2*(f(a) + f(b))\n",
    "    return r"
   ]
  },
  {
   "cell_type": "markdown",
   "metadata": {
    "kernel": "SoS"
   },
   "source": [
    "<h3><strong>g) Ejemplo Num&eacute;rico</strong></h3>"
   ]
  },
  {
   "cell_type": "markdown",
   "metadata": {
    "kernel": "SoS"
   },
   "source": [
    "<div class=\"alert alert-block alert-info\">\n",
    "    \n",
    "Determinar la integral definida: \n",
    "$$\\int_{1}^{2} \\frac{13}{5x+4} dx  $$\n",
    "\n",
    "</div>"
   ]
  },
  {
   "cell_type": "code",
   "execution_count": 82,
   "metadata": {
    "kernel": "Octave"
   },
   "outputs": [
    {
     "name": "stdout",
     "output_type": "stream",
     "text": [
      "I = 0\n",
      "warning: passing floating-point values to sym is dangerous, see \"help sym\"\n",
      "warning: called from\n",
      "    double_to_sym_heuristic at line 50 column 7\n",
      "    sym at line 379 column 13\n",
      "    subs at line 226 column 9\n",
      "    Trapecio at line 17 column 7\n",
      "    trapecio_com at line 16 column 15\n",
      "warning: passing floating-point values to sym is dangerous, see \"help sym\"\n",
      "warning: called from\n",
      "    double_to_sym_heuristic at line 50 column 7\n",
      "    sym at line 379 column 13\n",
      "    subs at line 226 column 9\n",
      "    Trapecio at line 17 column 7\n",
      "    trapecio_com at line 16 column 15\n",
      "warning: passing floating-point values to sym is dangerous, see \"help sym\"\n",
      "warning: called from\n",
      "    double_to_sym_heuristic at line 50 column 7\n",
      "    sym at line 379 column 13\n",
      "    subs at line 226 column 9\n",
      "    Trapecio at line 17 column 7\n",
      "    trapecio_com at line 16 column 15\n",
      "warning: passing floating-point values to sym is dangerous, see \"help sym\"\n",
      "warning: called from\n",
      "    double_to_sym_heuristic at line 50 column 7\n",
      "    sym at line 379 column 13\n",
      "    subs at line 226 column 9\n",
      "    Trapecio at line 17 column 7\n",
      "    trapecio_com at line 16 column 15\n",
      "warning: passing floating-point values to sym is dangerous, see \"help sym\"\n",
      "warning: called from\n",
      "    double_to_sym_heuristic at line 50 column 7\n",
      "    sym at line 379 column 13\n",
      "    subs at line 226 column 9\n",
      "    Trapecio at line 17 column 7\n",
      "    trapecio_com at line 16 column 15\n",
      "warning: passing floating-point values to sym is dangerous, see \"help sym\"\n",
      "warning: called from\n",
      "    double_to_sym_heuristic at line 50 column 7\n",
      "    sym at line 379 column 13\n",
      "    subs at line 226 column 9\n",
      "    Trapecio at line 17 column 7\n",
      "    trapecio_com at line 16 column 15\n",
      "warning: passing floating-point values to sym is dangerous, see \"help sym\"\n",
      "warning: called from\n",
      "    double_to_sym_heuristic at line 50 column 7\n",
      "    sym at line 379 column 13\n",
      "    subs at line 226 column 9\n",
      "    Trapecio at line 17 column 7\n",
      "    trapecio_com at line 16 column 15\n",
      "warning: passing floating-point values to sym is dangerous, see \"help sym\"\n",
      "warning: called from\n",
      "    double_to_sym_heuristic at line 50 column 7\n",
      "    sym at line 379 column 13\n",
      "    subs at line 226 column 9\n",
      "    Trapecio at line 17 column 7\n",
      "    trapecio_com at line 16 column 15\n",
      "I =  1.1492\n",
      "error =  0.0082559\n"
     ]
    }
   ],
   "source": [
    "[I,error]=trapecio_com ('13/(5*x+4)',1,2,10)"
   ]
  },
  {
   "cell_type": "code",
   "execution_count": 79,
   "metadata": {
    "kernel": "Python 3"
   },
   "outputs": [
    {
     "data": {
      "text/plain": [
       "1.1492492952734075"
      ]
     },
     "execution_count": 79,
     "metadata": {},
     "output_type": "execute_result"
    }
   ],
   "source": [
    "def f(x):\n",
    "    return 13/(5*x+4)\n",
    "rTrapecioComp(f,1,2,10)"
   ]
  },
  {
   "cell_type": "markdown",
   "metadata": {
    "kernel": "SoS"
   },
   "source": [
    "<a id='m3'></a>\n",
    "<h2><span style=\"color: #993300;\"><span style=\"text-decoration: underline;\"><strong>M&eacute;todo 3:</strong>Regla de Simpson </span></span></h2>"
   ]
  },
  {
   "cell_type": "markdown",
   "metadata": {
    "kernel": "SoS"
   },
   "source": [
    "<h3><strong>a) Formulaci&oacute;n Matem&aacute;tica</strong></h3>"
   ]
  },
  {
   "cell_type": "markdown",
   "metadata": {
    "kernel": "SoS"
   },
   "source": [
    "$$ \\int_{a}^{b} f(x) dx = \\frac{b-a}{6} \\cdot \\left[f(a) + 4f\\left(\\frac{a+b}{2}\\right) + f(b)\\right]$$"
   ]
  },
  {
   "cell_type": "markdown",
   "metadata": {
    "kernel": "SoS"
   },
   "source": [
    "<h3><strong>b) Valores Iniciales</strong></h3>"
   ]
  },
  {
   "cell_type": "markdown",
   "metadata": {
    "kernel": "SoS"
   },
   "source": [
    "* Valores $a$ y $b$"
   ]
  },
  {
   "cell_type": "markdown",
   "metadata": {
    "kernel": "SoS"
   },
   "source": [
    "<h3><strong>c) Ventajas y Desvantajas</strong></h3>"
   ]
  },
  {
   "cell_type": "markdown",
   "metadata": {
    "kernel": "SoS"
   },
   "source": [
    "**Ventajas**\n",
    "\n",
    "\n",
    "* Sencillo de implementar.\n",
    "* No es iterativo.\n",
    "\n",
    "**Desventajas**\n",
    "\n",
    "\n",
    "* El método posee variaciones que pueden resultar en respuestas más precisas."
   ]
  },
  {
   "cell_type": "markdown",
   "metadata": {
    "kernel": "SoS"
   },
   "source": [
    "<h3><strong>d) Pasos del m&eacute;todo (Pseudoc&oacute;digo)</strong></h3>"
   ]
  },
  {
   "cell_type": "markdown",
   "metadata": {
    "kernel": "SoS"
   },
   "source": [
    "<div class=\"alert alert-block alert-info\">\n",
    "    \n",
    "\n",
    "\n",
    "<p><span style=\"text-decoration: underline;\"><span style=\"text-decoration: underline;\"><strong>Valores Iniciales:</strong></span></span> $a$ y $b$</p>\n",
    "<p>&nbsp; &nbsp; &nbsp; &nbsp; &nbsp;<span style=\"text-decoration: underline;\">Paso 1:</span> Obtener los valores de $a$ y $b$ iniciales.</p>\n",
    "<p>&nbsp; &nbsp; &nbsp; &nbsp; &nbsp;<span style=\"text-decoration: underline;\">Paso 2:</span> Obtener el valor mediante la formula </p>\n",
    "\n",
    "\n",
    "</div>"
   ]
  },
  {
   "cell_type": "markdown",
   "metadata": {
    "kernel": "SoS"
   },
   "source": [
    "\n",
    "<h3><strong>e) C&oacute;digo en GNU Octave</strong></h3>"
   ]
  },
  {
   "cell_type": "code",
   "execution_count": 69,
   "metadata": {
    "kernel": "Octave"
   },
   "outputs": [],
   "source": [
    "pkg load symbolic\n",
    "\n",
    "function [I,error] = simpson (f,a,b)\n",
    "#Entradas:\n",
    "#Funcion evaluable f, valores iniciales a,b limites de la integral\n",
    "#\n",
    "#Salidas:\n",
    "#I: resultado de la integgral, error de aproximacion\n",
    "#\n",
    "    syms x\n",
    "\n",
    "    aux = strcat('@(x)',f); % @x + función\n",
    "    f1 = str2func(aux); % función string a ecuación\n",
    "    h=(b-a)/2;\n",
    "    x1=a;\n",
    "    x2=((a+b)/2);\n",
    "    x3=b;\n",
    "    I = h/3*(f1(x1) + 4*f1(x2) + f1(x3));\n",
    "    dx = diff(f1, x);\n",
    "    dx2 = diff(dx, x);\n",
    "    dx3 = diff(dx2, x);\n",
    "    dx4 = diff(dx3, x);\n",
    "    #xmin = fminbnd(dx2,a,b);\n",
    "    r = (h**3)/12 * double(subs(dx4,x,b));\n",
    "    error=r;\n",
    "end"
   ]
  },
  {
   "cell_type": "markdown",
   "metadata": {
    "kernel": "SoS"
   },
   "source": [
    "<h3><strong>f) C&oacute;digo Python</strong></h3>"
   ]
  },
  {
   "cell_type": "code",
   "execution_count": 68,
   "metadata": {
    "kernel": "Python 3"
   },
   "outputs": [],
   "source": [
    "def rSimpson(f,a,b):\n",
    "#Entradas:\n",
    "#Funcion evaluable f, valores iniciales a,b limites de la integral\n",
    "#\n",
    "#Salidas:\n",
    "#r: resultado de la integgral, error de aproximacion\n",
    "#    \n",
    "    h=(b-a)/2\n",
    "    x1=a\n",
    "    x2=((a+b)/2)\n",
    "    x3=b\n",
    "    dx = diff(f(x),x)\n",
    "    dx2 = diff(dx,x)\n",
    "    dx3 = diff(dx2,x)\n",
    "    dx4 = diff(dx3,x)\n",
    "    dx5 = diff(dx4,x)\n",
    "    if dx5.subs(x, a) > dx5.subs(x, b):\n",
    "        xmax = a\n",
    "    if dx5.subs(x, a) < dx5.subs(x, b):\n",
    "        xmax = a\n",
    "    val = dx4.subs(x, xmax)\n",
    "    error = (h**5)/90 * val\n",
    "    \n",
    "    r = h/3*(f(x1) + 4*f(x2) + f(x3))\n",
    "\n",
    "    return r,error"
   ]
  },
  {
   "cell_type": "markdown",
   "metadata": {
    "kernel": "SoS"
   },
   "source": [
    "<h3><strong>g) Ejemplo Num&eacute;rico</strong></h3>"
   ]
  },
  {
   "cell_type": "markdown",
   "metadata": {
    "kernel": "SoS"
   },
   "source": [
    "<div class=\"alert alert-block alert-info\">\n",
    "    \n",
    "Determinar la integral definida: \n",
    "$$\\int_{1}^{2} \\frac{13}{5x+4} dx  $$\n",
    "\n",
    "</div>"
   ]
  },
  {
   "cell_type": "code",
   "execution_count": 70,
   "metadata": {
    "kernel": "Octave"
   },
   "outputs": [
    {
     "name": "stdout",
     "output_type": "stream",
     "text": [
      "I =  1.1491\n",
      "error =  0.0037768\n"
     ]
    }
   ],
   "source": [
    "[I,error]=simpson ('13/(5*x+4)',1,2)"
   ]
  },
  {
   "cell_type": "code",
   "execution_count": 71,
   "metadata": {
    "kernel": "Python 3"
   },
   "outputs": [
    {
     "data": {
      "text/plain": [
       "(1.1491258339084425, 0.00114664657036247)"
      ]
     },
     "execution_count": 71,
     "metadata": {},
     "output_type": "execute_result"
    }
   ],
   "source": [
    "def f(x):\n",
    "    return 13/(5*x+4)\n",
    "rSimpson(f,1,2)"
   ]
  },
  {
   "cell_type": "markdown",
   "metadata": {
    "kernel": "SoS"
   },
   "source": [
    "<a id='m4'></a>\n",
    "<h2><span style=\"color: #993300;\"><span style=\"text-decoration: underline;\"><strong>M&eacute;todo 4:</strong>Cuadratura Gaussiana y compuesta </span></span></h2>"
   ]
  },
  {
   "cell_type": "markdown",
   "metadata": {
    "kernel": "SoS"
   },
   "source": [
    "<h3><strong>a) Formulaci&oacute;n Matem&aacute;tica</strong></h3>"
   ]
  },
  {
   "cell_type": "markdown",
   "metadata": {
    "kernel": "SoS"
   },
   "source": [
    "$$ \\int_{a}^{b} f(x) dx = \\frac{b-a}{2} \\sum_{k=1}^n f \\left( \\frac{(b-a)x_k+b+a}{2} \\right) $$ con $x_k$ las soluciones del polinomio de Lagendre de grado $n$\n",
    "\n",
    "La version compuesta se vasa en la misma formula pero cambian valores de limites de la integral\n",
    "\n",
    "$$ \\int_{x_i}^{x_f} f(x) dx = \\frac{x_f-x_i}{2} \\sum_{k=1}^n f \\left( \\frac{(x_f-x_i)x_k+x_f+x_i}{2} \\right) $$\n",
    "Con $x_i,x_f \\in [a,b]$"
   ]
  },
  {
   "cell_type": "markdown",
   "metadata": {
    "kernel": "SoS"
   },
   "source": [
    "<h3><strong>b) Valores Iniciales</strong></h3>"
   ]
  },
  {
   "cell_type": "markdown",
   "metadata": {
    "kernel": "SoS"
   },
   "source": [
    "* Valores $a$ y $b$ y grado del polinomio, (en compuesta valor de cant de intervalos)."
   ]
  },
  {
   "cell_type": "markdown",
   "metadata": {
    "kernel": "SoS"
   },
   "source": [
    "<h3><strong>c) Ventajas y Desvantajas</strong></h3>"
   ]
  },
  {
   "cell_type": "markdown",
   "metadata": {
    "kernel": "SoS"
   },
   "source": [
    "**Simple**\n",
    "\n",
    "**Ventajas**\n",
    "\n",
    "\n",
    "* Sencillo de implementar.\n",
    "\n",
    "**Desventajas**\n",
    "\n",
    "\n",
    "* Es iterativo\n",
    "\n",
    "**Compuesto**\n",
    "\n",
    "**Ventajas**\n",
    "\n",
    "\n",
    "* Sencillo de implementar.\n",
    "* Converge mas rapido a la solucion\n",
    "\n",
    "**Desventajas**\n",
    "\n",
    "\n",
    "* Es iterativo\n",
    "* Posee dependencia de si version simple"
   ]
  },
  {
   "cell_type": "markdown",
   "metadata": {
    "kernel": "SoS"
   },
   "source": [
    "<h3><strong>d) Pasos del m&eacute;todo (Pseudoc&oacute;digo)</strong></h3>"
   ]
  },
  {
   "cell_type": "markdown",
   "metadata": {
    "kernel": "SoS"
   },
   "source": [
    "<div class=\"alert alert-block alert-info\">\n",
    "    \n",
    "\n",
    "Simple\n",
    "<p><span style=\"text-decoration: underline;\"><span style=\"text-decoration: underline;\"><strong>Valores Iniciales:</strong></span></span> $a$ y $b$ y $n$</p>\n",
    "<p>&nbsp; &nbsp; &nbsp; &nbsp; &nbsp;<span style=\"text-decoration: underline;\">Paso 1:</span> Obtener los valores de $a$ y $b$ iniciales.</p>\n",
    "<p>&nbsp; &nbsp; &nbsp; &nbsp; &nbsp;<span style=\"text-decoration: underline;\">Paso 2:</span> Calcular el polinomio de Lagendre.</p>\n",
    "<p>&nbsp; &nbsp; &nbsp; &nbsp; &nbsp;<span style=\"text-decoration: underline;\">Paso 3:</span> Determinar los ceros del polinomio de lagendre</p>\n",
    "<p>&nbsp; &nbsp; &nbsp; &nbsp; &nbsp;<span style=\"text-decoration: underline;\">Paso 4:</span> Obtener el valor mediante la formula </p>\n",
    "\n",
    "\n",
    "</div>"
   ]
  },
  {
   "cell_type": "markdown",
   "metadata": {
    "kernel": "SoS"
   },
   "source": [
    "<div class=\"alert alert-block alert-info\">\n",
    "    \n",
    "\n",
    "Compuesta\n",
    "<p><span style=\"text-decoration: underline;\"><span style=\"text-decoration: underline;\"><strong>Valores Iniciales:</strong></span></span> $a$ y $b$, $n$ y los intervalos de division</p>\n",
    "<p>&nbsp; &nbsp; &nbsp; &nbsp; &nbsp;<span style=\"text-decoration: underline;\">Paso 1:</span> Obtener los valores de $a$ y $b$ iniciales.</p>\n",
    "<p>&nbsp; &nbsp; &nbsp; &nbsp; &nbsp;<span style=\"text-decoration: underline;\">Paso 2:</span> Calcular el polinomio de Lagendre.</p>\n",
    "<p>&nbsp; &nbsp; &nbsp; &nbsp; &nbsp;<span style=\"text-decoration: underline;\">Paso 3:</span> Determinar los ceros del polinomio de lagendre</p>\n",
    "<p>&nbsp; &nbsp; &nbsp; &nbsp; &nbsp;<span style=\"text-decoration: underline;\">Paso 4:</span> Calcular el valor de sub intervalos</p>\n",
    "<p>&nbsp; &nbsp; &nbsp; &nbsp; &nbsp;<span style=\"text-decoration: underline;\">Paso 5:</span> Obtener el valor mediante la formula para un intervalo</p>\n",
    "\n",
    "\n",
    "</div>"
   ]
  },
  {
   "cell_type": "markdown",
   "metadata": {
    "kernel": "SoS"
   },
   "source": [
    "\n",
    "<h3><strong>e) C&oacute;digo en GNU Octave</strong></h3>"
   ]
  },
  {
   "cell_type": "code",
   "execution_count": 23,
   "metadata": {
    "kernel": "Octave"
   },
   "outputs": [],
   "source": [
    "pkg load symbolic\n",
    "\n",
    "function P = legendreP(n)\n",
    "syms x;\n",
    "P = diff((x^2-1)^n,n)/(2^n*prod(1:n));\n",
    "end\n",
    "\n",
    "function I= cuadratura(f,a,b,n)\n",
    "syms x;\n",
    "#Entradas:\n",
    "#Funcion evaluable f, valores iniciales a,b limites de la integral y grado de P(n)\n",
    "#\n",
    "#Salidas:\n",
    "#I: resultado de la integgral, error de aproximacion\n",
    "#\n",
    "\n",
    "I=0;\n",
    "P = legendreP(n);\n",
    "S = double(solve(0==P, x));\n",
    "h=(b-a)/2;\n",
    "for k=1:n\n",
    "    xk = S(k);\n",
    "    temp = ((b-a)*xk + (b+a))/2;\n",
    "    I = I + feval(f,temp);   \n",
    "end\n",
    "I = h*I;\n",
    "end\n",
    "\n",
    "\n",
    "function I= cuadratura_comp(f,a,b,n,intervalos)\n",
    "syms x;\n",
    "#Entradas:\n",
    "#Funcion evaluable f, valores iniciales a,b limites de la integral y grado de P(n) y valor de divisiones\n",
    "#\n",
    "#Salidas:\n",
    "#I: resultado de la integgral, error de aproximacion\n",
    "#\n",
    "div = (b-a)/intervalos;\n",
    "I = 0;\n",
    "vin = a;\n",
    "while vin<b\n",
    "    temp = cuadratura(f,vin,vin+div,n);\n",
    "    I = I + temp;   \n",
    "    vin = vin+div;\n",
    "end\n",
    "end"
   ]
  },
  {
   "cell_type": "markdown",
   "metadata": {
    "kernel": "SoS"
   },
   "source": [
    "<h3><strong>f) C&oacute;digo Python</strong></h3>"
   ]
  },
  {
   "cell_type": "code",
   "execution_count": 4,
   "metadata": {
    "kernel": "Python 3"
   },
   "outputs": [],
   "source": [
    "import  numpy, math     \n",
    "from sympy import Derivative, diff, simplify,solve\n",
    "import numpy as np\n",
    "from sympy import *\n",
    "\n",
    "x = Symbol('x')\n",
    "\n",
    "def P(n):\n",
    "    f= (x**2-1)**n\n",
    "    k=1\n",
    "    while k<=n:\n",
    "        f = diff(f, x)\n",
    "        k+=1\n",
    "    y = f/(math.factorial(n)*2**n)\n",
    "    return y\n",
    "\n",
    "\n",
    "def F(x):\n",
    "    return math.log(x) \n",
    "\n",
    "def cuadratura(f,a,b,n):\n",
    "#Entradas:\n",
    "#Funcion evaluable f, valores iniciales a,b limites de la integral y grado de P(n)\n",
    "#\n",
    "#Salidas:\n",
    "#I: resultado de la integgral, error de aproximacion\n",
    "#\n",
    "    L= P(n)\n",
    "    S=sorted(solve(L))\n",
    "    i=0\n",
    "    integral = 0\n",
    "    h=(b-a)/2\n",
    "    k=0\n",
    "    while k<len(S):\n",
    "        xi = float(S[k])\n",
    "        temp = ((b-a)*xi + (b+a))/2\n",
    "        integral = integral + f(temp)\n",
    "        k+=1\n",
    "    integral = h*integral\n",
    "\n",
    "    return integral\n",
    "\n",
    "def cuadratura_comp(f,a,b,n,intervalos):\n",
    "#Entradas:\n",
    "#Funcion evaluable f, valores iniciales a,b limites de la integral y grado de P(n) ademas intervalos de division\n",
    "#\n",
    "#Salidas:\n",
    "#I: resultado de la integgral, error de aproximacion\n",
    "#\n",
    "    div = (b-a)/intervalos\n",
    "    integral = 0\n",
    "    vin = a\n",
    "    while vin<b:\n",
    "        integral = integral + cuadratura(f,vin,vin+div,n)\n",
    "        vin+=div\n",
    "        \n",
    "    return integral"
   ]
  },
  {
   "cell_type": "markdown",
   "metadata": {
    "kernel": "SoS"
   },
   "source": [
    "<h3><strong>g) Ejemplo Num&eacute;rico</strong></h3>"
   ]
  },
  {
   "cell_type": "markdown",
   "metadata": {
    "kernel": "SoS"
   },
   "source": [
    "<div class=\"alert alert-block alert-info\">\n",
    "    \n",
    "Determinar la integral definida: \n",
    "$$\\int_{2}^{5} \\ln(x) dx  $$\n",
    "Con grado 2\n",
    "</div>"
   ]
  },
  {
   "cell_type": "code",
   "execution_count": 24,
   "metadata": {
    "kernel": "Octave"
   },
   "outputs": [
    {
     "name": "stdout",
     "output_type": "stream",
     "text": [
      "I1 =  3.6635\n",
      "I2 =  3.6609\n"
     ]
    }
   ],
   "source": [
    "function u = F(t)\n",
    "    u=log(t);\n",
    "end\n",
    "\n",
    "#cuadratura simple\n",
    "I1 = cuadratura('F',2,5,2)\n",
    "\n",
    "#cuadratura compuesta\n",
    "I2 = cuadratura_comp('F',2,5,2,3)"
   ]
  },
  {
   "cell_type": "code",
   "execution_count": 7,
   "metadata": {
    "kernel": "Python 3"
   },
   "outputs": [
    {
     "name": "stdout",
     "output_type": "stream",
     "text": [
      "3.6635205530538064\n",
      "3.660944745852596\n"
     ]
    }
   ],
   "source": [
    "def F(x):\n",
    "    return math.log(x) \n",
    "\n",
    "#cuadratura simple\n",
    "print(cuadratura(F,2,5,2))\n",
    "\n",
    "#cuadratura compuesta\n",
    "print(cuadratura_comp(F,2,5,2,3))"
   ]
  }
 ],
 "metadata": {
  "kernelspec": {
   "display_name": "SoS",
   "language": "sos",
   "name": "sos"
  },
  "language_info": {
   "codemirror_mode": "sos",
   "file_extension": ".sos",
   "mimetype": "text/x-sos",
   "name": "sos",
   "nbconvert_exporter": "sos_notebook.converter.SoS_Exporter",
   "pygments_lexer": "sos"
  },
  "sos": {
   "kernels": [
    [
     "Octave",
     "octave",
     "octave",
     "",
     ""
    ],
    [
     "Python 3",
     "python3",
     "python3",
     "",
     {
      "name": "ipython",
      "version": 3
     }
    ]
   ],
   "panel": {
    "displayed": false,
    "height": 0
   },
   "version": "0.21.7"
  }
 },
 "nbformat": 4,
 "nbformat_minor": 2
}
