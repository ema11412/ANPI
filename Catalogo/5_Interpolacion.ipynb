{
 "cells": [
  {
   "cell_type": "markdown",
   "metadata": {
    "kernel": "SoS"
   },
   "source": [
    "<h1 style=\"text-align: center;\"><strong>5. Interpolacion</strong></h1>"
   ]
  },
  {
   "cell_type": "markdown",
   "metadata": {
    "kernel": "SoS"
   },
   "source": [
    "<h2 style=\"text-align: center;\"><span style=\"text-decoration: underline; color: #008080;\"><strong>Algoritmos</strong></span></h2>\n",
    "\n",
    "[<strong>M&eacute;todo 1: Interpolación de Lagrange</strong>](#m1)\n",
    "\n",
    "[<strong>M&eacute;todo 2: Interpolación por diferencias divididas de Newton </strong>](#m2)"
   ]
  },
  {
   "cell_type": "markdown",
   "metadata": {
    "kernel": "SoS"
   },
   "source": [
    "<a id='m1'></a>\n",
    "<h2><span style=\"color: #993300;\"><span style=\"text-decoration: underline;\"><strong>M&eacute;todo 1:</strong> Interpolación de Lagrange</span></span></h2>"
   ]
  },
  {
   "cell_type": "markdown",
   "metadata": {
    "kernel": "SoS"
   },
   "source": [
    "<h3><strong>a) Formulaci&oacute;n Matem&aacute;tica</strong></h3>"
   ]
  },
  {
   "cell_type": "markdown",
   "metadata": {
    "kernel": "SoS"
   },
   "source": [
    "\n",
    "$$P_n(x) = \\Sigma y_k L_k(x) = y_0 L_0(x) + y_1 L_1(x) +....+ y_n L_n(x) $$"
   ]
  },
  {
   "cell_type": "markdown",
   "metadata": {
    "kernel": "SoS"
   },
   "source": [
    "<h3><strong>b) Valores Iniciales</strong></h3>"
   ]
  },
  {
   "cell_type": "markdown",
   "metadata": {
    "kernel": "SoS"
   },
   "source": [
    "* Debemos tener $n+1$ puntos ordenados $(x_0,y_0),(x_1,y_1),(x_2,y_2),...,(x_n,y_n) $ "
   ]
  },
  {
   "cell_type": "markdown",
   "metadata": {
    "kernel": "SoS"
   },
   "source": [
    "<h3><strong>c) Ventajas y Desvantajas</strong></h3>"
   ]
  },
  {
   "cell_type": "markdown",
   "metadata": {
    "kernel": "SoS"
   },
   "source": [
    "**Ventajas**\n",
    "\n",
    "\n",
    "* Facil implementacion.\n",
    "\n",
    "**Desventajas**\n",
    "\n",
    "\n",
    "* Resulta más largo que otros métodos."
   ]
  },
  {
   "cell_type": "markdown",
   "metadata": {
    "kernel": "SoS"
   },
   "source": [
    "<h3><strong>d) Pasos del m&eacute;todo (Pseudoc&oacute;digo)</strong></h3>"
   ]
  },
  {
   "cell_type": "markdown",
   "metadata": {
    "kernel": "SoS"
   },
   "source": [
    "<div class=\"alert alert-block alert-info\">\n",
    "    \n",
    "\n",
    "\n",
    "<p><span style=\"text-decoration: underline;\"><span style=\"text-decoration: underline;\"><strong>Valores Iniciales:</strong></span></span> $n+1$ puntos</p>\n",
    "<p>&nbsp; &nbsp; &nbsp; &nbsp; &nbsp;<span style=\"text-decoration: underline;\">Paso 1:</span>   Calcular el valor de $L_0(x)$.</p>\n",
    "<p>&nbsp; &nbsp; &nbsp; &nbsp; &nbsp;<span style=\"text-decoration: underline;\">Paso 2:</span> Realizar el producto $y_0*L_0(x)$ </p>\n",
    "<p>&nbsp; &nbsp; &nbsp; &nbsp; &nbsp;<span style=\"text-decoration: underline;\">Paso 3:</span>Calcular la sumatoria para los demás valores hasta $y_k$ y $L_k(x)$. </p>\n",
    "\n",
    "</div>"
   ]
  },
  {
   "cell_type": "markdown",
   "metadata": {
    "kernel": "SoS"
   },
   "source": [
    "<h3><strong>e) C&oacute;digo en GNU Octave</strong></h3>"
   ]
  },
  {
   "cell_type": "code",
   "execution_count": 33,
   "metadata": {
    "kernel": "Octave"
   },
   "outputs": [],
   "source": [
    "pkg load symbolic\n",
    "\n",
    "function p = lagrange (vx,vy)\n",
    "syms x;\n",
    "#Entradas:\n",
    "#Funcion evaluable f, valores iniciales a,b limites de la integral\n",
    "#\n",
    "#Salidas:\n",
    "#I: resultado de la integgral, error de aproximacion\n",
    "#\n",
    "n = length(vx);\n",
    "total = 0*x;\n",
    "for k=1:n\n",
    "    z = L(vx,k);\n",
    "    total = total + vy(k)*z;\n",
    "end\n",
    "p=total;\n",
    "end\n",
    "\n",
    "function c = L (vx,n)\n",
    "syms x;\n",
    "    c=1;\n",
    "    for i=1:n\n",
    "        c= c*(x-vx(i))/(vx(n)-vx(i));\n",
    "    end  \n",
    "end"
   ]
  },
  {
   "cell_type": "markdown",
   "metadata": {
    "kernel": "SoS"
   },
   "source": [
    "<h3><strong>f) C&oacute;digo Python</strong></h3>"
   ]
  },
  {
   "cell_type": "code",
   "execution_count": 19,
   "metadata": {
    "kernel": "Python 3"
   },
   "outputs": [],
   "source": [
    "import sympy\n",
    "import matplotlib.pyplot as plt\n",
    "import numpy as np  \n",
    "from sympy import *\n",
    "\n",
    "x = Symbol('x')\n",
    "\n",
    "def lagrange(vx,vy):\n",
    "    \n",
    "#\n",
    "#Entradas:\n",
    "#\n",
    "#Dos vectores vx y vy los cuales contienen los valores en x y en y del polinomio\n",
    "#\n",
    "#Salidas:\n",
    "#\n",
    "#Polinomio equivalente que pasa por los puntos\n",
    "#\n",
    "\n",
    "    n=len(vx)\n",
    "    k=0\n",
    "    total=0\n",
    "    while k<n:\n",
    "        total =total + vy[k]*L(vx,k)\n",
    "        k+=1\n",
    "    return total\n",
    "\n",
    "def L(vecx,ind):\n",
    "    resultado = 1\n",
    "    for i in (range(ind)):\n",
    "        resultado = resultado*(x-vecx[i])/(vecx[ind]-vecx[i])\n",
    "    return resultado\n"
   ]
  },
  {
   "cell_type": "markdown",
   "metadata": {
    "kernel": "SoS"
   },
   "source": [
    "<h3><strong>g) Ejemplo Num&eacute;rico</strong></h3>"
   ]
  },
  {
   "cell_type": "markdown",
   "metadata": {
    "kernel": "SoS"
   },
   "source": [
    "<div class=\"alert alert-block alert-info\">\n",
    "    \n",
    "Determinar la representacion de un polinomio que pasa por los puntos $(-2,0), (0,1)$ y $(1,-1)$ \n",
    "</div>"
   ]
  },
  {
   "cell_type": "code",
   "execution_count": 34,
   "metadata": {
    "kernel": "Octave"
   },
   "outputs": [
    {
     "data": {
      "text/latex": [
       "$\\displaystyle - x \\left(\\frac{x}{3} + \\frac{2}{3}\\right) + \\frac{x}{2} + 1$"
      ],
      "text/plain": [
       "-x*(x/3 + 2/3) + x/2 + 1"
      ]
     },
     "execution_count": 34,
     "metadata": {},
     "output_type": "execute_result"
    }
   ],
   "source": [
    "p=lagrange([-2,0,1],[0,1,-1])"
   ]
  },
  {
   "cell_type": "code",
   "execution_count": 6,
   "metadata": {
    "kernel": "Python 3"
   },
   "outputs": [
    {
     "data": {
      "text/latex": [
       "$\\displaystyle - x \\left(\\frac{x}{3} + \\frac{2}{3}\\right) + \\frac{x}{2} + 1$"
      ],
      "text/plain": [
       "-x*(x/3 + 2/3) + x/2 + 1"
      ]
     },
     "execution_count": 6,
     "metadata": {},
     "output_type": "execute_result"
    }
   ],
   "source": [
    "lagrange([-2,0,1],[0,1,-1])"
   ]
  },
  {
   "cell_type": "markdown",
   "metadata": {
    "kernel": "SoS"
   },
   "source": [
    "<a id='m2'></a>\n",
    "<h2><span style=\"color: #993300;\"><span style=\"text-decoration: underline;\"><strong>M&eacute;todo 2:</strong> </span></span></h2>"
   ]
  },
  {
   "cell_type": "markdown",
   "metadata": {
    "kernel": "SoS"
   },
   "source": [
    "<h3><strong>a) Formulaci&oacute;n Matem&aacute;tica</strong></h3>"
   ]
  },
  {
   "cell_type": "markdown",
   "metadata": {
    "kernel": "SoS"
   },
   "source": [
    "$$P_n(x)= f[x_0] + f[x_0,x_1] (x_1 - x_0) + f[x_0,x_1,x_2] (x - x_1) (x - x_2) + .... + f[x_0,x_1,...,x_n] (x-x_0)(x-x_1)....(x-x_{n+1})$$\n"
   ]
  },
  {
   "cell_type": "markdown",
   "metadata": {
    "kernel": "SoS"
   },
   "source": [
    "<h3><strong>b) Valores Iniciales</strong></h3>"
   ]
  },
  {
   "cell_type": "markdown",
   "metadata": {
    "kernel": "SoS"
   },
   "source": [
    "* Debemos tener $n+1$ puntos ordenados $(x_0,y_0),(x_1,y_1),(x_2,y_2),...,(x_n,y_n) $ "
   ]
  },
  {
   "cell_type": "markdown",
   "metadata": {
    "kernel": "SoS"
   },
   "source": [
    "<h3><strong>c) Ventajas y Desvantajas</strong></h3>"
   ]
  },
  {
   "cell_type": "markdown",
   "metadata": {
    "kernel": "SoS"
   },
   "source": [
    "**Ventajas**\n",
    "\n",
    "\n",
    "* No requiere el uso de una sumatoria.\n",
    "\n",
    "**Desventajas**\n",
    "\n",
    "* Hace uso de restas constantes de variables múltiples."
   ]
  },
  {
   "cell_type": "markdown",
   "metadata": {
    "kernel": "SoS"
   },
   "source": [
    "<h3><strong>d) Pasos del m&eacute;todo (Pseudoc&oacute;digo)</strong></h3>"
   ]
  },
  {
   "cell_type": "markdown",
   "metadata": {
    "kernel": "SoS"
   },
   "source": [
    "<div class=\"alert alert-block alert-info\">\n",
    "    \n",
    "    \n",
    "<p><span style=\"text-decoration: underline;\"><span style=\"text-decoration: underline;\"><strong>Valores Iniciales:</strong></span></span> $n+1$ puntos coordenados</p>\n",
    "<p>&nbsp; &nbsp; &nbsp; &nbsp; &nbsp;<span style=\"text-decoration: underline;\">Paso 1:</span> Obtener el valor de $x_0$ y $f(x_0)$.</p>\n",
    "<p>&nbsp; &nbsp; &nbsp; &nbsp; &nbsp;<span style=\"text-decoration: underline;\">Paso 2:</span> Realizar la evaluación del siguiente valor y realizar la resta correspondiente.</p>\n",
    "<p>&nbsp; &nbsp; &nbsp; &nbsp; &nbsp;<span style=\"text-decoration: underline;\">Paso 3: </span> Realizar la misma evaluación para el resto de valores a considerar. </p>\n",
    "\n",
    "</div>"
   ]
  },
  {
   "cell_type": "markdown",
   "metadata": {
    "kernel": "SoS"
   },
   "source": [
    "<h3><strong>e) C&oacute;digo en GNU Octave</strong></h3>"
   ]
  },
  {
   "cell_type": "code",
   "execution_count": null,
   "metadata": {
    "kernel": "SoS"
   },
   "outputs": [],
   "source": []
  },
  {
   "cell_type": "markdown",
   "metadata": {
    "kernel": "SoS"
   },
   "source": [
    "<h3><strong>f) C&oacute;digo Python</strong></h3>"
   ]
  },
  {
   "cell_type": "code",
   "execution_count": 36,
   "metadata": {
    "kernel": "Python 3"
   },
   "outputs": [],
   "source": [
    "import sympy\n",
    "import matplotlib.pyplot as plt\n",
    "import numpy as np  \n",
    "from sympy import *\n",
    "\n",
    "x = Symbol('x')\n",
    "\n",
    "def dif_newton(vx,vy):\n",
    "    \n",
    "#\n",
    "#Entradas:\n",
    "#\n",
    "#Dos vectores vx y vy los cuales contienen los valores en x y en y del polinomio\n",
    "#\n",
    "#Salidas:\n",
    "#\n",
    "#Polinomio equivalente que pasa por los puntos\n",
    "#\n",
    "\n",
    "    n=len(vx)\n",
    "    k=0\n",
    "    total=0\n",
    "    while k<n:\n",
    "        total =total + vy[k]*L(vx,k)\n",
    "        k+=1\n",
    "    return total\n",
    "\n",
    "def L(vecx,ind):\n",
    "    resultado = 1\n",
    "    for i in (range(ind)):\n",
    "        resultado = resultado*(x-vecx[i])/(vecx[ind]-vecx[i])\n",
    "    return resultado\n"
   ]
  },
  {
   "cell_type": "markdown",
   "metadata": {
    "kernel": "SoS"
   },
   "source": [
    "<h3><strong>g) Ejemplo Num&eacute;rico</strong></h3>"
   ]
  },
  {
   "cell_type": "markdown",
   "metadata": {
    "kernel": "SoS"
   },
   "source": [
    "<div class=\"alert alert-block alert-info\">\n",
    "    \n",
    "    \n",
    "Determinar la representacion de un polinomio que pasa por los puntos $(-2,0), (0,1)$ y $(1,-1)$ \n",
    "</div>"
   ]
  },
  {
   "cell_type": "code",
   "execution_count": null,
   "metadata": {
    "kernel": "SoS"
   },
   "outputs": [],
   "source": []
  },
  {
   "cell_type": "code",
   "execution_count": 37,
   "metadata": {
    "kernel": "Python 3"
   },
   "outputs": [
    {
     "data": {
      "text/latex": [
       "$\\displaystyle - x \\left(\\frac{x}{3} + \\frac{2}{3}\\right) + \\frac{x}{2} + 1$"
      ],
      "text/plain": [
       "-x*(x/3 + 2/3) + x/2 + 1"
      ]
     },
     "execution_count": 37,
     "metadata": {},
     "output_type": "execute_result"
    }
   ],
   "source": [
    "dif_newton([-2,0,1],[0,1,-1])"
   ]
  },
  {
   "cell_type": "code",
   "execution_count": null,
   "metadata": {
    "kernel": "Python 3"
   },
   "outputs": [],
   "source": []
  }
 ],
 "metadata": {
  "kernelspec": {
   "display_name": "SoS",
   "language": "sos",
   "name": "sos"
  },
  "language_info": {
   "codemirror_mode": "sos",
   "file_extension": ".sos",
   "mimetype": "text/x-sos",
   "name": "sos",
   "nbconvert_exporter": "sos_notebook.converter.SoS_Exporter",
   "pygments_lexer": "sos"
  },
  "sos": {
   "kernels": [
    [
     "Octave",
     "octave",
     "octave",
     "",
     ""
    ],
    [
     "Python 3",
     "python3",
     "python3",
     "",
     {
      "name": "ipython",
      "version": 3
     }
    ],
    [
     "SoS",
     "sos",
     "",
     "",
     "sos"
    ]
   ],
   "panel": {
    "displayed": false,
    "height": 0
   },
   "version": "0.21.7"
  }
 },
 "nbformat": 4,
 "nbformat_minor": 2
}
