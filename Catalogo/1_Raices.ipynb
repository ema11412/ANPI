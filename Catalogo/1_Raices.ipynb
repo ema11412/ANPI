{
 "cells": [
  {
   "cell_type": "markdown",
   "metadata": {
    "kernel": "SoS"
   },
   "source": [
    "<h1 style=\"text-align: center;\"><strong>1. Soluci&oacute;n de Ecuaciones No Lineales</strong></h1>"
   ]
  },
  {
   "cell_type": "markdown",
   "metadata": {
    "kernel": "python3"
   },
   "source": [
    "<h2 style=\"text-align: center;\"><span style=\"text-decoration: underline; color: #008080;\"><strong>Algoritmos</strong></span></h2>\n",
    "\n",
    "[<strong>M&eacute;todo 1: M&eacute;todo de la Bisecci&oacute;n</strong>](#biseccion)\n",
    "\n",
    "[<strong>M&eacute;todo 2:Newton;</strong>](#newton)\n",
    "\n",
    "[<strong>M&eacute;todo 3:Secante</strong>](#secante)\n",
    "\n",
    "[<strong>M&eacute;todo 4:Falsa posicion</strong>](#falsapos)\n",
    "\n",
    "[<strong>M&eacute;todo 5:Muller</strong>](#muller)\n",
    "\n",
    "[<strong>M&eacute;todo 6:Punto Fijo</strong>](#puntofijo)"
   ]
  },
  {
   "cell_type": "markdown",
   "metadata": {
    "kernel": "SoS"
   },
   "source": [
    "<a id='biseccion'></a>\n",
    "<h2><span style=\"color: #993300;\"><span style=\"text-decoration: underline;\"><strong>M&eacute;todo 1:</strong> M&eacute;todo de la Bisecci&oacute;n</span></span></h2>"
   ]
  },
  {
   "cell_type": "markdown",
   "metadata": {
    "kernel": "SoS"
   },
   "source": [
    "<h3><strong>a) Formulaci&oacute;n Matem&aacute;tica</strong></h3>"
   ]
  },
  {
   "cell_type": "markdown",
   "metadata": {
    "kernel": "SoS"
   },
   "source": [
    "\n",
    "Determinamos valores aproximados de $x$ con la formula:\n",
    "\n",
    "$$ x_{k} = \\frac{a_{k}+b_{k}}{2}$$\n",
    "$$I_{k+1}=\\left [ a_{k+1}, b_{k+1} \\right ] = \\left\\{\\begin{matrix}\n",
    " [ a_k, x_k]& \\textrm{si} & f(a_k)f(x_k)<0\\\\ \n",
    " [ x_k,b_k]& \\textrm{si} & f(a_k)f(x_k)>0 \n",
    "\\end{matrix}\\right.$$\n",
    "   \n",
    "Asi como el error absoluto asociado:\n",
    "$$e_k=|x_k-x| \\le \\frac{b-a}{2^k}$$\n"
   ]
  },
  {
   "cell_type": "markdown",
   "metadata": {
    "kernel": "SoS"
   },
   "source": [
    "<h3><strong>b) Valores Iniciales</strong></h3>\n"
   ]
  },
  {
   "cell_type": "markdown",
   "metadata": {
    "kernel": "SoS"
   },
   "source": [
    "* Dos valores $a$ y $b$ tal que $f(a)f(b)\\le 0$"
   ]
  },
  {
   "cell_type": "markdown",
   "metadata": {
    "kernel": "SoS"
   },
   "source": [
    "<h3><strong>c) Ventajas y Desvantajas</strong></h3>"
   ]
  },
  {
   "cell_type": "markdown",
   "metadata": {
    "kernel": "SoS"
   },
   "source": [
    "**Ventajas**\n",
    "\n",
    "\n",
    "* Converge en todos los casos.\n",
    "* Util como aproximación inicial de otros metodos.\n",
    "\n",
    "**Desventajas**\n",
    "\n",
    "\n",
    "* No toma en cuenta la magnitud de los valores de la función en las aproximaciones calculadas $x_k$, solo tiene en cuenta el signo de $f(x)$.\n",
    "* Posee tipo de convergencia lenta."
   ]
  },
  {
   "cell_type": "markdown",
   "metadata": {
    "kernel": "SoS"
   },
   "source": [
    "<h3><strong>d) Pasos del m&eacute;todo (Pseudoc&oacute;digo)</strong></h3>"
   ]
  },
  {
   "cell_type": "markdown",
   "metadata": {
    "kernel": "SoS"
   },
   "source": [
    "<div class=\"alert alert-block alert-info\">\n",
    "    \n",
    "    \n",
    "<p><span style=\"text-decoration: underline;\"><span style=\"text-decoration: underline;\"><strong>Valores Iniciales:</strong></span></span> Num&eacute;ros $a, b\\in\\mathbb{R}$</p>\n",
    "<p>&nbsp; &nbsp; &nbsp; &nbsp; &nbsp;<span style=\"text-decoration: underline;\">Paso 1:</span> Verificar que $f(a)f(b) \\le 0$</p>\n",
    "<p>&nbsp; &nbsp; &nbsp; &nbsp; &nbsp;<span style=\"text-decoration: underline;\">Paso 2:</span> Calcular $x_{k}$ = $\\tfrac{a+b}{2}$ y dividir $[a,b]$ en 2 intervalos [a,$x_{k}$] y [$x_{k}$,b]. </p>\n",
    "<p>&nbsp; &nbsp; &nbsp; &nbsp; &nbsp;<span style=\"text-decoration: underline;\">Paso 3:</span>  Realice las siguientes evaluaciones para determinar en qué intervalo cumple la condición de Bolzano: </p>\n",
    "<ul style=\"list-style-type:square;\">\n",
    "          <li>Si $f(a) f(x_{k}) \t\\leq  0$, entonces la raíz se encuentra dentro del intervalo izquierdo. Por lo tanto, haga $b = x_{k}$.</li>\n",
    "          <li>Si $f(b) f(x_{k}) \t\\leq 0$, entonces la raíz se encuentra dentro del intervalo derecho. Por lo tanto, haga $a = x_{k}$.</li>\n",
    "</ul>\n",
    "<p>&nbsp; &nbsp; &nbsp; &nbsp; &nbsp;<span style=\"text-decoration: underline;\">Paso 5:</span> Sea $k=k+1$ y repetir los Pasos 0, 1 y 2 al nuevo intervalo $[a,b]$. </p>\n",
    "\n",
    "</div>"
   ]
  },
  {
   "cell_type": "markdown",
   "metadata": {
    "kernel": "SoS"
   },
   "source": [
    "<h3><strong>e) C&oacute;digo en GNU Octave</strong></h3>"
   ]
  },
  {
   "cell_type": "code",
   "execution_count": 12,
   "metadata": {
    "kernel": "Octave"
   },
   "outputs": [],
   "source": [
    "function [x,k,error]=biseccion (f,a,b,tol,iterMax)\n",
    "\n",
    "    %Esta función aproxima la solución de la ecuación f(x)=0, utilizando el método de la bisección\n",
    "    %\n",
    "    %Sintaxis:  biseccion(f,a,b,tol,iterMax)\n",
    "    % \n",
    "    %Parámetros Iniciales: \n",
    "    %            f = una  cadena de caracteres (string) que representa a la función f\n",
    "    %            a,b = son los extremos del intervalo [a,b]\n",
    "    %            tol = un número positivo que representa a la tolerancia para el criterio |f(x_k)|<tol\n",
    "    %            iterMax = cantidad de iteraciones máximas\n",
    "    %            \n",
    "    %Parámetros de Salida:                           \n",
    "    %            x = aproximación del cero de la función f\n",
    "    %            k = número de iteraciones realizados\n",
    "    %            error =  |f(x)|\n",
    "\n",
    "    aux = strcat('@(x)',f); % @x + función\n",
    "    f1 = str2func(aux); % función string a ecuación\n",
    "\n",
    "    if f1(a)*f1(b)>0\n",
    "        x=[]; k=[]; error=[];\n",
    "        display('El teorema de Bolzano no se cumple, es decir, f(a)*f(b)>0')\n",
    "    else\n",
    "        k=0;\n",
    "        error=tol+1;\n",
    "        e=[];\n",
    "        while and(error>tol,k<iterMax)\n",
    "            k=k+1;\n",
    "            x=(a+b)/2;\n",
    "            error=abs(f1(x));\n",
    "            e=[e error];\n",
    "            if f1(a)*f1(x)<0\n",
    "                b=x;\n",
    "            else\n",
    "                a=x;\n",
    "            end\n",
    "        end\n",
    "        plot(1:k,e)\n",
    "    end\n",
    "end\n"
   ]
  },
  {
   "cell_type": "markdown",
   "metadata": {
    "kernel": "octave"
   },
   "source": [
    "<h3><strong>f) C&oacute;digo en Python</strong></h3>"
   ]
  },
  {
   "cell_type": "code",
   "execution_count": 10,
   "metadata": {
    "kernel": "Python 3"
   },
   "outputs": [],
   "source": [
    "#Librerias\n",
    "\n",
    "import math\n",
    "import matplotlib.pyplot as plt\n",
    "from sympy import *\n",
    "\n",
    "def f(x):\n",
    "    return math.exp(x)-x-2\n",
    "\n",
    "def biseccion(f1,a,b,tol,iterM):\n",
    "    #Esta función aproxima la solución de la ecuación f(x)=0, utilizando el método de la bisección\n",
    "    #sintaxis biseccion(f,a,b,tol,iterMax)\n",
    "    #Entradas:\n",
    "        #Entra una funcion definida arriba, a su vez dos numeros a y b los cuales\n",
    "        #seran los valores iniciales para comprobar el teorema de Bolzano\n",
    "        \n",
    "    #Salidas:\n",
    "        #Muestra una grafica con los valores de el error \n",
    "        #Muestra la ultima iteracion y su valor calculado\n",
    "    e=[]\n",
    "    sol=[]\n",
    "    #Teorema de Bolzano\n",
    "    if(f(a)*f(b) > 0):\n",
    "        print(\"No cumple con el teorema de Bolzano\")\n",
    "    else:\n",
    "        k=0\n",
    "        error=tol+1\n",
    "        while (k < iterM) and (error>tol):\n",
    "            k+=1\n",
    "            x=(b+a)/2\n",
    "            error=abs(f(x))\n",
    "            if(f(a)*f(x)<0):\n",
    "                b=x\n",
    "            else:\n",
    "                a=x\n",
    "            e=e+[error]\n",
    "            sol = sol + [x]\n",
    "            \n",
    "    #Grafica el valor de las distintas soluciones\n",
    "    plt.plot(e)\n",
    "    #El valor de la ultima iteracion se muestra\n",
    "    print(\"x = \",x)\n",
    "    print(\"k = \" ,k)\n",
    "    print(\"error = \",error)\n",
    "\n",
    "    "
   ]
  },
  {
   "cell_type": "markdown",
   "metadata": {
    "kernel": "python3"
   },
   "source": [
    "<h3><strong>g) Ejemplo Num&eacute;rico</strong></h3>"
   ]
  },
  {
   "cell_type": "markdown",
   "metadata": {
    "kernel": "python3"
   },
   "source": [
    "<div class=\"alert alert-block alert-info\">\n",
    "    \n",
    "Determinar la solucion de la ecuacion: \n",
    "$$e^x-x=2$$\n",
    "* Utilizando 40 iteraciones maximas\n",
    "* Intervalo $[0,2]$\n",
    "</div>"
   ]
  },
  {
   "cell_type": "code",
   "execution_count": 13,
   "metadata": {
    "kernel": "Octave"
   },
   "outputs": [
    {
     "name": "stdout",
     "output_type": "stream",
     "text": [
      "x =  1.1462\n",
      "k =  27\n",
      "error =  0.0000000012681\n"
     ]
    },
    {
     "data": {
      "image/png": "[encoded data removed]",
      "text/plain": [
       "<IPython.core.display.Image object>"
      ]
     },
     "metadata": {},
     "output_type": "display_data"
    }
   ],
   "source": [
    "# Solución del ejemplo utilizando Octave\n",
    "[x,k,error]=biseccion('exp(x)-x-2',0,2,10^-8,40)"
   ]
  },
  {
   "cell_type": "code",
   "execution_count": 11,
   "metadata": {
    "kernel": "Python 3"
   },
   "outputs": [
    {
     "name": "stdout",
     "output_type": "stream",
     "text": [
      "x =  1.1461932212114334\n",
      "k =  27\n",
      "error =  1.2680798633368795e-09\n"
     ]
    },
    {
     "data": {
      "image/png": "[encoded data removed]",
      "text/plain": [
       "<Figure size 432x288 with 1 Axes>"
      ]
     },
     "metadata": {
      "needs_background": "light"
     },
     "output_type": "display_data"
    }
   ],
   "source": [
    "# Solución del ejemplo utilizando Python\n",
    "biseccion(f,0,2,pow(10, -8),40)"
   ]
  },
  {
   "cell_type": "markdown",
   "metadata": {
    "kernel": "python3"
   },
   "source": [
    "<a id='newton'></a>\n",
    "<h2><span style=\"color: #993300;\"><span style=\"text-decoration: underline;\"><strong>M&eacute;todo 2:</strong> M&eacute;todo de Newton</span></span></h2>"
   ]
  },
  {
   "cell_type": "markdown",
   "metadata": {
    "kernel": "Python 3"
   },
   "source": [
    "<h3><strong>a) Formulaci&oacute;n Matem&aacute;tica</strong></h3>"
   ]
  },
  {
   "cell_type": "markdown",
   "metadata": {
    "kernel": "Python 3"
   },
   "source": [
    "$$x_{k+1}=x_k-\\frac{f(x_k)}{f'(x_k)}$$\n",
    "con $f'(x_k) \\neq 0$"
   ]
  },
  {
   "cell_type": "markdown",
   "metadata": {
    "kernel": "Python 3"
   },
   "source": [
    "<h3><strong>b) Valores Iniciales</strong></h3>"
   ]
  },
  {
   "cell_type": "markdown",
   "metadata": {
    "kernel": "Python 3"
   },
   "source": [
    "* Se da un valor inicial $x_0$ el cual es un numero real."
   ]
  },
  {
   "cell_type": "markdown",
   "metadata": {
    "kernel": "Python 3"
   },
   "source": [
    "<h3><strong>c) Ventajas y Desvantajas</strong></h3>"
   ]
  },
  {
   "cell_type": "markdown",
   "metadata": {
    "kernel": "Python 3"
   },
   "source": [
    "**Ventajas**\n",
    "\n",
    "* Método de Newton-Raphson es de los más reconocido y eficiente para la resolución del problema de búsqueda de raíces.\n",
    "* El método de newton es eficiente en la solución de sistemas de ecuaciones no lineales.\n",
    "* El método converge muy r´apidamente y proporciona una muy buena precisi´on en los resultados.\n",
    "\n",
    "**Desventajas**\n",
    "\n",
    "* Lenta convergencia.\n",
    "* Requiere la evaluaci´on de una derivada.\n",
    "* Cuando un punto de inflexión, $f''(x) = 0$, ocurre en la vecindad de una raíz.\n",
    "* No posee un criterio general de convergencia.\n",
    "\n"
   ]
  },
  {
   "cell_type": "markdown",
   "metadata": {
    "kernel": "Python 3"
   },
   "source": [
    "<h3><strong>d) Pasos del m&eacute;todo (Pseudoc&oacute;digo)</strong></h3>"
   ]
  },
  {
   "cell_type": "markdown",
   "metadata": {
    "kernel": "Python 3"
   },
   "source": [
    "<div class=\"alert alert-block alert-info\">\n",
    "    \n",
    "    \n",
    "<p><span style=\"text-decoration: underline;\"><span style=\"text-decoration: underline;\"><strong>Valores Iniciales:</strong></span></span> Num&eacute;ros $x_0 \\in\\mathbb{R}$</p>\n",
    "<p>&nbsp; &nbsp; &nbsp; &nbsp; &nbsp;<span style=\"text-decoration: underline;\">Paso 1:</span>  Determinar el valor algebraico de la derivada $f'$ </p>\n",
    "<p>&nbsp; &nbsp; &nbsp; &nbsp; &nbsp;<span style=\"text-decoration: underline;\">Paso 2:</span>  Verificar que $f'(x_0)$ no sea 0</p>\n",
    "<p>&nbsp; &nbsp; &nbsp; &nbsp; &nbsp;<span style=\"text-decoration: underline;\">Paso 3:</span>  Utilizar la formula del metodo</p>\n",
    "<p>&nbsp; &nbsp; &nbsp; &nbsp; &nbsp;<span style=\"text-decoration: underline;\">Paso 4:</span>  Recalcular x_0 y repetir recursivamente</p>\n",
    "\n",
    "\n",
    "</div>"
   ]
  },
  {
   "cell_type": "markdown",
   "metadata": {
    "kernel": "Python 3"
   },
   "source": [
    "<h3><strong>e) C&oacute;digo en GNU Octave</strong></h3>"
   ]
  },
  {
   "cell_type": "code",
   "execution_count": 1,
   "metadata": {
    "kernel": "Octave"
   },
   "outputs": [],
   "source": [
    "pkg load symbolic;\n",
    "\n",
    "function [df] = derivar(f,x)\n",
    "    aux = strcat('@(x)',f); \n",
    "    f1 = str2func(aux);\n",
    "    h=0.000000001;\n",
    "    df = (f1(x + h) - f1(x)) / h;\n",
    "endfunction\n",
    "\n",
    "function [x,k,error]=newton(f,x0,tol,iterMax)\n",
    "    \n",
    "    %Esta función aproxima la solución de la ecuación f(x)=0, utilizando el método de la newton\n",
    "    %\n",
    "    %Sintaxis:  newton(f,x0,tol,iterMax)\n",
    "    % \n",
    "    %Parámetros Iniciales: \n",
    "    %Entra una funcion definida arriba, por el parametro de entrada x0 \n",
    "    %utilizads en la formula recursiva          \n",
    "    %            \n",
    "    %            \n",
    "    %Parámetros de Salida:                           \n",
    "    %Muestra una grafica con los valores de el error \n",
    "    %Muestra la ultima iteracion y su valor calculado           \n",
    "    %  \n",
    "    aux = strcat('@(x)',f); % @x + función\n",
    "    f1 = str2func(aux); % función string a ecuación\n",
    "\n",
    "    \n",
    "    x=[]; k=[]; error=[];\n",
    "\n",
    "    k=0;\n",
    "    error=tol+1;\n",
    "    e=[];\n",
    "        while and(error>tol,k<iterMax)\n",
    "            \n",
    "            k=k+1;\n",
    "            x= x0-(f1(x0)/(derivar(f,x0)));\n",
    "            error=abs(f1(x));\n",
    "            e=[e error];\n",
    "            x0=x;\n",
    "        end\n",
    "        plot(1:k,e)\n",
    "end"
   ]
  },
  {
   "cell_type": "markdown",
   "metadata": {
    "kernel": "Python 3"
   },
   "source": [
    "<h3><strong>f) C&oacute;digo en Python</strong></h3>"
   ]
  },
  {
   "cell_type": "code",
   "execution_count": 6,
   "metadata": {
    "kernel": "Python 3"
   },
   "outputs": [],
   "source": [
    "import math\n",
    "import matplotlib.pyplot as plt\n",
    "from sympy import *\n",
    "\n",
    "def f(x):   # Se crea la funcion a trabajar (Se debe cambiar aca)\n",
    "    funcion = log(4*x/3)-2*cos(x)+0.5\n",
    "    return funcion\n",
    "\n",
    "def derivar(x):  # Se calcula la derivada por definicion\n",
    "    h = 0.000000001\n",
    "    derivada = (f(x + h) - f(x)) / h\n",
    "    return derivada\n",
    "\n",
    "\n",
    "def newton(f1,x0,tol,iterM):\n",
    "    #Entradas:\n",
    "    #Entra una funcion definida arriba, a su vez dos numeros x0 \n",
    "    #seran los valores iniciales utilizados en la formula recursiva\n",
    "        \n",
    "    #Salidas:\n",
    "        #Muestra una grafica con los valores de el error \n",
    "        #Muestra la ultima iteracion y su valor calculado\n",
    "    e=[]\n",
    "    sol=[]\n",
    "    k=0\n",
    "    error=tol+1\n",
    "    if (derivar(x0) == 0):\n",
    "        print(\"error derivada se hace cero en\", x0)\n",
    "    while (k < iterM) and (error>tol):\n",
    "        xk= x0-(f1(x0)/derivar(x0))\n",
    "        error=abs(f1(xk))\n",
    "        k+=1\n",
    "        x0=xk\n",
    "        e=e+[error]\n",
    "        sol = sol + [xk]\n",
    "\n",
    "    #Grafica el valor de las distintas soluciones\n",
    "    plt.plot(e)\n",
    "    #El valor de la ultima iteracion se muestra\n",
    "    print(\"x = \",xk)\n",
    "    print(\"k = \" ,k)\n",
    "    print(\"error = \",error)\n"
   ]
  },
  {
   "cell_type": "markdown",
   "metadata": {
    "kernel": "Python 3"
   },
   "source": [
    "<h3><strong>h) Ejemplo numérico</strong></h3>"
   ]
  },
  {
   "cell_type": "markdown",
   "metadata": {
    "kernel": "Python 3"
   },
   "source": [
    "<div class=\"alert alert-block alert-info\">\n",
    "    \n",
    "Determinar la solucion de la ecuacion: \n",
    "$$\\ln\\left ( \\frac{4}{3}x \\right )=2\\cos(x)-\\frac{1}{2}$$\n",
    "* Utilizando 10 iteraciones maximas\n",
    "* Utilizando como valor inicial $x_0=1.5$\n",
    "</div>"
   ]
  },
  {
   "cell_type": "code",
   "execution_count": 3,
   "metadata": {
    "kernel": "Octave"
   },
   "outputs": [
    {
     "name": "stdout",
     "output_type": "stream",
     "text": [
      "x =  1.1090\n",
      "k =  2\n",
      "error =  0.00000066548\n"
     ]
    },
    {
     "data": {
      "image/png": "[encoded data removed]",
      "text/plain": [
       "<IPython.core.display.Image object>"
      ]
     },
     "metadata": {},
     "output_type": "display_data"
    }
   ],
   "source": [
    "[x,k,error]=newton('log(4*x/3)-2*cos(x)+0.5',1.5,10^-2,10)"
   ]
  },
  {
   "cell_type": "code",
   "execution_count": 7,
   "metadata": {
    "kernel": "Python 3"
   },
   "outputs": [
    {
     "name": "stdout",
     "output_type": "stream",
     "text": [
      "x =  1.10899029446012\n",
      "k =  2\n",
      "error =  6.65476417360811e-7\n"
     ]
    },
    {
     "data": {
      "image/png": "[encoded data removed]",
      "text/plain": [
       "<Figure size 432x288 with 1 Axes>"
      ]
     },
     "metadata": {
      "needs_background": "light"
     },
     "output_type": "display_data"
    }
   ],
   "source": [
    "newton(f,1.5,pow(10, -2),10)"
   ]
  },
  {
   "cell_type": "markdown",
   "metadata": {
    "kernel": "Python 3"
   },
   "source": [
    "<a id='secante'></a>\n",
    "<h2><span style=\"color: #993300;\"><span style=\"text-decoration: underline;\"><strong>M&eacute;todo 3:</strong> Secante</span></span></h2>"
   ]
  },
  {
   "cell_type": "markdown",
   "metadata": {
    "kernel": "Python 3"
   },
   "source": [
    "<h3><strong>a) Formulaci&oacute;n Matem&aacute;tica</strong></h3>"
   ]
  },
  {
   "cell_type": "markdown",
   "metadata": {
    "kernel": "Python 3"
   },
   "source": [
    "\n",
    "$$x_{k+1} = x_{k} - \\left(    \\frac{x_{k} - x_{k-1}}{f(x_{k})- f(x_{k-1})}  \\right) f(x_{k})$$"
   ]
  },
  {
   "cell_type": "markdown",
   "metadata": {
    "kernel": "Python 3"
   },
   "source": [
    "<h3><strong>b) Valores Iniciales</strong></h3>"
   ]
  },
  {
   "cell_type": "markdown",
   "metadata": {
    "kernel": "Python 3"
   },
   "source": [
    "* Se necesitan dos valores iniciales $x_0$ y $x_1$ reales."
   ]
  },
  {
   "cell_type": "markdown",
   "metadata": {
    "kernel": "Python 3"
   },
   "source": [
    "<h3><strong>c) Ventajas y Desvantajas</strong></h3>"
   ]
  },
  {
   "cell_type": "markdown",
   "metadata": {
    "kernel": "Python 3"
   },
   "source": [
    "**Ventajas**\n",
    "\n",
    "* Si la función $f(x)$ es muy compleja, se le puede aplicar sin tener que obtener su derivada.\n",
    "\n",
    "\n",
    "**Desventajas**\n",
    "\n",
    "* Su velocidad de convergencia es menor que la de otros métodos.\n",
    "* Su convergencia no se asegura si la primera aproximación a la raíz no es lo suficientemente cercana a ella, ni tampoco se asegura cuando la raíız es múltiple.\n"
   ]
  },
  {
   "cell_type": "markdown",
   "metadata": {
    "kernel": "Python 3"
   },
   "source": [
    "<h3><strong>d) Pasos del m&eacute;todo (Pseudoc&oacute;digo)</strong></h3>"
   ]
  },
  {
   "cell_type": "markdown",
   "metadata": {
    "kernel": "Python 3"
   },
   "source": [
    "<div class=\"alert alert-block alert-info\">\n",
    "    \n",
    "    \n",
    "<p><span style=\"text-decoration: underline;\"><span style=\"text-decoration: underline;\"><strong>Valores Iniciales:</strong></span></span> Num&eacute;ros $x_0 , x_1\\in\\mathbb{R}$</p>\n",
    "<p>&nbsp; &nbsp; &nbsp; &nbsp; &nbsp;<span style=\"text-decoration: underline;\">Paso 1:</span> Se calcula el valor de $x_{k+1}$ en la formula matematica</p>\n",
    "<p>&nbsp; &nbsp; &nbsp; &nbsp; &nbsp;<span style=\"text-decoration: underline;\">Paso 2:</span> Se cambia el valor de $x_0 = x_1$ y luego $x_1=x_{k+1}$ </p>\n",
    "<p>&nbsp; &nbsp; &nbsp; &nbsp; &nbsp;<span style=\"text-decoration: underline;\">Paso 3:</span> Se repite el calculo de $x_{k+1}$ con los nuevos valores</p>\n",
    "\n",
    "\n",
    "</div>"
   ]
  },
  {
   "cell_type": "markdown",
   "metadata": {
    "kernel": "Python 3"
   },
   "source": [
    "<h3><strong>e) C&oacute;digo en GNU Octave</strong></h3>"
   ]
  },
  {
   "cell_type": "code",
   "execution_count": 37,
   "metadata": {
    "kernel": "Octave"
   },
   "outputs": [],
   "source": [
    "function [x,k,error]=secante (f,x0,x1,tol,iterMax)\n",
    "\n",
    "    %Esta función aproxima la solución de la ecuación f(x)=0, utilizando el método de la secante\n",
    "    %\n",
    "    %Sintaxis:  secante(f,a,b,tol,iterMax)\n",
    "    % \n",
    "    %Parámetros Iniciales: \n",
    "    %Entra una funcion definida arriba, a su vez dos numeros x0 y x1 los cuales\n",
    "    %seran los valores iniciales utilizados en la formula recursiva          \n",
    "    %            \n",
    "    %            \n",
    "    %Parámetros de Salida:                           \n",
    "    %Muestra una grafica con los valores de el error \n",
    "    %Muestra la ultima iteracion y su valor calculado           \n",
    "    %            \n",
    "\n",
    "    aux = strcat('@(x)',f); % @x + función\n",
    "    f1 = str2func(aux); % función string a ecuación\n",
    "\n",
    "    x=[]; k=[]; error=[];\n",
    "\n",
    "    k=0;\n",
    "    error=tol+1;\n",
    "    e=[];\n",
    "        while and(error>tol,k<iterMax)\n",
    "            k=k+1;\n",
    "            x= x1-((x1-x0)/(f1(x1)-f1(x0)))*f1(x1);\n",
    "            error=abs(f1(x));\n",
    "            e=[e error];\n",
    "            x0=x1;\n",
    "            x1=x;\n",
    "        end\n",
    "        plot(1:k,e)\n",
    "end"
   ]
  },
  {
   "cell_type": "markdown",
   "metadata": {
    "kernel": "Python 3"
   },
   "source": [
    "<h3><strong>f) C&oacute;digo en Python</strong></h3>"
   ]
  },
  {
   "cell_type": "code",
   "execution_count": 22,
   "metadata": {
    "kernel": "Python 3"
   },
   "outputs": [],
   "source": [
    "import math\n",
    "import matplotlib.pyplot as plt\n",
    "\n",
    "\n",
    "def f(x):\n",
    "    return math.exp(x)-x-2\n",
    "\n",
    "def secante(f1,x0,x1,tol,iterM):\n",
    "    #Entradas:\n",
    "    #Entra una funcion definida arriba, a su vez dos numeros x0 y x1 los cuales\n",
    "    #seran los valores iniciales utilizados en la formula recursiva\n",
    "        \n",
    "    #Salidas:\n",
    "        #Muestra una grafica con los valores de el error \n",
    "        #Muestra la ultima iteracion y su valor calculado\n",
    "    e=[]\n",
    "    sol=[]\n",
    "    k=0\n",
    "    error=tol+1\n",
    "    \n",
    "    while (k < iterM) and (error>tol):\n",
    "        xk= x1-((x1-x0)/(f1(x1)-f1(x0)))*f1(x1)\n",
    "        error=abs(f1(xk))\n",
    "        k+=1\n",
    "        x0=x1\n",
    "        x1=xk\n",
    "        e=e+[error]\n",
    "        sol = sol + [xk]\n",
    "\n",
    "    #Grafica el valor de las distintas soluciones\n",
    "    plt.plot(e)\n",
    "    #El valor de la ultima iteracion se muestra\n",
    "    print(\"x = \",xk)\n",
    "    print(\"k = \" ,k)\n",
    "    print(\"error = \",error)"
   ]
  },
  {
   "cell_type": "markdown",
   "metadata": {
    "kernel": "Python 3"
   },
   "source": [
    "<h3><strong>h) Ejemplo numérico</strong></h3>"
   ]
  },
  {
   "cell_type": "markdown",
   "metadata": {
    "kernel": "Python 3"
   },
   "source": [
    "<div class=\"alert alert-block alert-info\">\n",
    "    \n",
    "Determinar la solucion de la ecuacion: \n",
    "$$e^x-x=2$$\n",
    "* Utilizando 40 iteraciones maximas\n",
    "* Utilizar $x_0=0$ y $x_1=2$\n",
    "</div>"
   ]
  },
  {
   "cell_type": "code",
   "execution_count": 35,
   "metadata": {
    "kernel": "Octave"
   },
   "outputs": [
    {
     "name": "stdout",
     "output_type": "stream",
     "text": [
      "x =  1.1462\n",
      "k =  9\n",
      "error =    7.2298e-13\n"
     ]
    },
    {
     "data": {
      "image/png": "[encoded data removed]",
      "text/plain": [
       "<IPython.core.display.Image object>"
      ]
     },
     "metadata": {},
     "output_type": "display_data"
    }
   ],
   "source": [
    "# Solución del ejemplo utilizando Octave\n",
    "[x,k,error]=secante('exp(x)-x-2',0,2,10^-8,40)"
   ]
  },
  {
   "cell_type": "code",
   "execution_count": 23,
   "metadata": {
    "kernel": "Python 3"
   },
   "outputs": [
    {
     "name": "stdout",
     "output_type": "stream",
     "text": [
      "x =  1.1461932206209196\n",
      "k =  9\n",
      "error =  7.229772336359019e-13\n"
     ]
    },
    {
     "data": {
      "image/png": "[encoded data removed]",
      "text/plain": [
       "<Figure size 432x288 with 1 Axes>"
      ]
     },
     "metadata": {
      "needs_background": "light"
     },
     "output_type": "display_data"
    }
   ],
   "source": [
    "# Solución del ejemplo utilizando Python\n",
    "secante(f,0,2,pow(10, -8),10)"
   ]
  },
  {
   "cell_type": "markdown",
   "metadata": {
    "kernel": "Python 3"
   },
   "source": [
    "<a id='falsapos'></a>\n",
    "<h2><span style=\"color: #993300;\"><span style=\"text-decoration: underline;\"><strong>M&eacute;todo 4:</strong> Falsa posición</span></span></h2>"
   ]
  },
  {
   "cell_type": "markdown",
   "metadata": {
    "kernel": "Python 3"
   },
   "source": [
    "<h3><strong>a) Formulaci&oacute;n Matem&aacute;tica</strong></h3>"
   ]
  },
  {
   "cell_type": "markdown",
   "metadata": {
    "kernel": "Python 3"
   },
   "source": [
    "$$ \\color{blue} {x_{r} = x_{u} - \\frac{f(x_{u})(x_{l}-x_{u})}{f(x_{l}) - f(x_{u})}}$$"
   ]
  },
  {
   "cell_type": "markdown",
   "metadata": {
    "kernel": "Python 3"
   },
   "source": [
    "<h3><strong>b) Valores Iniciales</strong></h3>"
   ]
  },
  {
   "cell_type": "markdown",
   "metadata": {
    "kernel": "Python 3"
   },
   "source": [
    "* Itervalo $[a,b]$ con $x_0=a$ y $x_1=b$ tal que $f(x_0)f(x_1)\\le 0$"
   ]
  },
  {
   "cell_type": "markdown",
   "metadata": {
    "kernel": "Python 3"
   },
   "source": [
    "<h3><strong>c) Ventajas y Desvantajas</strong></h3>"
   ]
  },
  {
   "cell_type": "markdown",
   "metadata": {
    "kernel": "Python 3"
   },
   "source": [
    "**Ventajas**\n",
    "\n",
    "* Siempre que se conozca la existencia de una ra´ız en el intervalo dado, este convergera.\n",
    "* Tiende a ser m´as r´apido a la hora de converger, en comparaci´on con m´etodos como el de la biseccion.\n",
    "\n",
    "\n",
    "**Desventajas**\n",
    "\n",
    "* Es de caracter unilateral  "
   ]
  },
  {
   "cell_type": "markdown",
   "metadata": {
    "kernel": "Python 3"
   },
   "source": [
    "<h3><strong>d) Pasos del m&eacute;todo (Pseudoc&oacute;digo)</strong></h3>"
   ]
  },
  {
   "cell_type": "markdown",
   "metadata": {
    "kernel": "Python 3"
   },
   "source": [
    "<div class=\"alert alert-block alert-info\">\n",
    "    \n",
    "    \n",
    "<p><span style=\"text-decoration: underline;\"><span style=\"text-decoration: underline;\"><strong>Valores Iniciales:</strong></span></span> Intervalo $[a , b]\\in\\mathbb{R}$</p>\n",
    "<p><span style=\"text-decoration: underline;\">Paso 1:</span> Se cuenta inicialmente con: $x_0 = a$ y $x_1 = b$. Se debe verificar que $f(x_0)f(x_1) < 0$ y calcular $x_2$ utilizando el metodo de la secante. Sea $a_2 = a$ y $b_2 = b$, donde $x_2 \\in [a_2,b_2]$. Para un valor $k ≤ 2$.</p>\n",
    "<p><span style=\"text-decoration: underline;\">Paso 2:</span> Utilizando el metodo de la Biseccion. Como se tiene que $x_k \\in [a_k, b_k]$, entonces el se debe dividir el intervalo en dos secciones, $[a_k, x_k]$ y $[x_k, b_k]$. Se escoge el intervalo donde se garantice que\n",
    "existe un cero de la funcion. Es decir:\n",
    "    \n",
    "* si $f(a_k)f(x_k) < 0$, entonces se escoge el intervalo $[a_k, x_k]$.\n",
    "* si $f(x_k)f(b_k) < 0$, entonces se escoge el intervalo $[x_k, b_k]$.</p>\n",
    "\n",
    "<p><span style=\"text-decoration: underline;\">Paso 3:</span> Utilizando el metodo de la Secante. Usando el intervalo seleccionado, se calcula $x_{k+1}$ usando\n",
    "el metodo de la secante, donde\n",
    "\n",
    "$$x_{k+1} = x_{k} - \\left(    \\frac{x_{k} - c_{k}}{f(x_{k})- f(x_{c})}  \\right) f(x_{k})$$\n",
    "\n",
    "* Donde:\n",
    "$$c_k = \\left\\{\\begin{matrix}\n",
    " a_k & \\textrm{si}\\,\\,\\textrm{se}\\,\\,\\textrm{selecciona} & [ a_k, x_k]\\\\ \n",
    " b_k&  \\textrm{si}\\,\\,\\textrm{se}\\,\\,\\textrm{selecciona} & [ x_k,b_k] \n",
    "\\end{matrix}\\right.$$\n",
    "</p>\n",
    "\n",
    "\n",
    "</div>"
   ]
  },
  {
   "cell_type": "markdown",
   "metadata": {
    "kernel": "Python 3"
   },
   "source": [
    "<h3><strong>e) C&oacute;digo en GNU Octave</strong></h3>"
   ]
  },
  {
   "cell_type": "code",
   "execution_count": null,
   "metadata": {
    "kernel": "Octave"
   },
   "outputs": [],
   "source": [
    "function [c]=secante(a, b)\n",
    "    c = b - (b - a) * f(b) / (f(b) - f(a));  # Otorgar valor a x.\n",
    "end\n",
    "\n",
    "\n",
    "\n",
    "\n",
    "function [x,k,error]=punto_fijo(f1,x0,x1,tol,iterM)\n",
    "    #Entradas:\n",
    "        #Entra una funcion definida arriba, a su vez dos numeros x0 y x1 los cuales\n",
    "        #seran los valores iniciales para comprobar el teorema de Bolzano\n",
    "        \n",
    "    #Salidas:\n",
    "        #Muestra una grafica con los valores de x los cuales seran las aproximadas \n",
    "        #por cada iteracion y tambien la ultima aproximacion\n",
    "    e=[]\n",
    "    sol=[]\n",
    "    #Teorema de Bolzano\n",
    "    if(f1(x0)*f1(x1) > 0):\n",
    "        dislpay(\"No cumple con el teorema de Bolzano\")\n",
    "    else:\n",
    "        k=0;\n",
    "        error=tol+1;\n",
    "        x3=x0;\n",
    "        while (error>tol)\n",
    "            k=k+1;\n",
    "            x2=Secante(x0, x1);\n",
    "            \n",
    "            if(f(x0)*f(x2)<0)\n",
    "                x3 = Secante(x0, x2);\n",
    "                x0=x1;\n",
    "                x1=x2;\n",
    "            if(f(x1)*f(x2)<0)\n",
    "                x3 = Secante(x1, x2);\n",
    "                x0=x1;\n",
    "                x1=x2;\n",
    "            error=abs(f(x3));\n",
    "            e=[e error];\n",
    "        end\n",
    "    plot(1:k,e)\n",
    "end\n"
   ]
  },
  {
   "cell_type": "markdown",
   "metadata": {
    "kernel": "Python 3"
   },
   "source": [
    "<h3><strong>f) C&oacute;digo en Python</strong></h3>"
   ]
  },
  {
   "cell_type": "code",
   "execution_count": 4,
   "metadata": {
    "kernel": "Python 3"
   },
   "outputs": [],
   "source": [
    "import math\n",
    "import matplotlib.pyplot as plt\n",
    "\n",
    "\n",
    "\n",
    "def Secante(a, b):\n",
    "    c = b - (b - a) * f(b) / (f(b) - f(a))  # Otorgar valor a x.\n",
    "    return c\n",
    "\n",
    "\n",
    "def f(x):\n",
    "    return math.exp(x)-x-2 \n",
    "\n",
    "def Falsa_Posicion(f1,x0,x1,tol,iterM):\n",
    "    #Entradas:\n",
    "        #Entra una funcion definida arriba, a su vez dos numeros x0 y x1 los cuales\n",
    "        #seran los valores iniciales para comprobar el teorema de Bolzano\n",
    "        \n",
    "    #Salidas:\n",
    "        #Muestra una grafica con los valores de x los cuales seran las aproximadas \n",
    "        #por cada iteracion y tambien la ultima aproximacion\n",
    "    e=[]\n",
    "    sol=[]\n",
    "    #Teorema de Bolzano\n",
    "    if(f1(x0)*f1(x1) > 0):\n",
    "        print(\"No cumple con el teorema de Bolzano\")\n",
    "    else:\n",
    "        k=0\n",
    "        error=tol+1\n",
    "        x3=x0\n",
    "        while (k < iterM) and (error>tol):\n",
    "            k+=1\n",
    "            x2=Secante(x0, x1)\n",
    "            \n",
    "            if(f(x0)*f(x2)<0):\n",
    "                x3 = Secante(x0, x2)\n",
    "                x0=x1\n",
    "                x1=x2\n",
    "            elif(f(x1)*f(x2)<0):\n",
    "                x3 = Secante(x1, x2)\n",
    "                x0=x1\n",
    "                x1=x2\n",
    "            error=abs(f(x3))\n",
    "            e=e+[error]\n",
    "            sol = sol + [x3]\n",
    "            #print(e)\n",
    "            #print(sol)\n",
    "    #Grafica el valor de las distintas soluciones\n",
    "    plt.plot(e)\n",
    "    #El valor de la ultima iteracion se muestra\n",
    "    print(\"x = \",x3)\n",
    "    print(\"k = \" ,k)\n",
    "    print(\"error = \",error)"
   ]
  },
  {
   "cell_type": "markdown",
   "metadata": {
    "kernel": "Python 3"
   },
   "source": [
    "<h3><strong>h) Ejemplo numérico</strong></h3>"
   ]
  },
  {
   "cell_type": "markdown",
   "metadata": {
    "kernel": "Octave"
   },
   "source": [
    "<div class=\"alert alert-block alert-info\">\n",
    "    \n",
    "Determinar la solucion de la ecuacion: \n",
    "$$e^x-x=2$$\n",
    "* Utilizando 20 iteraciones maximas\n",
    "* Utilizar tolerancia $10^{-8}$\n",
    "* Utilizar $x_0=0$ y $x_1=2$\n",
    "</div>"
   ]
  },
  {
   "cell_type": "code",
   "execution_count": 5,
   "metadata": {
    "kernel": "Python 3"
   },
   "outputs": [
    {
     "name": "stdout",
     "output_type": "stream",
     "text": [
      "x =  1.1461932205980407\n",
      "k =  8\n",
      "error =  4.8379300565670746e-11\n"
     ]
    },
    {
     "data": {
      "image/png": "[encoded data removed]",
      "text/plain": [
       "<Figure size 432x288 with 1 Axes>"
      ]
     },
     "metadata": {
      "needs_background": "light"
     },
     "output_type": "display_data"
    }
   ],
   "source": [
    "Falsa_Posicion('exp(x)-x-2',0, 2, pow(10, -8),20)"
   ]
  },
  {
   "cell_type": "code",
   "execution_count": 2,
   "metadata": {
    "kernel": "Python 3"
   },
   "outputs": [
    {
     "name": "stdout",
     "output_type": "stream",
     "text": [
      "x =  1.1461932205980407\n",
      "k =  8\n",
      "error =  4.8379300565670746e-11\n"
     ]
    },
    {
     "data": {
      "image/png": "[encoded data removed]",
      "text/plain": [
       "<Figure size 432x288 with 1 Axes>"
      ]
     },
     "metadata": {
      "needs_background": "light"
     },
     "output_type": "display_data"
    }
   ],
   "source": [
    "Falsa_Posicion(f,0, 2, pow(10, -8),20)"
   ]
  },
  {
   "cell_type": "markdown",
   "metadata": {
    "kernel": "Python 3"
   },
   "source": [
    "<a id='muller'></a>\n",
    "<h2><span style=\"color: #993300;\"><span style=\"text-decoration: underline;\"><strong>M&eacute;todo 5:</strong> Muller</span></span></h2>"
   ]
  },
  {
   "cell_type": "markdown",
   "metadata": {
    "kernel": "Python 3"
   },
   "source": [
    "<h3><strong>a) Formulaci&oacute;n Matem&aacute;tica</strong></h3>"
   ]
  },
  {
   "cell_type": "markdown",
   "metadata": {
    "kernel": "Python 3"
   },
   "source": [
    "$$\\color{blue} {g(x)=ax^2+bx+c }$$"
   ]
  },
  {
   "cell_type": "markdown",
   "metadata": {
    "kernel": "Python 3"
   },
   "source": [
    "<h3><strong>b) Valores Iniciales</strong></h3>"
   ]
  },
  {
   "cell_type": "markdown",
   "metadata": {
    "kernel": "Python 3"
   },
   "source": [
    "* Valores $x_0,x_1,x_2 \\in \\mathbb{R}$ y una función continua $f$."
   ]
  },
  {
   "cell_type": "markdown",
   "metadata": {
    "kernel": "Python 3"
   },
   "source": [
    "<h3><strong>c) Ventajas y Desvantajas</strong></h3>"
   ]
  },
  {
   "cell_type": "markdown",
   "metadata": {
    "kernel": "Python 3"
   },
   "source": [
    "**Ventajas**\n",
    "* Al usar la formula cuadratica, es capaz de hallar raıces complejas.\n",
    "\n",
    "**Desventajas**\n",
    "\n",
    "* En cada iteracion se descarta una posible ra´ız de la par´abola sin conocer la naturaleza de la misma"
   ]
  },
  {
   "cell_type": "markdown",
   "metadata": {
    "kernel": "Python 3"
   },
   "source": [
    "<h3><strong>d) Pasos del m&eacute;todo (Pseudoc&oacute;digo)</strong></h3>"
   ]
  },
  {
   "cell_type": "markdown",
   "metadata": {
    "kernel": "Python 3"
   },
   "source": [
    "<div class=\"alert alert-block alert-info\">\n",
    "    \n",
    "    \n",
    "<p><span style=\"text-decoration: underline;\"><span style=\"text-decoration: underline;\"><strong>Valores Iniciales:</strong></span></span> Num&eacute;ros $x_0 , x_1,x_2\\in\\mathbb{R}$</p>\n",
    "<p>&nbsp; &nbsp; &nbsp; &nbsp; &nbsp;<span style=\"text-decoration: underline;\">Paso 1:</span> Encontrar las funciones cuadráticas que pasan por los puntos: $(x_0,f(x_0))$, $(x_1, f(x_1))$ y\n",
    "$(x_2; f(x_2))$.</p>\n",
    "<p>&nbsp; &nbsp; &nbsp; &nbsp; &nbsp;<span style=\"text-decoration: underline;\">Paso 2:</span> Encontrar el valor de $r$ mediante la fórmula cuadratica racionalizada. Inmediatamente se evalua, si $r$ es la solucion de la ecuacion o esta muy cerca de $x_2$ el metodo se detiene; en caso opuesto se continua  </p>\n",
    "<p>&nbsp; &nbsp; &nbsp; &nbsp; &nbsp;<span style=\"text-decoration: underline;\">Paso 3:</span> Se encuentran los nuevos valores para $x_0, x_1$ y $x_2$, asignandoles los valores de $r$ y los dos\n",
    "mas cercanos a $r$ entre los $x_0, x_1$ y $x_2$ anteriores.</p>\n",
    "\n",
    "\n",
    "</div>"
   ]
  },
  {
   "cell_type": "markdown",
   "metadata": {
    "kernel": "Python 3"
   },
   "source": [
    "<h3><strong>e) C&oacute;digo en GNU Octave</strong></h3>"
   ]
  },
  {
   "cell_type": "code",
   "execution_count": null,
   "metadata": {
    "kernel": "Octave"
   },
   "outputs": [],
   "source": [
    "pkg load symbolic;\n",
    "function [x,k,error]= muller(f1,x0,x1,x2,tol,iterMax)\n",
    "\n",
    "    %Esta función aproxima la solución de la ecuación f(x)=0, utilizando el método de la bisección\n",
    "    %\n",
    "    %Sintaxis:  biseccion(f,a,b,tol,iterMax)\n",
    "    % \n",
    "    %Parámetros Iniciales: \n",
    "    %            f1 = una  cadena de caracteres (string) que representa a la función \n",
    "    %            x0,x1,x2 = son los valores iniciales\n",
    "    %            tol = un número positivo que representa a la tolerancia para el criterio |f(x_k)|<tol\n",
    "    %            iterMax = cantidad de iteraciones máximas\n",
    "    %            \n",
    "    %Parámetros de Salida:                           \n",
    "    %            x = aproximación del cero de la función f\n",
    "    %            k = número de iteraciones realizados\n",
    "    %            error =  |f(x)|\n",
    "\n",
    "        aux = strcat('@(x)',f1); % @x + función\n",
    "    f = str2func(aux); % función string a ecuación\n",
    "    k=0;\n",
    "    error=tol+1;\n",
    "    e=[];\n",
    "    x=0\n",
    "    while and(error>tol)\n",
    "        k=k+1;\n",
    "        c = f(x2);\n",
    "        b = ((x0-x2)^2*(f(x1)-f(x2))-(x1-x2)^2*(f(x0)-f(x2)))/((x0-x2)*(x1-x2)*(x0-x1));\n",
    "        a = ((x1-x2)*(f(x0)-f(x2))-(x0-x2)*(f(x1)-f(x2)))/((x0-x2)*(x1-x2)*(x0-x1));\n",
    "        x = x2-(2*c)/(b+sign(b)*sqrt(b^2-4*a*c));\n",
    "        error=abs(f(x));\n",
    "        e=[e error];\n",
    "        x0 = x1; \n",
    "        x1 = x2; \n",
    "        x2 = x;\n",
    "     end\n",
    "    plot(1:k,e)\n",
    "\n",
    "end\n"
   ]
  },
  {
   "cell_type": "markdown",
   "metadata": {
    "kernel": "Python 3"
   },
   "source": [
    "<h3><strong>f) C&oacute;digo en Python</strong></h3>"
   ]
  },
  {
   "cell_type": "code",
   "execution_count": 2,
   "metadata": {
    "kernel": "Python 3"
   },
   "outputs": [],
   "source": [
    "from numpy import sign\n",
    "from numpy.lib.scimath import sqrt\n",
    "import matplotlib.pyplot as plt\n",
    "\n",
    "def f(x):\n",
    "    return x**2+2*x+5\n",
    "\n",
    "def muller(f,x0,x1,x2,tol,iterM):\n",
    "    error = tol+1\n",
    "    e=[]\n",
    "    k=0\n",
    "    x3 = 0\n",
    "    while error > tol:\n",
    "        k+=1\n",
    "        c = f(x2)\n",
    "        b = ((x0-x2)**2*(f(x1)-f(x2))-(x1-x2)**2*(f(x0)-f(x2)))/((x0-x2)*(x1-x2)*(x0-x1))\n",
    "        a = ((x1-x2)*(f(x0)-f(x2))-(x0-x2)*(f(x1)-f(x2)))/((x0-x2)*(x1-x2)*(x0-x1))\n",
    "        x3 = x2-(2*c)/(b+sign(b)*sqrt(b**2-4*a*c))\n",
    "        error = abs(x3-x2)\n",
    "        e = e + [error]\n",
    "        x0 = x1; x1 = x2; x2 = x3;\n",
    "    \n",
    "    plt.plot(e)\n",
    "    #El valor de la ultima iteracion se muestra\n",
    "    print(\"x = \",x3)\n",
    "    print(\"k = \" ,k)\n",
    "    print(\"error = \",error)"
   ]
  },
  {
   "cell_type": "markdown",
   "metadata": {
    "kernel": "Python 3"
   },
   "source": [
    "<h3><strong>h) Ejemplo numérico</strong></h3>"
   ]
  },
  {
   "cell_type": "markdown",
   "metadata": {
    "kernel": "Python 3"
   },
   "source": [
    "<div class=\"alert alert-block alert-info\">\n",
    "    \n",
    "Determinar la solucion de la ecuacion: \n",
    "$$x^2+2x+5=0$$\n",
    "* Utilizando 20 iteraciones maximas\n",
    "* Utilizar tolerancia $10^{-8}$\n",
    "* Utilizar $x_0=-1$ , $x_1=0$ y $x_2=5$\n",
    "</div>"
   ]
  },
  {
   "cell_type": "code",
   "execution_count": 3,
   "metadata": {
    "kernel": "Octave"
   },
   "outputs": [
    {
     "name": "stdout",
     "output_type": "stream",
     "text": [
      "x =  (-1-2j)\n",
      "k =  10\n",
      "error =  5.845994348697835e-12\n"
     ]
    },
    {
     "data": {
      "image/png": "[encoded data removed]",
      "text/plain": [
       "<Figure size 432x288 with 1 Axes>"
      ]
     },
     "metadata": {
      "needs_background": "light"
     },
     "output_type": "display_data"
    }
   ],
   "source": [
    "[x,k,error]=muller('x^2+2*x+5',-1,0,5,10^-8,20)"
   ]
  },
  {
   "cell_type": "code",
   "execution_count": 4,
   "metadata": {
    "kernel": "Python 3"
   },
   "outputs": [
    {
     "name": "stdout",
     "output_type": "stream",
     "text": [
      "x =  (-1-2j)\n",
      "k =  10\n",
      "error =  5.845994348697835e-12\n"
     ]
    },
    {
     "data": {
      "image/png": "[encoded data removed]",
      "text/plain": [
       "<Figure size 432x288 with 1 Axes>"
      ]
     },
     "metadata": {
      "needs_background": "light"
     },
     "output_type": "display_data"
    }
   ],
   "source": [
    "muller(f,-1,0,5,1e-8,20)"
   ]
  },
  {
   "cell_type": "markdown",
   "metadata": {
    "kernel": "Python 3"
   },
   "source": [
    "<a id='puntofijo'></a>\n",
    "<h2><span style=\"color: #993300;\"><span style=\"text-decoration: underline;\"><strong>M&eacute;todo 6:</strong> Punto Fijo</span></span></h2>"
   ]
  },
  {
   "cell_type": "markdown",
   "metadata": {
    "kernel": "Python 3"
   },
   "source": [
    "<h3><strong>a) Formulaci&oacute;n Matem&aacute;tica</strong></h3>"
   ]
  },
  {
   "cell_type": "markdown",
   "metadata": {
    "kernel": "Python 3"
   },
   "source": [
    "$$\\color{blue} { f(x)=\\phi(x) -x }$$"
   ]
  },
  {
   "cell_type": "markdown",
   "metadata": {
    "kernel": "Python 3"
   },
   "source": [
    "<h3><strong>b) Valores Iniciales</strong></h3>"
   ]
  },
  {
   "cell_type": "markdown",
   "metadata": {
    "kernel": "Octave"
   },
   "source": [
    "* Intervalo $[a,b]$ "
   ]
  },
  {
   "cell_type": "markdown",
   "metadata": {
    "kernel": "Python 3"
   },
   "source": [
    "<h3><strong>c) Ventajas y Desvantajas</strong></h3>"
   ]
  },
  {
   "cell_type": "markdown",
   "metadata": {
    "kernel": "Python 3"
   },
   "source": [
    "**Ventajas**\n",
    "* Es un metodo considerado simple.\n",
    "* Posee condiciones para asegurar la convergencia. Es condición necesaria que $|f'(x)| < 1$ en cercanías de la raíz\n",
    "\n",
    "**Desventajas**\n",
    "\n",
    "* La convergencia depende de la magnitud de $f’(x)$.\n",
    "* Posee la necesidad de construir funciones $f(x)$ para iterar."
   ]
  },
  {
   "cell_type": "markdown",
   "metadata": {
    "kernel": "Python 3"
   },
   "source": [
    "<h3><strong>d) Pasos del m&eacute;todo (Pseudoc&oacute;digo)</strong></h3>"
   ]
  },
  {
   "cell_type": "markdown",
   "metadata": {
    "kernel": "Python 3"
   },
   "source": [
    "<div class=\"alert alert-block alert-info\">\n",
    "    \n",
    "    \n",
    "<p><span style=\"text-decoration: underline;\"><span style=\"text-decoration: underline;\"><strong>Valores Iniciales:</strong></span></span> Intervalo $[a,b]$</p>\n",
    "<p>&nbsp; &nbsp; &nbsp; &nbsp; &nbsp;<span style=\"text-decoration: underline;\">Paso 1:</span> Determinamos el valor de la función $\\phi(x)$</p>\n",
    "<p>&nbsp; &nbsp; &nbsp; &nbsp; &nbsp;<span style=\"text-decoration: underline;\">Paso 2:</span> Determinamos existencia y unicidad de la funcion $\\phi(x)$, calculando $\\phi'(x)$ y $\\phi''(x)$ </p>\n",
    "<p>&nbsp; &nbsp; &nbsp; &nbsp; &nbsp;<span style=\"text-decoration: underline;\">Paso 3:</span> Determinamos un valor de $x_k$ = $\\phi(r)$</p>\n",
    "<p>&nbsp; &nbsp; &nbsp; &nbsp; &nbsp;<span style=\"text-decoration: underline;\">Paso 4:</span> Iteramos hasta que  $\\phi(x_k)-x_k$ sea menor que la toleracia aceptada</p>\n",
    "\n",
    "</div>"
   ]
  },
  {
   "cell_type": "markdown",
   "metadata": {
    "kernel": "Python 3"
   },
   "source": [
    "<h3><strong>e) C&oacute;digo en GNU Octave</strong></h3>"
   ]
  },
  {
   "cell_type": "code",
   "execution_count": null,
   "metadata": {
    "kernel": "Octave"
   },
   "outputs": [],
   "source": [
    "function [x,k,error]=punto_fijo (f,a,b,tol,iterMax)\n",
    "\n",
    "    %Esta función aproxima la solución de la ecuación f(x)=0, utilizando el método de la bisección\n",
    "    %\n",
    "    %Sintaxis:  punto_fijo(f,a,b,tol,iterMax)\n",
    "    % \n",
    "    %Parámetros Iniciales: \n",
    "    %            f = una  cadena de caracteres (string) que representa a la función f\n",
    "    %            a,b = son los extremos del intervalo [a,b]\n",
    "    %            tol = un número positivo que representa a la tolerancia para el criterio |f(x_k)|<tol\n",
    "    %            iterMax = cantidad de iteraciones máximas\n",
    "    %            \n",
    "    %Parámetros de Salida:                           \n",
    "    %            x = aproximación del cero de la función f\n",
    "    %            k = número de iteraciones realizados\n",
    "    %            error =  |f(x)-x|\n",
    "\n",
    "    aux = strcat('@(x)',f); % @x + función\n",
    "    f1 = str2func(aux); % función string a ecuación\n",
    "\n",
    "    k=0;\n",
    "    x=f1(a)\n",
    "    error=tol+1;\n",
    "    e=[];\n",
    "    while and(error>tol,k<iterMax)\n",
    "        k=k+1;\n",
    "        x=f1(a);\n",
    "        error=abs(f1(x)-x);\n",
    "        e=[e error];\n",
    "    end\n",
    "    plot(1:k,e)\n",
    "\n",
    "end"
   ]
  },
  {
   "cell_type": "markdown",
   "metadata": {
    "kernel": "Python 3"
   },
   "source": [
    "<h3><strong>f) C&oacute;digo en Python</strong></h3>"
   ]
  },
  {
   "cell_type": "code",
   "execution_count": 6,
   "metadata": {
    "kernel": "Python 3"
   },
   "outputs": [],
   "source": [
    "import math\n",
    "import matplotlib.pyplot as plt\n",
    "from sympy import *\n",
    "\n",
    "def f(x):\n",
    "    return math.log(2*x+1)\n",
    "\n",
    "def punto_fijo(f1,a,b,tol,iterM):\n",
    "    #Esta función aproxima la solución de la ecuación f(x)=0, utilizando el método del punto fijo\n",
    "    #sintaxis punto_fijo(f1,a,b,tol,iterM)\n",
    "    #Entradas:\n",
    "        #Entra una funcion definida arriba, a su vez dos numeros a y b los cuales\n",
    "        #seran los valores iniciales \n",
    "        \n",
    "    #Salidas:\n",
    "        #Muestra una grafica con los valores de el error \n",
    "        #Muestra la ultima iteracion y su valor calculado\n",
    "    x=a\n",
    "    e=[]\n",
    "    k=0\n",
    "    error=tol+1\n",
    "    while (k < iterM) and (error>tol):\n",
    "        x=f1(x)\n",
    "        error = abs(f1(x)-x)\n",
    "        k+=1\n",
    "        e=e+[error]\n",
    "            \n",
    "    #Grafica el valor de las distintas soluciones\n",
    "    plt.plot(e)\n",
    "    #El valor de la ultima iteracion se muestra\n",
    "    print(\"x = \",x)\n",
    "    print(\"k = \" ,k)\n",
    "    print(\"error = \",error)"
   ]
  },
  {
   "cell_type": "markdown",
   "metadata": {
    "kernel": "Python 3"
   },
   "source": [
    "<h3><strong>h) Ejemplo numérico</strong></h3>"
   ]
  },
  {
   "cell_type": "markdown",
   "metadata": {
    "kernel": "Python 3"
   },
   "source": [
    "<div class=\"alert alert-block alert-info\">\n",
    "    \n",
    "Determinar la solucion de la ecuacion: \n",
    "$$e^x-2x-1=0$$\n",
    "* Utilizando 20 iteraciones maximas\n",
    "* Utilizar tolerancia $10^{-8}$\n",
    "* Utilizar intervalo $[1,2]$\n",
    "* Utilizando $\\phi(x)=\\ln(2x+1)$\n",
    "</div>"
   ]
  },
  {
   "cell_type": "code",
   "execution_count": 8,
   "metadata": {
    "kernel": "Python 3"
   },
   "outputs": [
    {
     "name": "stdout",
     "output_type": "stream",
     "text": [
      "x =  1.256427241061667\n",
      "k =  20\n",
      "error =  1.7086835601975991e-06\n"
     ]
    },
    {
     "data": {
      "image/png": "[encoded data removed]",
      "text/plain": [
       "<Figure size 432x288 with 1 Axes>"
      ]
     },
     "metadata": {
      "needs_background": "light"
     },
     "output_type": "display_data"
    }
   ],
   "source": [
    "[x,k,error]=punto_fijo('ln(2x+1)',1,2,10^-8,20)"
   ]
  },
  {
   "cell_type": "code",
   "execution_count": 7,
   "metadata": {
    "kernel": "Python 3"
   },
   "outputs": [
    {
     "name": "stdout",
     "output_type": "stream",
     "text": [
      "x =  1.256427241061667\n",
      "k =  20\n",
      "error =  1.7086835601975991e-06\n"
     ]
    },
    {
     "data": {
      "image/png": "[encoded data removed]",
      "text/plain": [
       "<Figure size 432x288 with 1 Axes>"
      ]
     },
     "metadata": {
      "needs_background": "light"
     },
     "output_type": "display_data"
    }
   ],
   "source": [
    "punto_fijo(f,1,2,1e-8,20)"
   ]
  }
 ],
 "metadata": {
  "kernelspec": {
   "display_name": "SoS",
   "language": "sos",
   "name": "sos"
  },
  "language_info": {
   "codemirror_mode": "sos",
   "file_extension": ".sos",
   "mimetype": "text/x-sos",
   "name": "sos",
   "nbconvert_exporter": "sos_notebook.converter.SoS_Exporter",
   "pygments_lexer": "sos"
  },
  "sos": {
   "kernels": [
    [
     "Octave",
     "octave",
     "octave",
     "",
     ""
    ],
    [
     "Python 3",
     "python3",
     "python3",
     "",
     {
      "name": "ipython",
      "version": 3
     }
    ]
   ],
   "panel": {
    "displayed": false,
    "height": 0
   },
   "version": "0.21.18"
  }
 },
 "nbformat": 4,
 "nbformat_minor": 2
}
