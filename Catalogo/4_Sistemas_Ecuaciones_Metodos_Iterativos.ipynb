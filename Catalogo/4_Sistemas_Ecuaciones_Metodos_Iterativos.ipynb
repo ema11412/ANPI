{
 "cells": [
  {
   "cell_type": "markdown",
   "metadata": {
    "kernel": "SoS"
   },
   "source": [
    "<h1 style=\"text-align: center;\"><strong>4. Sistemas de Ecuaciones Lineales: Métodos Iterativos</strong></h1>"
   ]
  },
  {
   "cell_type": "markdown",
   "metadata": {
    "kernel": "SoS"
   },
   "source": [
    "<h2 style=\"text-align: center;\"><span style=\"text-decoration: underline; color: #008080;\"><strong>Algoritmos</strong></span></h2>\n",
    "\n",
    "[<strong>M&eacute;todo 1: Metodo de Jacobi</strong>](#m1)\n",
    "\n",
    "[<strong>M&eacute;todo 2: Gauss-Seidel</strong>](#m2)\n"
   ]
  },
  {
   "cell_type": "markdown",
   "metadata": {
    "kernel": "SoS"
   },
   "source": [
    "<a id='m1'></a>\n",
    "<h2><span style=\"color: #993300;\"><span style=\"text-decoration: underline;\"><strong>M&eacute;todo 1:</strong> Jacobi</span></span></h2>"
   ]
  },
  {
   "cell_type": "markdown",
   "metadata": {
    "kernel": "SoS"
   },
   "source": [
    "<h3><strong>a) Formulaci&oacute;n Matem&aacute;tica</strong></h3>"
   ]
  },
  {
   "cell_type": "markdown",
   "metadata": {
    "kernel": "SoS"
   },
   "source": [
    "$$x_{i}^{\\left( k+1 \\right)}=\\frac{1}{a_{ii}}\\left( b_{i} - \\sum\\limits_{j\\ne i}{a_{ij}x_{j}^{\\left( k \\right)}} \\right),i=1,2,3,...$$"
   ]
  },
  {
   "cell_type": "markdown",
   "metadata": {
    "kernel": "SoS"
   },
   "source": [
    "<h3><strong>b) Valores Iniciales</strong></h3>"
   ]
  },
  {
   "cell_type": "markdown",
   "metadata": {
    "kernel": "SoS"
   },
   "source": [
    "* Una matriz $A$,un vector $b$ y vector inicial $x^{0}$"
   ]
  },
  {
   "cell_type": "markdown",
   "metadata": {
    "kernel": "SoS"
   },
   "source": [
    "<h3><strong>c) Ventajas y Desvantajas</strong></h3>"
   ]
  },
  {
   "cell_type": "markdown",
   "metadata": {
    "kernel": "SoS"
   },
   "source": [
    "**Ventajas**\n",
    "\n",
    "\n",
    "* Los cálculos de L, D y U resultan sencillos tanto manualmente como computacionalmente.\n",
    "*  Posee un método de resolución que no requiere el uso de matrices, sino que se toma como un sistema de ecuaciones.\n",
    "\n",
    "**Desventajas**\n",
    "\n",
    "\n",
    "* No se utilizan los resultados que se calculan hasta la siguiente iteración.\n",
    "* Su convergencia resulta lenta en comparación a otros métodos."
   ]
  },
  {
   "cell_type": "markdown",
   "metadata": {
    "kernel": "SoS"
   },
   "source": [
    "<h3><strong>d) Pasos del m&eacute;todo (Pseudoc&oacute;digo)</strong></h3>"
   ]
  },
  {
   "cell_type": "markdown",
   "metadata": {
    "kernel": "SoS"
   },
   "source": [
    "<div class=\"alert alert-block alert-info\">\n",
    "    \n",
    "\n",
    "\n",
    "<p><span style=\"text-decoration: underline;\"><span style=\"text-decoration: underline;\"><strong>Valores Iniciales:</strong></span></span> $A$, $b$ y $x^0$</p>\n",
    "<p>&nbsp; &nbsp; &nbsp; &nbsp; &nbsp;<span style=\"text-decoration: underline;\">Paso 1:</span> Validar la simetría de la matriz A.</p>\n",
    "<p>&nbsp; &nbsp; &nbsp; &nbsp; &nbsp;<span style=\"text-decoration: underline;\">Paso 2:</span> Se determina la matriz $L$, $D$ y $U$. </p>\n",
    "<p>&nbsp; &nbsp; &nbsp; &nbsp; &nbsp;<span style=\"text-decoration: underline;\">Paso 4:</span> Proseguir el método hasta cumplir con la condición de parada. </p>\n",
    "\n",
    "</div>"
   ]
  },
  {
   "cell_type": "markdown",
   "metadata": {
    "kernel": "SoS"
   },
   "source": [
    "<h3><strong>e) C&oacute;digo en GNU Octave</strong></h3>"
   ]
  },
  {
   "cell_type": "code",
   "execution_count": null,
   "metadata": {
    "kernel": "Octave"
   },
   "outputs": [],
   "source": [
    "function x = jacobi(matriz, b, x0, it)\n",
    "#Simtaxis\n",
    "# la es una matriz, un vector que deben tener el mismo orde fila-columna, vector inicial y cantidad de iteraciones\n",
    "#\n",
    "#\n",
    "%\n",
    "%Entradas:\n",
    "%Matriz diagonalmente dominante, vector b, valores iniciales x0, cantidad de iteraciones\n",
    "%\n",
    "%Salida:\n",
    "%vector x con la solucion del sistema\n",
    "%\n",
    "%\n",
    "    x =x0;\n",
    "    A = [matriz b];\n",
    "    [n,m] = size(A); \n",
    "    while(k<=it)\n",
    "        for i=1:n\n",
    "            s = 0;\n",
    "            temp = A(i,i);\n",
    "            b = A(i,n)/temp;\n",
    "            for j=1:n\n",
    "                if (j~=i)\n",
    "                    s += (-1*A(i,j)/temp)*x0(j);\n",
    "                end\n",
    "            end\n",
    "        \n",
    "            x(i) = s + b;\n",
    "        k =k+ 1\n",
    "        for  i=1:n\n",
    "            x0(i) = x(i);\n",
    "        end\n",
    "    end\n",
    "end"
   ]
  },
  {
   "cell_type": "markdown",
   "metadata": {
    "kernel": "SoS"
   },
   "source": [
    "<h3><strong>f) C&oacute;digo Python</strong></h3>"
   ]
  },
  {
   "cell_type": "code",
   "execution_count": 15,
   "metadata": {
    "kernel": "Python 3"
   },
   "outputs": [],
   "source": [
    "import numpy as np\n",
    "\n",
    "def jacobi(Matriz,b,x0,iterMax):\n",
    "#Simtaxis\n",
    "# la es una matriz, un vector que deben tener el mismo orde fila-columna, vector inicial y cantidad de iteraciones\n",
    "#\n",
    "#\n",
    "#\n",
    "#Entradas:\n",
    "#Matriz diagonalmente dominante, vector b , valores iniciales x0, cantidad de iteraciones\n",
    "#\n",
    "#Salida:\n",
    "#vector x con la solucion del sistema\n",
    "#\n",
    "#\n",
    "    A = Matriz\n",
    "    c=0\n",
    "# unifica matriz con vector b\n",
    "    while c<len(b):\n",
    "        A[c] += [b[c]]\n",
    "        c+=1\n",
    "    n,m = np.shape(A)\n",
    "    k = 0\n",
    "    x = x0\n",
    "    while(k<=iterMax):\n",
    "        for i in range(n):\n",
    "            s = 0\n",
    "            temp = A[i][i]\n",
    "            b = A[i][n]/temp\n",
    "            for j in range(0,len(x)):\n",
    "                if j!=i:\n",
    "                    s += (-1*A[i][j]/temp)*x0[j]\n",
    "            x[i] = s + b\n",
    "        k += 1\n",
    "        x0 = [0 for y in range(n)]\n",
    "        for  i in range(n):\n",
    "            x0[i] = x[i]\n",
    "    return x"
   ]
  },
  {
   "cell_type": "markdown",
   "metadata": {
    "kernel": "SoS"
   },
   "source": [
    "<h3><strong>g) Ejemplo Num&eacute;rico</strong></h3>"
   ]
  },
  {
   "cell_type": "markdown",
   "metadata": {
    "kernel": "SoS"
   },
   "source": [
    "<div class=\"alert alert-block alert-info\">\n",
    "    \n",
    "Determinar la solucion de la ecuacion del siguente sistema de ecuaciones con 6 iteraciones: \n",
    "\n",
    "\n",
    "$$\\left\\{\\begin{matrix}\n",
    "5x_1 + x_2+x_3 & = & 7\\\\ \n",
    "x_1 + 5x_2+x_3 & = & 7\\\\ \n",
    "x_1 +1x_2+5x_3 & = & 7\\\\ \n",
    "\\end{matrix}\\right.$$\n",
    "\n",
    "Con vector inicial $x^{(0)} = (0,0,0)^T$\n",
    "</div>"
   ]
  },
  {
   "cell_type": "code",
   "execution_count": 16,
   "metadata": {
    "kernel": "Octave"
   },
   "outputs": [
    {
     "data": {
      "text/plain": [
       "[0.9999637831679999, 0.999963639808, 0.99996352512]"
      ]
     },
     "execution_count": 16,
     "metadata": {},
     "output_type": "execute_result"
    }
   ],
   "source": [
    "A = [5,1,1 ; 1,5,1 ; 1,1,5];\n",
    "b = [7;7;7];\n",
    "x = [0,0,0];\n",
    "\n",
    "x = jacobi(A,b,x,6)"
   ]
  },
  {
   "cell_type": "code",
   "execution_count": 11,
   "metadata": {
    "kernel": "Python 3"
   },
   "outputs": [
    {
     "data": {
      "text/plain": [
       "[0.9999637831679999, 0.999963639808, 0.99996352512]"
      ]
     },
     "execution_count": 11,
     "metadata": {},
     "output_type": "execute_result"
    }
   ],
   "source": [
    "A = [[5,1,1],[1,5,1],[1,1,5]]\n",
    "b=[ 7, 7, 7]\n",
    "x0=[0, 0, 0]\n",
    "\n",
    "jacobi(A,b,x0,9)"
   ]
  },
  {
   "cell_type": "markdown",
   "metadata": {
    "kernel": "SoS"
   },
   "source": [
    "<a id='m2'></a>\n",
    "<h2><span style=\"color: #993300;\"><span style=\"text-decoration: underline;\"><strong>M&eacute;todo 2:</strong> Gauss-Seidel</span></span></h2>"
   ]
  },
  {
   "cell_type": "markdown",
   "metadata": {
    "kernel": "SoS"
   },
   "source": [
    "<h3><strong>a) Formulaci&oacute;n Matem&aacute;tica</strong></h3>"
   ]
  },
  {
   "cell_type": "markdown",
   "metadata": {
    "kernel": "SoS"
   },
   "source": [
    "$$x_i^{(k+1)}=\\frac{b_i-\\sum_{1{\\leq}j{\\leq}i-1}a_{ij}x_{j}^{(k+1)}-\\sum_{i+1{\\leq}j{\\leq}n}a_{ij}x_{j}^{(k)}}{a_{ii}}, i=1,...,n$$"
   ]
  },
  {
   "cell_type": "markdown",
   "metadata": {
    "kernel": "SoS"
   },
   "source": [
    "<h3><strong>b) Valores Iniciales</strong></h3>"
   ]
  },
  {
   "cell_type": "markdown",
   "metadata": {
    "kernel": "SoS"
   },
   "source": [
    "* Una matriz $A$ y vectores $b$, $x^{(0)}$"
   ]
  },
  {
   "cell_type": "markdown",
   "metadata": {
    "kernel": "SoS"
   },
   "source": [
    "<h3><strong>c) Ventajas y Desvantajas</strong></h3>"
   ]
  },
  {
   "cell_type": "markdown",
   "metadata": {
    "kernel": "SoS"
   },
   "source": [
    "**Ventajas**\n",
    "\n",
    "* Resulta más rápido y exacto que la Iteración de Jacobi.\n",
    "* Permite el uso de fracciones.\n",
    "\n",
    "**Desventajas**\n",
    "\n",
    "* No converge siempre a la solución del sistema.\n",
    "* Resulta más largo que otros métodos."
   ]
  },
  {
   "cell_type": "markdown",
   "metadata": {
    "kernel": "SoS"
   },
   "source": [
    "<h3><strong>d) Pasos del m&eacute;todo (Pseudoc&oacute;digo)</strong></h3>"
   ]
  },
  {
   "cell_type": "markdown",
   "metadata": {
    "kernel": "SoS"
   },
   "source": [
    "<div class=\"alert alert-block alert-info\">\n",
    "    \n",
    "    \n",
    "<p><span style=\"text-decoration: underline;\"><span style=\"text-decoration: underline;\"><strong>Valores Iniciales:</strong></span></span> $A$ y $b$</p>\n",
    "<p>&nbsp; &nbsp; &nbsp; &nbsp; &nbsp;<span style=\"text-decoration: underline;\">Paso 0:</span> Validar la simetría de la matriz $A$.</p>\n",
    "<p>&nbsp; &nbsp; &nbsp; &nbsp; &nbsp;<span style=\"text-decoration: underline;\">Paso 1:</span> Validar la simetría de la matriz $A$.</p>\n",
    "<p>&nbsp; &nbsp; &nbsp; &nbsp; &nbsp;<span style=\"text-decoration: underline;\">Paso 2: </span> Se realiza el calculo de $Ux$ , Sea $Ux = y$</p>\n",
    "<p>&nbsp; &nbsp; &nbsp; &nbsp; &nbsp;<span style=\"text-decoration: underline;\">Paso 3: </span> Se obtienen los valores de $y = (y_1, y_2 ,y_3 , ..., y_n)$.</p>\n",
    "<p>&nbsp; &nbsp; &nbsp; &nbsp; &nbsp;<span style=\"text-decoration: underline;\">Paso 4: </span> Se calculan los valores de $x = (x_1, x_2, x_3, .... x_n).$.</p>\n",
    "\n",
    "</div>"
   ]
  },
  {
   "cell_type": "markdown",
   "metadata": {
    "kernel": "SoS"
   },
   "source": [
    "<h3><strong>e) C&oacute;digo en GNU Octave</strong></h3>"
   ]
  },
  {
   "cell_type": "code",
   "execution_count": null,
   "metadata": {
    "kernel": "Octave"
   },
   "outputs": [],
   "source": []
  },
  {
   "cell_type": "markdown",
   "metadata": {
    "kernel": "SoS"
   },
   "source": [
    "<h3><strong>f) C&oacute;digo Python</strong></h3>"
   ]
  },
  {
   "cell_type": "code",
   "execution_count": 19,
   "metadata": {
    "kernel": "Python 3"
   },
   "outputs": [],
   "source": [
    "def gauss_seidel(m, x0, maxIter=100):\n",
    "#Sintaxis\n",
    "# la es una matriz, un vector que deben tener el mismo orde fila-columna, vector inicial y cantidad de iteraciones por defecto 100\n",
    "#\n",
    "#\n",
    "#\n",
    "#Entradas:\n",
    "#Matriz diagonalmente dominante, vector b , valores iniciales x0, cantidad de iteraciones\n",
    "#\n",
    "#Salida:\n",
    "#vector x con la solucion del sistema\n",
    "#\n",
    "#\n",
    "  x1 = x0\n",
    "  A = m\n",
    "  c=0\n",
    "# unifica matriz con vector b\n",
    "  while c<len(b):\n",
    "      A[c] += [b[c]]\n",
    "      c+=1\n",
    "  n  = len(A)\n",
    "  for i in range(maxIter):\n",
    "    for i in range(n):\n",
    "      s = sum(-A[i][j] * x1[j] for j in range(n) if i != j) \n",
    "      x1[i] = (A[i][n] + s) / A[i][i]\n",
    "\n",
    "    x0 = x1[:] \n",
    "    \n",
    "  return x1"
   ]
  },
  {
   "cell_type": "markdown",
   "metadata": {
    "kernel": "SoS"
   },
   "source": [
    "<h3><strong>g) Ejemplo Num&eacute;rico</strong></h3>"
   ]
  },
  {
   "cell_type": "markdown",
   "metadata": {
    "kernel": "SoS"
   },
   "source": [
    "<div class=\"alert alert-block alert-info\">\n",
    "    \n",
    "Determinar la solucion de la ecuacion del siguente sistema de ecuaciones con 6 iteraciones: \n",
    "\n",
    "\n",
    "$$\\left\\{\\begin{matrix}\n",
    "5x_1 + x_2+x_3 & = & 7\\\\ \n",
    "x_1 + 5x_2+x_3 & = & 7\\\\ \n",
    "x_1 +1x_2+5x_3 & = & 7\\\\ \n",
    "\\end{matrix}\\right.$$\n",
    "\n",
    "Con vector inicial $x^{(0)} = (0,0,0)^T$\n",
    "</div>"
   ]
  },
  {
   "cell_type": "code",
   "execution_count": null,
   "metadata": {
    "kernel": "SoS"
   },
   "outputs": [],
   "source": []
  },
  {
   "cell_type": "code",
   "execution_count": 20,
   "metadata": {
    "kernel": "Python 3"
   },
   "outputs": [
    {
     "data": {
      "text/plain": [
       "[1.0, 1.0, 1.0]"
      ]
     },
     "execution_count": 20,
     "metadata": {},
     "output_type": "execute_result"
    }
   ],
   "source": [
    "A = [[5,1,1],[1,5,1],[1,1,5]]\n",
    "b=[ 7, 7, 7]\n",
    "x0=[0, 0, 0]\n",
    "gauss_seidel(A,b)"
   ]
  }
 ],
 "metadata": {
  "kernelspec": {
   "display_name": "SoS",
   "language": "sos",
   "name": "sos"
  },
  "language_info": {
   "codemirror_mode": "sos",
   "file_extension": ".sos",
   "mimetype": "text/x-sos",
   "name": "sos",
   "nbconvert_exporter": "sos_notebook.converter.SoS_Exporter",
   "pygments_lexer": "sos"
  },
  "sos": {
   "kernels": [
    [
     "Octave",
     "octave",
     "octave",
     "",
     ""
    ],
    [
     "Python 3",
     "python3",
     "python3",
     "",
     {
      "name": "ipython",
      "version": 3
     }
    ],
    [
     "SoS",
     "sos",
     "",
     "",
     "sos"
    ]
   ],
   "panel": {
    "displayed": false,
    "height": 0
   },
   "version": "0.21.7"
  }
 },
 "nbformat": 4,
 "nbformat_minor": 2
}
