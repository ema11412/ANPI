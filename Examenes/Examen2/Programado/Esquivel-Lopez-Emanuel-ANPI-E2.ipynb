{
 "cells": [
  {
   "cell_type": "markdown",
   "metadata": {
    "kernel": "SoS"
   },
   "source": [
    "<h1 style=\"text-align: center;\"><span style=\"color: #0000ff;\">Segundo Examen de Porgramacion</span></h1>"
   ]
  },
  {
   "cell_type": "markdown",
   "metadata": {
    "kernel": "SoS"
   },
   "source": [
    "<h3><span style=\"text-decoration: underline;\">Nombre:</span>&nbsp;Emanuel Esquivel L&oacute;pez</h3>\n",
    "<h3><span style=\"text-decoration: underline;\">Carnet:</span>&nbsp;2016133597</h3>"
   ]
  },
  {
   "cell_type": "markdown",
   "metadata": {
    "kernel": "SoS"
   },
   "source": [
    "_Imports_"
   ]
  },
  {
   "cell_type": "code",
   "execution_count": 83,
   "metadata": {
    "kernel": "Python 3"
   },
   "outputs": [],
   "source": [
    "#Imports necesarios\n",
    "import  numpy, math     \n",
    "import numpy as np\n",
    "from sympy import *"
   ]
  },
  {
   "cell_type": "markdown",
   "metadata": {
    "kernel": "SoS"
   },
   "source": [
    "<h3><span style=\"color: #0000ff;\">Pregunta 1</span></h3>"
   ]
  },
  {
   "cell_type": "markdown",
   "metadata": {
    "kernel": "SoS"
   },
   "source": [
    "**Parte (a)**"
   ]
  },
  {
   "cell_type": "code",
   "execution_count": 84,
   "metadata": {
    "kernel": "Python 3"
   },
   "outputs": [],
   "source": [
    "def agregarD(M,x):\n",
    "    #Agrega la diagonal a la matriz\n",
    "    i=0\n",
    "    while i<len(M):\n",
    "        j=0\n",
    "        while j<len(M):\n",
    "            if i==j:\n",
    "                M[i][j] = x[j]\n",
    "            j+=1\n",
    "        i+=1\n",
    "                \n",
    "    return M\n",
    "\n",
    "def agregarI(M,x):\n",
    "    #Agrega la parte inferior de la diagonal a la matriz\n",
    "    i=1\n",
    "    while i<len(M):\n",
    "        j=0\n",
    "        if i==len(M)-1:\n",
    "\n",
    "            M[i][i-1]=x[-2]\n",
    "        while j<len(M)-1:\n",
    "            if i==j:\n",
    "                M[i][j-1] = x[j-1]\n",
    "            j+=1\n",
    "        i+=1\n",
    "    return M\n",
    "\n",
    "def agregarS(M,x):\n",
    "    #Agrega la parte superior de diagonal a la matriz\n",
    "    i=0\n",
    "    while i<len(M):\n",
    "        j=0\n",
    "        while j<len(M)-1:\n",
    "            if i==j:\n",
    "                M[i][j+1] = x[j+1]\n",
    "            j+=1\n",
    "        i+=1\n",
    "    return M\n",
    "\n",
    "def valoresTrigonal(a,b,n,t):\n",
    "    #genera un vector el cual es los valores de la matriz Trigonal\n",
    "    #Si t = 1 crea los valores de la parte superior o inferior de la diagonal de matriz \n",
    "    # el vector de salida en ese caso es [-1,-1,-1,...,-1]\n",
    "    #Si es diferente de 1, hace un vector con los valores de la diagonal\n",
    "    #el vector de salida en ese caso es [1+a/(a-b),2,2,....,2,1]\n",
    "    x=[]\n",
    "    i=0\n",
    "    if t==1:\n",
    "        while i<n:\n",
    "            x+=[-1]\n",
    "            i+=1\n",
    "    else:\n",
    "        while i<n:\n",
    "            if i==0:\n",
    "                x+=[1+(a/(a-b))]\n",
    "                i+=1\n",
    "            elif i==n-1:\n",
    "                x+=[1]\n",
    "                i+=1\n",
    "            else:\n",
    "                x+=[2]\n",
    "                i+=1\n",
    "    return x\n",
    "    \n",
    "\n",
    "def Trigonal(a,b,n):\n",
    "    #Esta funcion crea una matriz trigonal de orden n\n",
    "    #\n",
    "    #Input: Valores a,b diferentes y n>=0\n",
    "    #\n",
    "    #Output: Matriz nxn\n",
    "    #\n",
    "    if a==b:\n",
    "        #verifica que a sea diferente de b\n",
    "        return \"error a debe ser diferente de b\"\n",
    "    if n<3:\n",
    "        #verifica que n sea mayor o igual a 3\n",
    "        return \"error n debe ser mayor o igual a 3\"\n",
    "    #crea los valores de la diagonal\n",
    "    diag = valoresTrigonal(a,b,n,2)\n",
    "    #crea valores de parte inferior\n",
    "    inf = valoresTrigonal(a,b,n,1)\n",
    "    #crea valores de parte superior\n",
    "    sup = valoresTrigonal(a,b,n,1)\n",
    "    #crea matriz de 0 orden n\n",
    "    M = np.zeros((n,n))\n",
    "    \n",
    "    #agrega diagonal\n",
    "    agregarD(M,diag)\n",
    "    #agrega diagonal inferior\n",
    "    agregarI(M,inf)\n",
    "    #agrega diagonal superior\n",
    "    agregarS(M,sup)\n",
    "    \n",
    "    return M\n"
   ]
  },
  {
   "cell_type": "markdown",
   "metadata": {
    "kernel": "Python 3"
   },
   "source": [
    "**Parte (b)**"
   ]
  },
  {
   "cell_type": "code",
   "execution_count": 85,
   "metadata": {
    "kernel": "Python 3"
   },
   "outputs": [],
   "source": [
    "def matriz(a,b,n):\n",
    "    #Esta funcion crea una matriz  de orden n\n",
    "    #\n",
    "    #Input: Valores a,b diferentes y n>=0\n",
    "    #\n",
    "    #Output: Matriz nxn\n",
    "    #    \n",
    "    if a==b:\n",
    "        #verifica que a sea diferente de b\n",
    "        return \"error a debe ser diferente de b\"\n",
    "    if n<3:\n",
    "        #verifica que n sea mayor o igual a 3\n",
    "        return \"error n debe ser mayor o igual a 3\"\n",
    "    M = np.zeros((n,n))\n",
    "    i=0\n",
    "    while i<n:\n",
    "        j=0\n",
    "        while j<n:\n",
    "            a1 = a*(i+1)-b\n",
    "            a2 = a*(j+1)-b\n",
    "            M[i][j] = min(a1,a2) \n",
    "            j+=1\n",
    "        i+=1\n",
    "\n",
    "    return M"
   ]
  },
  {
   "cell_type": "markdown",
   "metadata": {
    "kernel": "SoS"
   },
   "source": [
    "<h3><span style=\"color: #0000ff;\">Pregunta 2</span></h3>"
   ]
  },
  {
   "cell_type": "markdown",
   "metadata": {
    "kernel": "Python 3"
   },
   "source": [
    "**Parte (a)**"
   ]
  },
  {
   "cell_type": "code",
   "execution_count": 100,
   "metadata": {
    "kernel": "Python 3"
   },
   "outputs": [],
   "source": [
    "def calcular_valP1(n):\n",
    "    #Funcion que calcula los valores propios del metodo M1\n",
    "    #Retorna un vector\n",
    "    vec = []\n",
    "    k=1\n",
    "    while k <= n:    \n",
    "        rk = ((2*k-1)*np.pi)/(2*n+1)\n",
    "        dk =(0.5)*((1-np.cos(2*rk))**(-1))\n",
    "        vec += [dk]\n",
    "        k+=1\n",
    "    return vec\n",
    "\n",
    "def calcular_vecP1(n):\n",
    "    #Calcula los vectores propios para el metodo M1\n",
    "    #retorna una matriz donde sus FILAS son vectores propios\n",
    "    vec = []\n",
    "    vec_rk = []\n",
    "    k=1\n",
    "    while k <= n:    \n",
    "        rk = ((2*k-1)*np.pi)/(2*n+1)\n",
    "        vec_rk += [rk]\n",
    "        k+=1\n",
    "    \n",
    "    for i in vec_rk:\n",
    "        v_xk = []\n",
    "        j=1\n",
    "        while j <= n:\n",
    "            xk = np.sin((j-1)*i)\n",
    "            v_xk += [xk]\n",
    "            j+=1\n",
    "        vec+=[v_xk]     \n",
    "    return vec\n",
    "\n",
    "def v_propios_m1(n):\n",
    "    #\n",
    "    #Esta funcion calcula los valores y vectores propios de una matriz nxn\n",
    "    #\n",
    "    #Input: Orden de la matriz, debe ser mayor o igual a 3.\n",
    "    #\n",
    "    #Output: Vector: valPropios, contiene los valores propios de la matiz\n",
    "    #        Matriz: vecPropios, es una matriz donde sus columnas representan vectores propios de la matriz\n",
    "    #\n",
    "    if n<3:\n",
    "        #Verifica si el numero es mayor o igual a 3\n",
    "        return \"error n debe ser mayor o igual a 3\"    \n",
    "    #Calcula los valores propios \n",
    "    valPropios = calcular_valP1(n)\n",
    "    #Calcula los vectores propios\n",
    "    vecPropios = np.array(calcular_vecP1(n))\n",
    "    #Calcula la transpuesta de vecPropios, porque estan puestos en fila pero se necesita en columnas\n",
    "    vecPropios = vecPropios.T\n",
    "    \n",
    "\n",
    "    return valPropios, vecPropios "
   ]
  },
  {
   "cell_type": "markdown",
   "metadata": {
    "kernel": "Python 3"
   },
   "source": [
    "**Parte (b)**"
   ]
  },
  {
   "cell_type": "code",
   "execution_count": 101,
   "metadata": {
    "kernel": "Python 3"
   },
   "outputs": [
    {
     "name": "stdout",
     "output_type": "stream",
     "text": [
      "[11.254368160031634, 1.327985277605682, 0.5403828618376256, 0.33333333333333337, 0.2630237709004218, 0.25140398741154757, 0.28850838692559144, 0.4089909514938964, 0.7878246730865669, 2.8775119307070143]\n",
      " \n",
      "[[ 0.00000000e+00  0.00000000e+00  0.00000000e+00  0.00000000e+00\n",
      "   0.00000000e+00  0.00000000e+00  0.00000000e+00  0.00000000e+00\n",
      "   0.00000000e+00  0.00000000e+00]\n",
      " [ 1.49042266e-01  4.33883739e-01  6.80172738e-01  8.66025404e-01\n",
      "   9.74927912e-01  9.97203797e-01  9.30873749e-01  7.81831482e-01\n",
      "   5.63320058e-01  2.94755174e-01]\n",
      " [ 2.94755174e-01  7.81831482e-01  9.97203797e-01  8.66025404e-01\n",
      "   4.33883739e-01 -1.49042266e-01 -6.80172738e-01 -9.74927912e-01\n",
      "  -9.30873749e-01 -5.63320058e-01]\n",
      " [ 4.33883739e-01  9.74927912e-01  7.81831482e-01  1.22464680e-16\n",
      "  -7.81831482e-01 -9.74927912e-01 -4.33883739e-01  4.33883739e-01\n",
      "   9.74927912e-01  7.81831482e-01]\n",
      " [ 5.63320058e-01  9.74927912e-01  1.49042266e-01 -8.66025404e-01\n",
      "  -7.81831482e-01  2.94755174e-01  9.97203797e-01  4.33883739e-01\n",
      "  -6.80172738e-01 -9.30873749e-01]\n",
      " [ 6.80172738e-01  7.81831482e-01 -5.63320058e-01 -8.66025404e-01\n",
      "   4.33883739e-01  9.30873749e-01 -2.94755174e-01 -9.74927912e-01\n",
      "   1.49042266e-01  9.97203797e-01]\n",
      " [ 7.81831482e-01  4.33883739e-01 -9.74927912e-01 -2.44929360e-16\n",
      "   9.74927912e-01 -4.33883739e-01 -7.81831482e-01  7.81831482e-01\n",
      "   4.33883739e-01 -9.74927912e-01]\n",
      " [ 8.66025404e-01  1.22464680e-16 -8.66025404e-01  8.66025404e-01\n",
      "   3.67394040e-16 -8.66025404e-01  8.66025404e-01  6.12323400e-16\n",
      "  -8.66025404e-01  8.66025404e-01]\n",
      " [ 9.30873749e-01 -4.33883739e-01 -2.94755174e-01  8.66025404e-01\n",
      "  -9.74927912e-01  5.63320058e-01  1.49042266e-01 -7.81831482e-01\n",
      "   9.97203797e-01 -6.80172738e-01]\n",
      " [ 9.74927912e-01 -7.81831482e-01  4.33883739e-01  3.67394040e-16\n",
      "  -4.33883739e-01  7.81831482e-01 -9.74927912e-01  9.74927912e-01\n",
      "  -7.81831482e-01  4.33883739e-01]]\n"
     ]
    }
   ],
   "source": [
    "#Se calculan los valores y vectores propios cuando n=10\n",
    "\n",
    "valores1,vectores1 = v_propios_m1(10)\n",
    "\n",
    "print(valores1)\n",
    "print(\" \")\n",
    "print(vectores1)"
   ]
  },
  {
   "cell_type": "markdown",
   "metadata": {
    "kernel": "SoS"
   },
   "source": [
    "<h3><span style=\"color: #0000ff;\">Pregunta 3</span></h3>"
   ]
  },
  {
   "cell_type": "markdown",
   "metadata": {
    "kernel": "Python 3"
   },
   "source": [
    "**Parte (a)**"
   ]
  },
  {
   "cell_type": "code",
   "execution_count": 110,
   "metadata": {
    "kernel": "Python 3"
   },
   "outputs": [],
   "source": [
    "def calcular_valP2(n):\n",
    "    #Funcion que calcula los valores propios del metodo M2\n",
    "    #Retorna un vector\n",
    "    vec = []\n",
    "    k=1\n",
    "    while k <= n:    \n",
    "        sk = ((2*k-1)*np.pi)/(4*n)\n",
    "        dk = ((1-np.cos(2*sk))**(-1))\n",
    "        vec += [dk]\n",
    "        k+=1\n",
    "    return vec\n",
    "\n",
    "def calcular_vecP2(n):\n",
    "    #Calcula los vectores propios para el metodo M2\n",
    "    #retorna una matriz donde sus FILAS son vectores propios\n",
    "    vec = []\n",
    "    vec_sk = []\n",
    "    k=1\n",
    "    while k <= n:    \n",
    "        sk = ((2*k-1)*np.pi)/(4*n)\n",
    "        vec_sk += [sk]\n",
    "        k+=1\n",
    "    \n",
    "    for i in vec_sk:\n",
    "        v_xk = []\n",
    "        j=1\n",
    "        while j <= n:\n",
    "            xk = np.sin((2*j-3)*i)\n",
    "            v_xk += [xk]\n",
    "            j+=1\n",
    "        vec+=[v_xk]\n",
    "    \n",
    "        \n",
    "    return vec\n",
    "\n",
    "def v_propios_m2(n):\n",
    "    #\n",
    "    #Esta funcion calcula los valores y vectores propios de una matriz nxn\n",
    "    #\n",
    "    #Input: Orden de la matriz, debe ser mayor o igual a 3.\n",
    "    #\n",
    "    #Output: Vector: valPropios, contiene los valores propios de la matiz\n",
    "    #        Matriz: vecPropios, es una matriz donde sus columnas representan vectores propios de la matriz\n",
    "    #\n",
    "    if n<3:\n",
    "        #Verifica si el numero es mayor o igual a 3\n",
    "        return \"error n debe ser mayor o igual a 3\"  \n",
    "    #Calcula los valores propios \n",
    "    valPropios = calcular_valP2(n)\n",
    "    #Calcula los vectores propios\n",
    "    vecPropios = np.array(calcular_vecP2(n))\n",
    "    #Calcula la transpuesta de vecPropios, porque estan puestos en fila pero se necesita en columnas\n",
    "    vecPropios = vecPropios.T\n",
    "    \n",
    "\n",
    "    return valPropios, vecPropios "
   ]
  },
  {
   "cell_type": "markdown",
   "metadata": {
    "kernel": "Python 3"
   },
   "source": [
    "**Parte (b)**"
   ]
  },
  {
   "cell_type": "code",
   "execution_count": 111,
   "metadata": {
    "kernel": "Python 3"
   },
   "outputs": [
    {
     "name": "stdout",
     "output_type": "stream",
     "text": [
      "[81.22381939879453, 9.174861087357645, 3.414213562373096, 1.8314699643925385, 1.1854443532329608, 0.8647269086408728, 0.6877624029724609, 0.585786437626905, 0.5288189052807242, 0.5030969793285541]\n",
      " \n",
      "[[-0.0784591  -0.23344536 -0.38268343 -0.52249856 -0.64944805 -0.76040597\n",
      "  -0.85264016 -0.92387953 -0.97236992 -0.99691733]\n",
      " [ 0.0784591   0.23344536  0.38268343  0.52249856  0.64944805  0.76040597\n",
      "   0.85264016  0.92387953  0.97236992  0.99691733]\n",
      " [ 0.23344536  0.64944805  0.92387953  0.99691733  0.85264016  0.52249856\n",
      "   0.0784591  -0.38268343 -0.76040597 -0.97236992]\n",
      " [ 0.38268343  0.92387953  0.92387953  0.38268343 -0.38268343 -0.92387953\n",
      "  -0.92387953 -0.38268343  0.38268343  0.92387953]\n",
      " [ 0.52249856  0.99691733  0.38268343 -0.64944805 -0.97236992 -0.23344536\n",
      "   0.76040597  0.92387953  0.0784591  -0.85264016]\n",
      " [ 0.64944805  0.85264016 -0.38268343 -0.97236992  0.0784591   0.99691733\n",
      "   0.23344536 -0.92387953 -0.52249856  0.76040597]\n",
      " [ 0.76040597  0.52249856 -0.92387953 -0.23344536  0.99691733 -0.0784591\n",
      "  -0.97236992  0.38268343  0.85264016 -0.64944805]\n",
      " [ 0.85264016  0.0784591  -0.92387953  0.76040597  0.23344536 -0.97236992\n",
      "   0.64944805  0.38268343 -0.99691733  0.52249856]\n",
      " [ 0.92387953 -0.38268343 -0.38268343  0.92387953 -0.92387953  0.38268343\n",
      "   0.38268343 -0.92387953  0.92387953 -0.38268343]\n",
      " [ 0.97236992 -0.76040597  0.38268343  0.0784591  -0.52249856  0.85264016\n",
      "  -0.99691733  0.92387953 -0.64944805  0.23344536]]\n"
     ]
    }
   ],
   "source": [
    "#Se calculan los valores y vectores propios cuando n=10\n",
    "\n",
    "valores2,vectores2 = v_propios_m2(10)\n",
    "\n",
    "print(valores2)\n",
    "print(\" \")\n",
    "print(vectores2)"
   ]
  },
  {
   "cell_type": "markdown",
   "metadata": {
    "kernel": "SoS"
   },
   "source": [
    "<h3><span style=\"color: #0000ff;\">Pregunta 4</span></h3>"
   ]
  },
  {
   "cell_type": "markdown",
   "metadata": {
    "kernel": "Python 3"
   },
   "source": [
    "**Parte (a)**"
   ]
  },
  {
   "cell_type": "code",
   "execution_count": 107,
   "metadata": {
    "kernel": "Python 3"
   },
   "outputs": [
    {
     "name": "stdout",
     "output_type": "stream",
     "text": [
      "Los valores propios de T son:\n",
      "[0.08885438842771864, 0.7530203962825328, 1.850539812827151, 2.9999999999999996, 3.801937735804838, 3.9776616524502573, 3.4661037436596525, 2.445041867912629, 1.2693179512672093, 0.3475224513680111]\n",
      "Los vectores propios de T son:\n",
      "[[ 0.00000000e+00  0.00000000e+00  0.00000000e+00  0.00000000e+00\n",
      "   0.00000000e+00  0.00000000e+00  0.00000000e+00  0.00000000e+00\n",
      "   0.00000000e+00  0.00000000e+00]\n",
      " [ 1.49042266e-01  4.33883739e-01  6.80172738e-01  8.66025404e-01\n",
      "   9.74927912e-01  9.97203797e-01  9.30873749e-01  7.81831482e-01\n",
      "   5.63320058e-01  2.94755174e-01]\n",
      " [ 2.94755174e-01  7.81831482e-01  9.97203797e-01  8.66025404e-01\n",
      "   4.33883739e-01 -1.49042266e-01 -6.80172738e-01 -9.74927912e-01\n",
      "  -9.30873749e-01 -5.63320058e-01]\n",
      " [ 4.33883739e-01  9.74927912e-01  7.81831482e-01  1.22464680e-16\n",
      "  -7.81831482e-01 -9.74927912e-01 -4.33883739e-01  4.33883739e-01\n",
      "   9.74927912e-01  7.81831482e-01]\n",
      " [ 5.63320058e-01  9.74927912e-01  1.49042266e-01 -8.66025404e-01\n",
      "  -7.81831482e-01  2.94755174e-01  9.97203797e-01  4.33883739e-01\n",
      "  -6.80172738e-01 -9.30873749e-01]\n",
      " [ 6.80172738e-01  7.81831482e-01 -5.63320058e-01 -8.66025404e-01\n",
      "   4.33883739e-01  9.30873749e-01 -2.94755174e-01 -9.74927912e-01\n",
      "   1.49042266e-01  9.97203797e-01]\n",
      " [ 7.81831482e-01  4.33883739e-01 -9.74927912e-01 -2.44929360e-16\n",
      "   9.74927912e-01 -4.33883739e-01 -7.81831482e-01  7.81831482e-01\n",
      "   4.33883739e-01 -9.74927912e-01]\n",
      " [ 8.66025404e-01  1.22464680e-16 -8.66025404e-01  8.66025404e-01\n",
      "   3.67394040e-16 -8.66025404e-01  8.66025404e-01  6.12323400e-16\n",
      "  -8.66025404e-01  8.66025404e-01]\n",
      " [ 9.30873749e-01 -4.33883739e-01 -2.94755174e-01  8.66025404e-01\n",
      "  -9.74927912e-01  5.63320058e-01  1.49042266e-01 -7.81831482e-01\n",
      "   9.97203797e-01 -6.80172738e-01]\n",
      " [ 9.74927912e-01 -7.81831482e-01  4.33883739e-01  3.67394040e-16\n",
      "  -4.33883739e-01  7.81831482e-01 -9.74927912e-01  9.74927912e-01\n",
      "  -7.81831482e-01  4.33883739e-01]]\n"
     ]
    }
   ],
   "source": [
    "#calculo con a=1, b=0\n",
    "\n",
    "valores1,vectores1 = v_propios_m1(10)\n",
    "\n",
    "#Como T=a*inv(C) podemos despejar a como T*C = a\n",
    "#Lo cual nos da la matriz identidad\n",
    "#\n",
    "#Por lo que se concluye que por Resultado 1:\n",
    "#         Los vectores propios de T son los mismod que C\n",
    "#         Los valores propios de T son 1/vectC\n",
    "\n",
    "def valoresP(T):\n",
    "    #invierte los valores propios de C\n",
    "    vec = []\n",
    "    for i in T:\n",
    "        vec +=[1/i]\n",
    "    return vec\n",
    "#Valores propios de T\n",
    "valoresT  = valoresP(valores1)\n",
    "#Vectores propios de T\n",
    "vectoresT = vectores1\n",
    "\n",
    "print(\"Los valores propios de T son:\")\n",
    "print(valoresT)\n",
    "print(\"Los vectores propios de T son:\")\n",
    "print(vectoresT)"
   ]
  },
  {
   "cell_type": "markdown",
   "metadata": {
    "kernel": "Python 3"
   },
   "source": [
    "**Parte (b)**"
   ]
  },
  {
   "cell_type": "code",
   "execution_count": 112,
   "metadata": {
    "kernel": "Python 3"
   },
   "outputs": [
    {
     "name": "stdout",
     "output_type": "stream",
     "text": [
      "Los valores propios de T son:\n",
      "[0.012311659404862231, 0.1089934758116321, 0.2928932188134524, 0.5460095002604533, 0.843565534959769, 1.1564344650402305, 1.4539904997395467, 1.7071067811865475, 1.891006524188368, 1.9876883405951375]\n",
      "Los vectores propios de T son:\n",
      "[[-0.0784591  -0.23344536 -0.38268343 -0.52249856 -0.64944805 -0.76040597\n",
      "  -0.85264016 -0.92387953 -0.97236992 -0.99691733]\n",
      " [ 0.0784591   0.23344536  0.38268343  0.52249856  0.64944805  0.76040597\n",
      "   0.85264016  0.92387953  0.97236992  0.99691733]\n",
      " [ 0.23344536  0.64944805  0.92387953  0.99691733  0.85264016  0.52249856\n",
      "   0.0784591  -0.38268343 -0.76040597 -0.97236992]\n",
      " [ 0.38268343  0.92387953  0.92387953  0.38268343 -0.38268343 -0.92387953\n",
      "  -0.92387953 -0.38268343  0.38268343  0.92387953]\n",
      " [ 0.52249856  0.99691733  0.38268343 -0.64944805 -0.97236992 -0.23344536\n",
      "   0.76040597  0.92387953  0.0784591  -0.85264016]\n",
      " [ 0.64944805  0.85264016 -0.38268343 -0.97236992  0.0784591   0.99691733\n",
      "   0.23344536 -0.92387953 -0.52249856  0.76040597]\n",
      " [ 0.76040597  0.52249856 -0.92387953 -0.23344536  0.99691733 -0.0784591\n",
      "  -0.97236992  0.38268343  0.85264016 -0.64944805]\n",
      " [ 0.85264016  0.0784591  -0.92387953  0.76040597  0.23344536 -0.97236992\n",
      "   0.64944805  0.38268343 -0.99691733  0.52249856]\n",
      " [ 0.92387953 -0.38268343 -0.38268343  0.92387953 -0.92387953  0.38268343\n",
      "   0.38268343 -0.92387953  0.92387953 -0.38268343]\n",
      " [ 0.97236992 -0.76040597  0.38268343  0.0784591  -0.52249856  0.85264016\n",
      "  -0.99691733  0.92387953 -0.64944805  0.23344536]]\n"
     ]
    }
   ],
   "source": [
    "#calculo con a=2, b=1\n",
    "\n",
    "valores2,vectores2 = v_propios_m2(10)\n",
    "\n",
    "#Como T=a*inv(C) podemos despejar a como T*C = a\n",
    "#Lo cual nos da la matriz identidad\n",
    "#\n",
    "#Por lo que se concluye que por Resultado 1:\n",
    "#         Los vectores propios de T son los mismod que C\n",
    "#         Los valores propios de T son 1/vectC\n",
    "\n",
    "def valoresP(T):\n",
    "    #invierte los valores propios de C\n",
    "    vec = []\n",
    "    for i in T:\n",
    "        vec +=[1/i]\n",
    "    return vec\n",
    "#Valores propios de T\n",
    "valoresT  = valoresP(valores2)\n",
    "#Vectores propios de T\n",
    "vectoresT = vectores2\n",
    "\n",
    "print(\"Los valores propios de T son:\")\n",
    "print(valoresT)\n",
    "print(\"Los vectores propios de T son:\")\n",
    "print(vectoresT)\n"
   ]
  }
 ],
 "metadata": {
  "kernelspec": {
   "display_name": "SoS",
   "language": "sos",
   "name": "sos"
  },
  "language_info": {
   "codemirror_mode": "sos",
   "file_extension": ".sos",
   "mimetype": "text/x-sos",
   "name": "sos",
   "nbconvert_exporter": "sos_notebook.converter.SoS_Exporter",
   "pygments_lexer": "sos"
  },
  "sos": {
   "kernels": [
    [
     "Python 3",
     "python3",
     "python3",
     "",
     ""
    ]
   ],
   "panel": {
    "displayed": false,
    "height": 0
   },
   "version": "0.21.7"
  }
 },
 "nbformat": 4,
 "nbformat_minor": 2
}
